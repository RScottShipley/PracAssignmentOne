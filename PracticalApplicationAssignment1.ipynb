{
 "cells": [
  {
   "cell_type": "markdown",
   "metadata": {},
   "source": [
    "### Will a Customer Accept the Coupon?\n",
    "\n",
    "**Context**\n",
    "\n",
    "Imagine driving through town and a coupon is delivered to your cell phone for a restaraunt near where you are driving. Would you accept that coupon and take a short detour to the restaraunt? Would you accept the coupon but use it on a sunbsequent trip? Would you ignore the coupon entirely? What if the coupon was for a bar instead of a restaraunt? What about a coffee house? Would you accept a bar coupon with a minor passenger in the car? What about if it was just you and your partner in the car? Would weather impact the rate of acceptance? What about the time of day?\n",
    "\n",
    "Obviously, proximity to the business is a factor on whether the coupon is delivered to the driver or not, but what are the factors that determine whether a driver accepts the coupon once it is delivered to them? How would you determine whether a driver is likely to accept a coupon?\n",
    "\n",
    "**Overview**\n",
    "\n",
    "The goal of this project is to use what you know about visualizations and probability distributions to distinguish between customers who accepted a driving coupon versus those that did not.\n",
    "\n",
    "**Data**\n",
    "\n",
    "This data comes to us from the UCI Machine Learning repository and was collected via a survey on Amazon Mechanical Turk. The survey describes different driving scenarios including the destination, current time, weather, passenger, etc., and then ask the person whether he will accept the coupon if he is the driver. Answers that the user will drive there ‘right away’ or ‘later before the coupon expires’ are labeled as ‘Y = 1’ and answers ‘no, I do not want the coupon’ are labeled as ‘Y = 0’.  There are five different types of coupons -- less expensive restaurants (under \\\\$20), coffee houses, carry out & take away, bar, and more expensive restaurants (\\\\$20 - \\\\$50). "
   ]
  },
  {
   "cell_type": "markdown",
   "metadata": {},
   "source": [
    "**Deliverables**\n",
    "\n",
    "Your final product should be a brief report that highlights the differences between customers who did and did not accept the coupons.  To explore the data you will utilize your knowledge of plotting, statistical summaries, and visualization using Python. You will publish your findings in a public facing github repository as your first portfolio piece. \n",
    "\n",
    "\n",
    "\n"
   ]
  },
  {
   "cell_type": "markdown",
   "metadata": {},
   "source": [
    "### Data Description\n",
    "Keep in mind that these values mentioned below are average values.\n",
    "\n",
    "The attributes of this data set include:\n",
    "1. User attributes\n",
    "    -  Gender: male, female\n",
    "    -  Age: below 21, 21 to 25, 26 to 30, etc.\n",
    "    -  Marital Status: single, married partner, unmarried partner, or widowed\n",
    "    -  Number of children: 0, 1, or more than 1\n",
    "    -  Education: high school, bachelors degree, associates degree, or graduate degree\n",
    "    -  Occupation: architecture & engineering, business & financial, etc.\n",
    "    -  Annual income: less than \\\\$12500, \\\\$12500 - \\\\$24999, \\\\$25000 - \\\\$37499, etc.\n",
    "    -  Number of times that he/she goes to a bar: 0, less than 1, 1 to 3, 4 to 8 or greater than 8\n",
    "    -  Number of times that he/she buys takeaway food: 0, less than 1, 1 to 3, 4 to 8 or greater\n",
    "    than 8\n",
    "    -  Number of times that he/she goes to a coffee house: 0, less than 1, 1 to 3, 4 to 8 or\n",
    "    greater than 8\n",
    "    -  Number of times that he/she eats at a restaurant with average expense less than \\\\$20 per\n",
    "    person: 0, less than 1, 1 to 3, 4 to 8 or greater than 8\n",
    "    -  Number of times that he/she goes to a bar: 0, less than 1, 1 to 3, 4 to 8 or greater than 8\n",
    "    \n",
    "\n",
    "2. Contextual attributes\n",
    "    - Driving destination: home, work, or no urgent destination\n",
    "    - Location of user, coupon and destination: we provide a map to show the geographical\n",
    "    location of the user, destination, and the venue, and we mark the distance between each\n",
    "    two places with time of driving. The user can see whether the venue is in the same\n",
    "    direction as the destination.\n",
    "    - Weather: sunny, rainy, or snowy\n",
    "    - Temperature: 30F, 55F, or 80F\n",
    "    - Time: 10AM, 2PM, or 6PM\n",
    "    - Passenger: alone, partner, kid(s), or friend(s)\n",
    "\n",
    "\n",
    "3. Coupon attributes\n",
    "    - time before it expires: 2 hours or one day"
   ]
  },
  {
   "cell_type": "code",
   "execution_count": 96,
   "metadata": {},
   "outputs": [],
   "source": [
    "import matplotlib.pyplot as plt\n",
    "import seaborn as sns\n",
    "import pandas as pd\n",
    "import numpy as np\n",
    "import plotly.express as px"
   ]
  },
  {
   "cell_type": "markdown",
   "metadata": {},
   "source": [
    "### Problems\n",
    "\n",
    "Use the prompts below to get started with your data analysis.  \n",
    "\n",
    "1. Read in the `coupons.csv` file.\n",
    "\n",
    "\n"
   ]
  },
  {
   "cell_type": "code",
   "execution_count": 3,
   "metadata": {},
   "outputs": [],
   "source": [
    "data = pd.read_csv('data/coupons.csv')"
   ]
  },
  {
   "cell_type": "code",
   "execution_count": 4,
   "metadata": {},
   "outputs": [
    {
     "data": {
      "text/html": [
       "<div>\n",
       "<style scoped>\n",
       "    .dataframe tbody tr th:only-of-type {\n",
       "        vertical-align: middle;\n",
       "    }\n",
       "\n",
       "    .dataframe tbody tr th {\n",
       "        vertical-align: top;\n",
       "    }\n",
       "\n",
       "    .dataframe thead th {\n",
       "        text-align: right;\n",
       "    }\n",
       "</style>\n",
       "<table border=\"1\" class=\"dataframe\">\n",
       "  <thead>\n",
       "    <tr style=\"text-align: right;\">\n",
       "      <th></th>\n",
       "      <th>destination</th>\n",
       "      <th>passanger</th>\n",
       "      <th>weather</th>\n",
       "      <th>temperature</th>\n",
       "      <th>time</th>\n",
       "      <th>coupon</th>\n",
       "      <th>expiration</th>\n",
       "      <th>gender</th>\n",
       "      <th>age</th>\n",
       "      <th>maritalStatus</th>\n",
       "      <th>...</th>\n",
       "      <th>CoffeeHouse</th>\n",
       "      <th>CarryAway</th>\n",
       "      <th>RestaurantLessThan20</th>\n",
       "      <th>Restaurant20To50</th>\n",
       "      <th>toCoupon_GEQ5min</th>\n",
       "      <th>toCoupon_GEQ15min</th>\n",
       "      <th>toCoupon_GEQ25min</th>\n",
       "      <th>direction_same</th>\n",
       "      <th>direction_opp</th>\n",
       "      <th>Y</th>\n",
       "    </tr>\n",
       "  </thead>\n",
       "  <tbody>\n",
       "    <tr>\n",
       "      <th>0</th>\n",
       "      <td>No Urgent Place</td>\n",
       "      <td>Alone</td>\n",
       "      <td>Sunny</td>\n",
       "      <td>55</td>\n",
       "      <td>2PM</td>\n",
       "      <td>Restaurant(&lt;20)</td>\n",
       "      <td>1d</td>\n",
       "      <td>Female</td>\n",
       "      <td>21</td>\n",
       "      <td>Unmarried partner</td>\n",
       "      <td>...</td>\n",
       "      <td>never</td>\n",
       "      <td>NaN</td>\n",
       "      <td>4~8</td>\n",
       "      <td>1~3</td>\n",
       "      <td>1</td>\n",
       "      <td>0</td>\n",
       "      <td>0</td>\n",
       "      <td>0</td>\n",
       "      <td>1</td>\n",
       "      <td>1</td>\n",
       "    </tr>\n",
       "    <tr>\n",
       "      <th>1</th>\n",
       "      <td>No Urgent Place</td>\n",
       "      <td>Friend(s)</td>\n",
       "      <td>Sunny</td>\n",
       "      <td>80</td>\n",
       "      <td>10AM</td>\n",
       "      <td>Coffee House</td>\n",
       "      <td>2h</td>\n",
       "      <td>Female</td>\n",
       "      <td>21</td>\n",
       "      <td>Unmarried partner</td>\n",
       "      <td>...</td>\n",
       "      <td>never</td>\n",
       "      <td>NaN</td>\n",
       "      <td>4~8</td>\n",
       "      <td>1~3</td>\n",
       "      <td>1</td>\n",
       "      <td>0</td>\n",
       "      <td>0</td>\n",
       "      <td>0</td>\n",
       "      <td>1</td>\n",
       "      <td>0</td>\n",
       "    </tr>\n",
       "    <tr>\n",
       "      <th>2</th>\n",
       "      <td>No Urgent Place</td>\n",
       "      <td>Friend(s)</td>\n",
       "      <td>Sunny</td>\n",
       "      <td>80</td>\n",
       "      <td>10AM</td>\n",
       "      <td>Carry out &amp; Take away</td>\n",
       "      <td>2h</td>\n",
       "      <td>Female</td>\n",
       "      <td>21</td>\n",
       "      <td>Unmarried partner</td>\n",
       "      <td>...</td>\n",
       "      <td>never</td>\n",
       "      <td>NaN</td>\n",
       "      <td>4~8</td>\n",
       "      <td>1~3</td>\n",
       "      <td>1</td>\n",
       "      <td>1</td>\n",
       "      <td>0</td>\n",
       "      <td>0</td>\n",
       "      <td>1</td>\n",
       "      <td>1</td>\n",
       "    </tr>\n",
       "    <tr>\n",
       "      <th>3</th>\n",
       "      <td>No Urgent Place</td>\n",
       "      <td>Friend(s)</td>\n",
       "      <td>Sunny</td>\n",
       "      <td>80</td>\n",
       "      <td>2PM</td>\n",
       "      <td>Coffee House</td>\n",
       "      <td>2h</td>\n",
       "      <td>Female</td>\n",
       "      <td>21</td>\n",
       "      <td>Unmarried partner</td>\n",
       "      <td>...</td>\n",
       "      <td>never</td>\n",
       "      <td>NaN</td>\n",
       "      <td>4~8</td>\n",
       "      <td>1~3</td>\n",
       "      <td>1</td>\n",
       "      <td>1</td>\n",
       "      <td>0</td>\n",
       "      <td>0</td>\n",
       "      <td>1</td>\n",
       "      <td>0</td>\n",
       "    </tr>\n",
       "    <tr>\n",
       "      <th>4</th>\n",
       "      <td>No Urgent Place</td>\n",
       "      <td>Friend(s)</td>\n",
       "      <td>Sunny</td>\n",
       "      <td>80</td>\n",
       "      <td>2PM</td>\n",
       "      <td>Coffee House</td>\n",
       "      <td>1d</td>\n",
       "      <td>Female</td>\n",
       "      <td>21</td>\n",
       "      <td>Unmarried partner</td>\n",
       "      <td>...</td>\n",
       "      <td>never</td>\n",
       "      <td>NaN</td>\n",
       "      <td>4~8</td>\n",
       "      <td>1~3</td>\n",
       "      <td>1</td>\n",
       "      <td>1</td>\n",
       "      <td>0</td>\n",
       "      <td>0</td>\n",
       "      <td>1</td>\n",
       "      <td>0</td>\n",
       "    </tr>\n",
       "  </tbody>\n",
       "</table>\n",
       "<p>5 rows × 26 columns</p>\n",
       "</div>"
      ],
      "text/plain": [
       "       destination  passanger weather  temperature  time  \\\n",
       "0  No Urgent Place      Alone   Sunny           55   2PM   \n",
       "1  No Urgent Place  Friend(s)   Sunny           80  10AM   \n",
       "2  No Urgent Place  Friend(s)   Sunny           80  10AM   \n",
       "3  No Urgent Place  Friend(s)   Sunny           80   2PM   \n",
       "4  No Urgent Place  Friend(s)   Sunny           80   2PM   \n",
       "\n",
       "                  coupon expiration  gender age      maritalStatus  ...  \\\n",
       "0        Restaurant(<20)         1d  Female  21  Unmarried partner  ...   \n",
       "1           Coffee House         2h  Female  21  Unmarried partner  ...   \n",
       "2  Carry out & Take away         2h  Female  21  Unmarried partner  ...   \n",
       "3           Coffee House         2h  Female  21  Unmarried partner  ...   \n",
       "4           Coffee House         1d  Female  21  Unmarried partner  ...   \n",
       "\n",
       "   CoffeeHouse CarryAway RestaurantLessThan20 Restaurant20To50  \\\n",
       "0        never       NaN                  4~8              1~3   \n",
       "1        never       NaN                  4~8              1~3   \n",
       "2        never       NaN                  4~8              1~3   \n",
       "3        never       NaN                  4~8              1~3   \n",
       "4        never       NaN                  4~8              1~3   \n",
       "\n",
       "  toCoupon_GEQ5min toCoupon_GEQ15min toCoupon_GEQ25min direction_same  \\\n",
       "0                1                 0                 0              0   \n",
       "1                1                 0                 0              0   \n",
       "2                1                 1                 0              0   \n",
       "3                1                 1                 0              0   \n",
       "4                1                 1                 0              0   \n",
       "\n",
       "  direction_opp  Y  \n",
       "0             1  1  \n",
       "1             1  0  \n",
       "2             1  1  \n",
       "3             1  0  \n",
       "4             1  0  \n",
       "\n",
       "[5 rows x 26 columns]"
      ]
     },
     "execution_count": 4,
     "metadata": {},
     "output_type": "execute_result"
    }
   ],
   "source": [
    "data.head()"
   ]
  },
  {
   "cell_type": "markdown",
   "metadata": {},
   "source": [
    "2. Investigate the dataset for missing or problematic data."
   ]
  },
  {
   "cell_type": "code",
   "execution_count": 10,
   "metadata": {},
   "outputs": [
    {
     "name": "stdout",
     "output_type": "stream",
     "text": [
      "<class 'pandas.core.frame.DataFrame'>\n",
      "RangeIndex: 12684 entries, 0 to 12683\n",
      "Data columns (total 25 columns):\n",
      " #   Column                Non-Null Count  Dtype \n",
      "---  ------                --------------  ----- \n",
      " 0   destination           12684 non-null  object\n",
      " 1   passanger             12684 non-null  object\n",
      " 2   weather               12684 non-null  object\n",
      " 3   temperature           12684 non-null  int64 \n",
      " 4   time                  12684 non-null  object\n",
      " 5   coupon                12684 non-null  object\n",
      " 6   expiration            12684 non-null  object\n",
      " 7   gender                12684 non-null  object\n",
      " 8   age                   12684 non-null  object\n",
      " 9   maritalStatus         12684 non-null  object\n",
      " 10  has_children          12684 non-null  int64 \n",
      " 11  education             12684 non-null  object\n",
      " 12  occupation            12684 non-null  object\n",
      " 13  income                12684 non-null  object\n",
      " 14  Bar                   12577 non-null  object\n",
      " 15  CoffeeHouse           12467 non-null  object\n",
      " 16  CarryAway             12533 non-null  object\n",
      " 17  RestaurantLessThan20  12554 non-null  object\n",
      " 18  Restaurant20To50      12495 non-null  object\n",
      " 19  toCoupon_GEQ5min      12684 non-null  int64 \n",
      " 20  toCoupon_GEQ15min     12684 non-null  int64 \n",
      " 21  toCoupon_GEQ25min     12684 non-null  int64 \n",
      " 22  direction_same        12684 non-null  int64 \n",
      " 23  direction_opp         12684 non-null  int64 \n",
      " 24  Y                     12684 non-null  int64 \n",
      "dtypes: int64(8), object(17)\n",
      "memory usage: 2.4+ MB\n"
     ]
    }
   ],
   "source": [
    "#car is mostly null so we can drop that column entirely\n",
    "data.info()"
   ]
  },
  {
   "cell_type": "markdown",
   "metadata": {},
   "source": [
    "3. Decide what to do about your missing data -- drop, replace, other..."
   ]
  },
  {
   "cell_type": "code",
   "execution_count": 11,
   "metadata": {},
   "outputs": [],
   "source": [
    "#data.drop(columns=['car']\n",
    "data = data.dropna()\n",
    "#drop any remaining null data from the table"
   ]
  },
  {
   "cell_type": "markdown",
   "metadata": {},
   "source": [
    "4. What proportion of the total observations chose to accept the coupon? \n",
    "\n"
   ]
  },
  {
   "cell_type": "code",
   "execution_count": 19,
   "metadata": {},
   "outputs": [
    {
     "data": {
      "text/plain": [
       "0.5693352098683666"
      ]
     },
     "execution_count": 19,
     "metadata": {},
     "output_type": "execute_result"
    }
   ],
   "source": [
    "totalAccept = data['Y'].sum()\n",
    "totalAccept / data.shape[0]\n",
    "#roughly 57% of the people accepted the coupon"
   ]
  },
  {
   "cell_type": "markdown",
   "metadata": {},
   "source": [
    "5. Use a bar plot to visualize the `coupon` column."
   ]
  },
  {
   "cell_type": "code",
   "execution_count": 26,
   "metadata": {},
   "outputs": [
    {
     "data": {
      "text/plain": [
       "<AxesSubplot:>"
      ]
     },
     "execution_count": 26,
     "metadata": {},
     "output_type": "execute_result"
    },
    {
     "data": {
      "image/png": "[encoded data removed]",
      "text/plain": [
       "<Figure size 640x480 with 1 Axes>"
      ]
     },
     "metadata": {},
     "output_type": "display_data"
    }
   ],
   "source": [
    "data['coupon'].hist(grid=True)"
   ]
  },
  {
   "cell_type": "markdown",
   "metadata": {},
   "source": [
    "6. Use a histogram to visualize the temperature column."
   ]
  },
  {
   "cell_type": "code",
   "execution_count": 28,
   "metadata": {},
   "outputs": [
    {
     "data": {
      "text/plain": [
       "array([55, 80, 30], dtype=int64)"
      ]
     },
     "execution_count": 28,
     "metadata": {},
     "output_type": "execute_result"
    },
    {
     "data": {
      "image/png": "[encoded data removed]",
      "text/plain": [
       "<Figure size 640x480 with 1 Axes>"
      ]
     },
     "metadata": {},
     "output_type": "display_data"
    }
   ],
   "source": [
    "plt.hist(data['temperature'])\n",
    "data['temperature'].unique()"
   ]
  },
  {
   "cell_type": "code",
   "execution_count": 30,
   "metadata": {},
   "outputs": [
    {
     "data": {
      "text/plain": [
       "array(['Restaurant(<20)', 'Coffee House', 'Bar', 'Carry out & Take away',\n",
       "       'Restaurant(20-50)'], dtype=object)"
      ]
     },
     "execution_count": 30,
     "metadata": {},
     "output_type": "execute_result"
    }
   ],
   "source": [
    "data['coupon'].unique()"
   ]
  },
  {
   "cell_type": "code",
   "execution_count": null,
   "metadata": {},
   "outputs": [],
   "source": []
  },
  {
   "cell_type": "code",
   "execution_count": null,
   "metadata": {},
   "outputs": [],
   "source": []
  },
  {
   "cell_type": "code",
   "execution_count": null,
   "metadata": {},
   "outputs": [],
   "source": []
  },
  {
   "cell_type": "markdown",
   "metadata": {},
   "source": [
    "**Investigating the Bar Coupons**\n",
    "\n",
    "Now, we will lead you through an exploration of just the bar related coupons.  \n",
    "\n",
    "1. Create a new `DataFrame` that contains just the bar coupons.\n"
   ]
  },
  {
   "cell_type": "code",
   "execution_count": 32,
   "metadata": {},
   "outputs": [
    {
     "data": {
      "text/html": [
       "<div>\n",
       "<style scoped>\n",
       "    .dataframe tbody tr th:only-of-type {\n",
       "        vertical-align: middle;\n",
       "    }\n",
       "\n",
       "    .dataframe tbody tr th {\n",
       "        vertical-align: top;\n",
       "    }\n",
       "\n",
       "    .dataframe thead th {\n",
       "        text-align: right;\n",
       "    }\n",
       "</style>\n",
       "<table border=\"1\" class=\"dataframe\">\n",
       "  <thead>\n",
       "    <tr style=\"text-align: right;\">\n",
       "      <th></th>\n",
       "      <th>destination</th>\n",
       "      <th>passanger</th>\n",
       "      <th>weather</th>\n",
       "      <th>temperature</th>\n",
       "      <th>time</th>\n",
       "      <th>coupon</th>\n",
       "      <th>expiration</th>\n",
       "      <th>gender</th>\n",
       "      <th>age</th>\n",
       "      <th>maritalStatus</th>\n",
       "      <th>...</th>\n",
       "      <th>CoffeeHouse</th>\n",
       "      <th>CarryAway</th>\n",
       "      <th>RestaurantLessThan20</th>\n",
       "      <th>Restaurant20To50</th>\n",
       "      <th>toCoupon_GEQ5min</th>\n",
       "      <th>toCoupon_GEQ15min</th>\n",
       "      <th>toCoupon_GEQ25min</th>\n",
       "      <th>direction_same</th>\n",
       "      <th>direction_opp</th>\n",
       "      <th>Y</th>\n",
       "    </tr>\n",
       "  </thead>\n",
       "  <tbody>\n",
       "    <tr>\n",
       "      <th>24</th>\n",
       "      <td>No Urgent Place</td>\n",
       "      <td>Friend(s)</td>\n",
       "      <td>Sunny</td>\n",
       "      <td>80</td>\n",
       "      <td>10AM</td>\n",
       "      <td>Bar</td>\n",
       "      <td>1d</td>\n",
       "      <td>Male</td>\n",
       "      <td>21</td>\n",
       "      <td>Single</td>\n",
       "      <td>...</td>\n",
       "      <td>less1</td>\n",
       "      <td>4~8</td>\n",
       "      <td>4~8</td>\n",
       "      <td>less1</td>\n",
       "      <td>1</td>\n",
       "      <td>0</td>\n",
       "      <td>0</td>\n",
       "      <td>0</td>\n",
       "      <td>1</td>\n",
       "      <td>1</td>\n",
       "    </tr>\n",
       "    <tr>\n",
       "      <th>35</th>\n",
       "      <td>Home</td>\n",
       "      <td>Alone</td>\n",
       "      <td>Sunny</td>\n",
       "      <td>55</td>\n",
       "      <td>6PM</td>\n",
       "      <td>Bar</td>\n",
       "      <td>1d</td>\n",
       "      <td>Male</td>\n",
       "      <td>21</td>\n",
       "      <td>Single</td>\n",
       "      <td>...</td>\n",
       "      <td>less1</td>\n",
       "      <td>4~8</td>\n",
       "      <td>4~8</td>\n",
       "      <td>less1</td>\n",
       "      <td>1</td>\n",
       "      <td>0</td>\n",
       "      <td>0</td>\n",
       "      <td>1</td>\n",
       "      <td>0</td>\n",
       "      <td>1</td>\n",
       "    </tr>\n",
       "    <tr>\n",
       "      <th>39</th>\n",
       "      <td>Work</td>\n",
       "      <td>Alone</td>\n",
       "      <td>Sunny</td>\n",
       "      <td>55</td>\n",
       "      <td>7AM</td>\n",
       "      <td>Bar</td>\n",
       "      <td>1d</td>\n",
       "      <td>Male</td>\n",
       "      <td>21</td>\n",
       "      <td>Single</td>\n",
       "      <td>...</td>\n",
       "      <td>less1</td>\n",
       "      <td>4~8</td>\n",
       "      <td>4~8</td>\n",
       "      <td>less1</td>\n",
       "      <td>1</td>\n",
       "      <td>1</td>\n",
       "      <td>1</td>\n",
       "      <td>0</td>\n",
       "      <td>1</td>\n",
       "      <td>1</td>\n",
       "    </tr>\n",
       "    <tr>\n",
       "      <th>46</th>\n",
       "      <td>No Urgent Place</td>\n",
       "      <td>Friend(s)</td>\n",
       "      <td>Sunny</td>\n",
       "      <td>80</td>\n",
       "      <td>10AM</td>\n",
       "      <td>Bar</td>\n",
       "      <td>1d</td>\n",
       "      <td>Male</td>\n",
       "      <td>46</td>\n",
       "      <td>Single</td>\n",
       "      <td>...</td>\n",
       "      <td>4~8</td>\n",
       "      <td>1~3</td>\n",
       "      <td>1~3</td>\n",
       "      <td>never</td>\n",
       "      <td>1</td>\n",
       "      <td>0</td>\n",
       "      <td>0</td>\n",
       "      <td>0</td>\n",
       "      <td>1</td>\n",
       "      <td>0</td>\n",
       "    </tr>\n",
       "    <tr>\n",
       "      <th>57</th>\n",
       "      <td>Home</td>\n",
       "      <td>Alone</td>\n",
       "      <td>Sunny</td>\n",
       "      <td>55</td>\n",
       "      <td>6PM</td>\n",
       "      <td>Bar</td>\n",
       "      <td>1d</td>\n",
       "      <td>Male</td>\n",
       "      <td>46</td>\n",
       "      <td>Single</td>\n",
       "      <td>...</td>\n",
       "      <td>4~8</td>\n",
       "      <td>1~3</td>\n",
       "      <td>1~3</td>\n",
       "      <td>never</td>\n",
       "      <td>1</td>\n",
       "      <td>0</td>\n",
       "      <td>0</td>\n",
       "      <td>1</td>\n",
       "      <td>0</td>\n",
       "      <td>0</td>\n",
       "    </tr>\n",
       "    <tr>\n",
       "      <th>...</th>\n",
       "      <td>...</td>\n",
       "      <td>...</td>\n",
       "      <td>...</td>\n",
       "      <td>...</td>\n",
       "      <td>...</td>\n",
       "      <td>...</td>\n",
       "      <td>...</td>\n",
       "      <td>...</td>\n",
       "      <td>...</td>\n",
       "      <td>...</td>\n",
       "      <td>...</td>\n",
       "      <td>...</td>\n",
       "      <td>...</td>\n",
       "      <td>...</td>\n",
       "      <td>...</td>\n",
       "      <td>...</td>\n",
       "      <td>...</td>\n",
       "      <td>...</td>\n",
       "      <td>...</td>\n",
       "      <td>...</td>\n",
       "      <td>...</td>\n",
       "    </tr>\n",
       "    <tr>\n",
       "      <th>12663</th>\n",
       "      <td>No Urgent Place</td>\n",
       "      <td>Friend(s)</td>\n",
       "      <td>Sunny</td>\n",
       "      <td>80</td>\n",
       "      <td>10PM</td>\n",
       "      <td>Bar</td>\n",
       "      <td>1d</td>\n",
       "      <td>Male</td>\n",
       "      <td>26</td>\n",
       "      <td>Single</td>\n",
       "      <td>...</td>\n",
       "      <td>never</td>\n",
       "      <td>1~3</td>\n",
       "      <td>4~8</td>\n",
       "      <td>1~3</td>\n",
       "      <td>1</td>\n",
       "      <td>1</td>\n",
       "      <td>0</td>\n",
       "      <td>0</td>\n",
       "      <td>1</td>\n",
       "      <td>0</td>\n",
       "    </tr>\n",
       "    <tr>\n",
       "      <th>12664</th>\n",
       "      <td>No Urgent Place</td>\n",
       "      <td>Friend(s)</td>\n",
       "      <td>Sunny</td>\n",
       "      <td>55</td>\n",
       "      <td>10PM</td>\n",
       "      <td>Bar</td>\n",
       "      <td>2h</td>\n",
       "      <td>Male</td>\n",
       "      <td>26</td>\n",
       "      <td>Single</td>\n",
       "      <td>...</td>\n",
       "      <td>never</td>\n",
       "      <td>1~3</td>\n",
       "      <td>4~8</td>\n",
       "      <td>1~3</td>\n",
       "      <td>1</td>\n",
       "      <td>1</td>\n",
       "      <td>0</td>\n",
       "      <td>0</td>\n",
       "      <td>1</td>\n",
       "      <td>0</td>\n",
       "    </tr>\n",
       "    <tr>\n",
       "      <th>12667</th>\n",
       "      <td>No Urgent Place</td>\n",
       "      <td>Alone</td>\n",
       "      <td>Rainy</td>\n",
       "      <td>55</td>\n",
       "      <td>10AM</td>\n",
       "      <td>Bar</td>\n",
       "      <td>1d</td>\n",
       "      <td>Male</td>\n",
       "      <td>26</td>\n",
       "      <td>Single</td>\n",
       "      <td>...</td>\n",
       "      <td>never</td>\n",
       "      <td>1~3</td>\n",
       "      <td>4~8</td>\n",
       "      <td>1~3</td>\n",
       "      <td>1</td>\n",
       "      <td>1</td>\n",
       "      <td>0</td>\n",
       "      <td>0</td>\n",
       "      <td>1</td>\n",
       "      <td>0</td>\n",
       "    </tr>\n",
       "    <tr>\n",
       "      <th>12670</th>\n",
       "      <td>No Urgent Place</td>\n",
       "      <td>Partner</td>\n",
       "      <td>Rainy</td>\n",
       "      <td>55</td>\n",
       "      <td>6PM</td>\n",
       "      <td>Bar</td>\n",
       "      <td>2h</td>\n",
       "      <td>Male</td>\n",
       "      <td>26</td>\n",
       "      <td>Single</td>\n",
       "      <td>...</td>\n",
       "      <td>never</td>\n",
       "      <td>1~3</td>\n",
       "      <td>4~8</td>\n",
       "      <td>1~3</td>\n",
       "      <td>1</td>\n",
       "      <td>1</td>\n",
       "      <td>0</td>\n",
       "      <td>0</td>\n",
       "      <td>1</td>\n",
       "      <td>0</td>\n",
       "    </tr>\n",
       "    <tr>\n",
       "      <th>12682</th>\n",
       "      <td>Work</td>\n",
       "      <td>Alone</td>\n",
       "      <td>Snowy</td>\n",
       "      <td>30</td>\n",
       "      <td>7AM</td>\n",
       "      <td>Bar</td>\n",
       "      <td>1d</td>\n",
       "      <td>Male</td>\n",
       "      <td>26</td>\n",
       "      <td>Single</td>\n",
       "      <td>...</td>\n",
       "      <td>never</td>\n",
       "      <td>1~3</td>\n",
       "      <td>4~8</td>\n",
       "      <td>1~3</td>\n",
       "      <td>1</td>\n",
       "      <td>1</td>\n",
       "      <td>1</td>\n",
       "      <td>0</td>\n",
       "      <td>1</td>\n",
       "      <td>0</td>\n",
       "    </tr>\n",
       "  </tbody>\n",
       "</table>\n",
       "<p>1913 rows × 25 columns</p>\n",
       "</div>"
      ],
      "text/plain": [
       "           destination  passanger weather  temperature  time coupon  \\\n",
       "24     No Urgent Place  Friend(s)   Sunny           80  10AM    Bar   \n",
       "35                Home      Alone   Sunny           55   6PM    Bar   \n",
       "39                Work      Alone   Sunny           55   7AM    Bar   \n",
       "46     No Urgent Place  Friend(s)   Sunny           80  10AM    Bar   \n",
       "57                Home      Alone   Sunny           55   6PM    Bar   \n",
       "...                ...        ...     ...          ...   ...    ...   \n",
       "12663  No Urgent Place  Friend(s)   Sunny           80  10PM    Bar   \n",
       "12664  No Urgent Place  Friend(s)   Sunny           55  10PM    Bar   \n",
       "12667  No Urgent Place      Alone   Rainy           55  10AM    Bar   \n",
       "12670  No Urgent Place    Partner   Rainy           55   6PM    Bar   \n",
       "12682             Work      Alone   Snowy           30   7AM    Bar   \n",
       "\n",
       "      expiration gender age maritalStatus  ...  CoffeeHouse CarryAway  \\\n",
       "24            1d   Male  21        Single  ...        less1       4~8   \n",
       "35            1d   Male  21        Single  ...        less1       4~8   \n",
       "39            1d   Male  21        Single  ...        less1       4~8   \n",
       "46            1d   Male  46        Single  ...          4~8       1~3   \n",
       "57            1d   Male  46        Single  ...          4~8       1~3   \n",
       "...          ...    ...  ..           ...  ...          ...       ...   \n",
       "12663         1d   Male  26        Single  ...        never       1~3   \n",
       "12664         2h   Male  26        Single  ...        never       1~3   \n",
       "12667         1d   Male  26        Single  ...        never       1~3   \n",
       "12670         2h   Male  26        Single  ...        never       1~3   \n",
       "12682         1d   Male  26        Single  ...        never       1~3   \n",
       "\n",
       "      RestaurantLessThan20 Restaurant20To50 toCoupon_GEQ5min  \\\n",
       "24                     4~8            less1                1   \n",
       "35                     4~8            less1                1   \n",
       "39                     4~8            less1                1   \n",
       "46                     1~3            never                1   \n",
       "57                     1~3            never                1   \n",
       "...                    ...              ...              ...   \n",
       "12663                  4~8              1~3                1   \n",
       "12664                  4~8              1~3                1   \n",
       "12667                  4~8              1~3                1   \n",
       "12670                  4~8              1~3                1   \n",
       "12682                  4~8              1~3                1   \n",
       "\n",
       "      toCoupon_GEQ15min toCoupon_GEQ25min direction_same direction_opp  Y  \n",
       "24                    0                 0              0             1  1  \n",
       "35                    0                 0              1             0  1  \n",
       "39                    1                 1              0             1  1  \n",
       "46                    0                 0              0             1  0  \n",
       "57                    0                 0              1             0  0  \n",
       "...                 ...               ...            ...           ... ..  \n",
       "12663                 1                 0              0             1  0  \n",
       "12664                 1                 0              0             1  0  \n",
       "12667                 1                 0              0             1  0  \n",
       "12670                 1                 0              0             1  0  \n",
       "12682                 1                 1              0             1  0  \n",
       "\n",
       "[1913 rows x 25 columns]"
      ]
     },
     "execution_count": 32,
     "metadata": {},
     "output_type": "execute_result"
    }
   ],
   "source": [
    "barCouponsDf = data.loc[data['coupon'] == 'Bar']\n",
    "barCouponsDf"
   ]
  },
  {
   "cell_type": "markdown",
   "metadata": {},
   "source": [
    "2. What proportion of bar coupons were accepted?\n"
   ]
  },
  {
   "cell_type": "code",
   "execution_count": 33,
   "metadata": {},
   "outputs": [
    {
     "data": {
      "text/plain": [
       "0.41191845269210664"
      ]
     },
     "execution_count": 33,
     "metadata": {},
     "output_type": "execute_result"
    }
   ],
   "source": [
    "barCouponsDf['Y'].sum() / barCouponsDf.shape[0]\n",
    "#roughly 41.2% of the bar coupons were accepted"
   ]
  },
  {
   "cell_type": "markdown",
   "metadata": {},
   "source": [
    "3. Compare the acceptance rate between those who went to a bar 3 or fewer times a month to those who went more.\n"
   ]
  },
  {
   "cell_type": "code",
   "execution_count": 47,
   "metadata": {},
   "outputs": [
    {
     "name": "stdout",
     "output_type": "stream",
     "text": [
      "              Y\n",
      "Bar            \n",
      "1~3    0.128071\n",
      "4~8    0.059592\n",
      "gt8    0.017250\n",
      "less1  0.129117\n",
      "never  0.077888\n"
     ]
    }
   ],
   "source": [
    "groupBar = barCouponsDf.groupby('Bar')[['Y']].sum() / barCouponsDf.shape[0]\n",
    "print(groupBar)\n",
    "#We can see that people who went 3 times or less per month only make up roughly 39% of the people who accepted a coupon there\n",
    "#The remaining 61% is from people who frequent bars more often."
   ]
  },
  {
   "cell_type": "markdown",
   "metadata": {},
   "source": [
    "4. Compare the acceptance rate between drivers who go to a bar more than once a month and are over the age of 25 to the all others.  Is there a difference?\n"
   ]
  },
  {
   "cell_type": "code",
   "execution_count": 56,
   "metadata": {},
   "outputs": [
    {
     "name": "stdout",
     "output_type": "stream",
     "text": [
      "                Y\n",
      "age              \n",
      "21       0.104548\n",
      "26       0.093570\n",
      "31       0.063774\n",
      "36       0.031364\n",
      "41       0.039205\n",
      "46       0.019864\n",
      "50plus   0.041819\n",
      "below21  0.017773\n"
     ]
    }
   ],
   "source": [
    "groupOver25 = barCouponsDf.groupby('age')[['Y']].sum()/barCouponsDf.shape[0]\n",
    "print(groupOver25)\n",
    "#Of the people that accepted the coupons only 12% of the people that accepted a coupon for the bar were under the age of 25\n",
    "#The remaining 88% were all people who are above the age 25."
   ]
  },
  {
   "cell_type": "markdown",
   "metadata": {},
   "source": [
    "5. Use the same process to compare the acceptance rate between drivers who go to bars more than once a month and had passengers that were not a kid and had occupations other than farming, fishing, or forestry. \n"
   ]
  },
  {
   "cell_type": "code",
   "execution_count": 76,
   "metadata": {},
   "outputs": [
    {
     "name": "stdout",
     "output_type": "stream",
     "text": [
      "                                                  Y\n",
      "occupation                                         \n",
      "Architecture & Engineering                 0.001568\n",
      "Arts Design Entertainment Sports & Media   0.003659\n",
      "Building & Grounds Cleaning & Maintenance  0.000523\n",
      "Business & Financial                       0.003659\n",
      "Computer & Mathematical                    0.005750\n",
      "Construction & Extraction                  0.001568\n",
      "Education&Training&Library                 0.001568\n",
      "Food Preparation & Serving Related         0.003136\n",
      "Healthcare Practitioners & Technical       0.002091\n",
      "Healthcare Support                         0.001045\n",
      "Installation Maintenance & Repair          0.000523\n",
      "Legal                                      0.001568\n",
      "Life Physical Social Science               0.000000\n",
      "Management                                 0.004705\n",
      "Office & Administrative Support            0.005750\n",
      "Personal Care & Service                    0.000523\n",
      "Production Occupations                     0.001045\n",
      "Protective Service                         0.002614\n",
      "Retired                                    0.000000\n",
      "Sales & Related                            0.007841\n",
      "Student                                    0.009409\n",
      "Transportation & Material Moving           0.002091\n",
      "Unemployed                                 0.009932\n",
      "0.07056978567694719\n"
     ]
    }
   ],
   "source": [
    "acceptedPass = ['Friend(s)', 'Partner']\n",
    "passDf = barCouponsDf.loc[barCouponsDf['passanger'].isin(acceptedPass)]\n",
    "acceptedFreq = ['1~3', '4~8', 'gt8']\n",
    "passFreqDf = passDf.loc[passDf['Bar'].isin(acceptedFreq)]\n",
    "groupOccDf = passFreqDf.groupby('occupation')[['Y']].sum()/barCouponsDf.shape[0]\n",
    "print(groupOccDf)\n",
    "sumPercents = groupOccDf['Y'].sum()\n",
    "print(sumPercents)\n",
    "#Seeing that farming, fishing, and forestry had a collective 0%, this shows that the percentage of people who accepted the bar\n",
    "#coupon from the group of drivers with a passanger that wasn't a kid, and frequented bars more than once a month\n",
    "#was 7.06% of the total people who accepted the coupon."
   ]
  },
  {
   "cell_type": "markdown",
   "metadata": {},
   "source": [
    "6. Compare the acceptance rates between those drivers who:\n",
    "\n",
    "- go to bars more than once a month, had passengers that were not a kid, and were not widowed *OR*\n",
    "- go to bars more than once a month and are under the age of 30 *OR*\n",
    "- go to cheap restaurants more than 4 times a month and income is less than 50K. \n",
    "\n"
   ]
  },
  {
   "cell_type": "code",
   "execution_count": 86,
   "metadata": {},
   "outputs": [
    {
     "data": {
      "text/plain": [
       "0.18818609513852588"
      ]
     },
     "execution_count": 86,
     "metadata": {},
     "output_type": "execute_result"
    }
   ],
   "source": [
    "#data['income'].unique()\n",
    "acceptedIncome = ['Less than $12500', '$12500 - $24999', '$25000 - $37499', '$37500 - $49999']\n",
    "#data['Bar'].unique()\n",
    "acceptedFreq = ['1~3', '4~8', 'gt8']\n",
    "#data['passanger'].unique()\n",
    "acceptedPass = ['Friend(s)', 'Partner']\n",
    "#data['maritalStatus'].unique()\n",
    "acceptedStatus = ['Single', 'Married partner', 'Unmarried partner', 'Divorced']\n",
    "#data['age'].unique()\n",
    "acceptedAge = ['below21', '21', '26']\n",
    "#data['RestaurantLessThan20'].unique()\n",
    "acceptedResFreq = ['4~8', 'gt8']\n",
    "\n",
    "#create new dataframe matching conditions set\n",
    "condDf = barCouponsDf.loc[((barCouponsDf['Bar'].isin(acceptedFreq)) & (barCouponsDf['passanger'].isin(acceptedPass)) & \n",
    "                         (barCouponsDf['maritalStatus'].isin(acceptedStatus))) | ((barCouponsDf['Bar'].isin(acceptedFreq)) &\n",
    "                         (barCouponsDf['age'].isin(acceptedAge))) | ((barCouponsDf['RestaurantLessThan20'].isin(acceptedResFreq)) &\n",
    "                         (barCouponsDf['income'].isin(acceptedIncome)))]\n",
    "#get the ratio of people who fall into these categories\n",
    "condDf['Y'].sum() / barCouponsDf.shape[0]\n",
    "#This shows that of the people who took a bar coupon only 18.8% of them fall into these conditions.\n",
    "\n"
   ]
  },
  {
   "cell_type": "markdown",
   "metadata": {},
   "source": [
    "7.  Based on these observations, what do you hypothesize about drivers who accepted the bar coupons?"
   ]
  },
  {
   "cell_type": "code",
   "execution_count": null,
   "metadata": {},
   "outputs": [],
   "source": [
    "From the information and analysis, I hypothesize that the majority of drivers that accepted the bar coupons were majorly above\n",
    "the age of 21, did not have children in the car with them, and either had an unmarried partner or a spouse. "
   ]
  },
  {
   "cell_type": "markdown",
   "metadata": {},
   "source": [
    "### Independent Investigation\n",
    "\n",
    "Using the bar coupon example as motivation, you are to explore one of the other coupon groups and try to determine the characteristics of passengers who accept the coupons.  "
   ]
  },
  {
   "cell_type": "code",
   "execution_count": 148,
   "metadata": {},
   "outputs": [
    {
     "data": {
      "application/vnd.plotly.v1+json": {
       "config": {
        "plotlyServerURL": "https://plot.ly"
       },
       "data": [
        {
         "alignmentgroup": "True",
         "bingroup": "x",
         "hovertemplate": "occupation=Architecture & Engineering<br>income=%{x}<br>count=%{y}<extra></extra>",
         "legendgroup": "Architecture & Engineering",
         "marker": {
          "color": "#636efa",
          "pattern": {
           "shape": ""
          }
         },
         "name": "Architecture & Engineering",
         "offsetgroup": "Architecture & Engineering",
         "orientation": "v",
         "showlegend": true,
         "type": "histogram",
         "x": [
          "$62500 - $74999",
          "$62500 - $74999",
          "$62500 - $74999",
          "$62500 - $74999",
          "$75000 - $87499",
          "$75000 - $87499",
          "$75000 - $87499",
          "$75000 - $87499",
          "$100000 or More",
          "$100000 or More",
          "$100000 or More",
          "$100000 or More",
          "$100000 or More",
          "$100000 or More",
          "$50000 - $62499",
          "$50000 - $62499",
          "$50000 - $62499",
          "$50000 - $62499",
          "$37500 - $49999",
          "$37500 - $49999",
          "$37500 - $49999",
          "$37500 - $49999",
          "$37500 - $49999",
          "$87500 - $99999",
          "$87500 - $99999",
          "$87500 - $99999",
          "$87500 - $99999",
          "$87500 - $99999",
          "$87500 - $99999",
          "$100000 or More",
          "$100000 or More",
          "$100000 or More",
          "$100000 or More",
          "$100000 or More",
          "$100000 or More",
          "$75000 - $87499",
          "$75000 - $87499",
          "$75000 - $87499",
          "$75000 - $87499"
         ],
         "xaxis": "x",
         "yaxis": "y"
        },
        {
         "alignmentgroup": "True",
         "bingroup": "x",
         "hovertemplate": "occupation=Student<br>income=%{x}<br>count=%{y}<extra></extra>",
         "legendgroup": "Student",
         "marker": {
          "color": "#EF553B",
          "pattern": {
           "shape": ""
          }
         },
         "name": "Student",
         "offsetgroup": "Student",
         "orientation": "v",
         "showlegend": true,
         "type": "histogram",
         "x": [
          "$12500 - $24999",
          "$12500 - $24999",
          "$12500 - $24999",
          "$12500 - $24999",
          "$12500 - $24999",
          "$12500 - $24999",
          "$12500 - $24999",
          "$12500 - $24999",
          "$50000 - $62499",
          "$50000 - $62499",
          "$50000 - $62499",
          "$50000 - $62499",
          "$75000 - $87499",
          "$75000 - $87499",
          "$75000 - $87499",
          "$100000 or More",
          "$100000 or More",
          "$100000 or More",
          "$100000 or More",
          "$25000 - $37499",
          "$25000 - $37499",
          "$25000 - $37499",
          "$25000 - $37499",
          "$25000 - $37499",
          "$25000 - $37499",
          "$62500 - $74999",
          "$62500 - $74999",
          "$62500 - $74999",
          "$62500 - $74999",
          "$37500 - $49999",
          "$37500 - $49999",
          "$37500 - $49999",
          "$37500 - $49999",
          "$12500 - $24999",
          "$12500 - $24999",
          "$12500 - $24999",
          "$12500 - $24999",
          "$12500 - $24999",
          "$12500 - $24999",
          "$12500 - $24999",
          "$12500 - $24999",
          "$12500 - $24999",
          "$12500 - $24999",
          "$12500 - $24999",
          "$12500 - $24999",
          "$12500 - $24999",
          "$12500 - $24999",
          "$100000 or More",
          "$100000 or More",
          "$100000 or More",
          "$100000 or More",
          "$100000 or More",
          "$100000 or More",
          "$100000 or More",
          "$100000 or More",
          "$50000 - $62499",
          "$50000 - $62499",
          "$50000 - $62499",
          "$50000 - $62499",
          "$62500 - $74999",
          "$62500 - $74999",
          "$62500 - $74999",
          "$62500 - $74999",
          "$12500 - $24999",
          "$12500 - $24999",
          "$12500 - $24999",
          "$12500 - $24999",
          "$50000 - $62499",
          "$50000 - $62499",
          "$50000 - $62499",
          "$50000 - $62499",
          "$100000 or More",
          "$100000 or More",
          "$100000 or More",
          "$100000 or More",
          "Less than $12500",
          "Less than $12500",
          "Less than $12500",
          "Less than $12500",
          "$62500 - $74999",
          "$62500 - $74999",
          "$62500 - $74999",
          "$62500 - $74999",
          "Less than $12500",
          "Less than $12500",
          "Less than $12500",
          "Less than $12500",
          "Less than $12500",
          "$100000 or More",
          "$100000 or More",
          "$100000 or More",
          "$100000 or More",
          "$100000 or More",
          "Less than $12500",
          "Less than $12500",
          "Less than $12500",
          "Less than $12500",
          "Less than $12500",
          "$12500 - $24999",
          "$12500 - $24999",
          "$12500 - $24999",
          "$12500 - $24999",
          "$12500 - $24999",
          "$25000 - $37499",
          "$25000 - $37499",
          "$25000 - $37499",
          "$25000 - $37499",
          "$25000 - $37499",
          "$25000 - $37499",
          "$25000 - $37499",
          "$25000 - $37499",
          "$25000 - $37499",
          "$25000 - $37499",
          "$50000 - $62499",
          "$50000 - $62499",
          "$50000 - $62499",
          "$50000 - $62499",
          "$50000 - $62499",
          "$37500 - $49999",
          "$37500 - $49999",
          "$37500 - $49999",
          "$37500 - $49999",
          "$37500 - $49999",
          "$62500 - $74999",
          "$62500 - $74999",
          "$62500 - $74999",
          "$62500 - $74999",
          "$62500 - $74999",
          "$50000 - $62499",
          "$50000 - $62499",
          "$50000 - $62499",
          "$50000 - $62499",
          "$50000 - $62499",
          "$50000 - $62499",
          "$50000 - $62499",
          "$50000 - $62499",
          "$50000 - $62499",
          "$50000 - $62499",
          "$25000 - $37499",
          "$25000 - $37499",
          "$25000 - $37499",
          "$25000 - $37499",
          "$25000 - $37499",
          "Less than $12500",
          "Less than $12500",
          "Less than $12500",
          "Less than $12500",
          "Less than $12500",
          "$50000 - $62499",
          "$50000 - $62499",
          "$50000 - $62499",
          "$50000 - $62499",
          "$50000 - $62499",
          "$100000 or More",
          "$100000 or More",
          "$100000 or More",
          "$100000 or More",
          "$100000 or More",
          "Less than $12500",
          "Less than $12500",
          "Less than $12500",
          "Less than $12500",
          "Less than $12500",
          "$12500 - $24999",
          "$12500 - $24999",
          "$12500 - $24999",
          "$12500 - $24999",
          "$12500 - $24999",
          "Less than $12500",
          "Less than $12500",
          "Less than $12500",
          "Less than $12500",
          "Less than $12500",
          "$37500 - $49999",
          "$37500 - $49999",
          "$37500 - $49999",
          "$37500 - $49999",
          "$37500 - $49999",
          "$87500 - $99999",
          "$87500 - $99999",
          "$87500 - $99999",
          "$87500 - $99999",
          "$87500 - $99999",
          "$87500 - $99999",
          "$12500 - $24999",
          "$12500 - $24999",
          "$12500 - $24999",
          "$12500 - $24999",
          "$87500 - $99999",
          "$87500 - $99999",
          "$87500 - $99999",
          "$12500 - $24999",
          "$12500 - $24999",
          "$12500 - $24999",
          "$12500 - $24999",
          "$12500 - $24999",
          "Less than $12500",
          "Less than $12500",
          "Less than $12500",
          "Less than $12500",
          "$87500 - $99999",
          "$87500 - $99999",
          "$87500 - $99999",
          "$87500 - $99999",
          "$87500 - $99999",
          "$37500 - $49999",
          "$37500 - $49999",
          "$37500 - $49999",
          "$37500 - $49999",
          "$37500 - $49999",
          "$100000 or More",
          "$100000 or More",
          "$100000 or More",
          "$100000 or More",
          "$62500 - $74999",
          "$62500 - $74999",
          "$62500 - $74999",
          "$62500 - $74999",
          "$12500 - $24999",
          "$12500 - $24999",
          "$12500 - $24999",
          "$12500 - $24999",
          "Less than $12500",
          "Less than $12500",
          "Less than $12500",
          "Less than $12500",
          "$25000 - $37499",
          "$25000 - $37499",
          "$25000 - $37499",
          "$25000 - $37499",
          "$25000 - $37499",
          "$25000 - $37499",
          "Less than $12500",
          "Less than $12500",
          "Less than $12500",
          "Less than $12500",
          "Less than $12500",
          "Less than $12500",
          "Less than $12500",
          "Less than $12500",
          "Less than $12500",
          "$87500 - $99999",
          "$87500 - $99999",
          "$87500 - $99999",
          "Less than $12500",
          "Less than $12500",
          "Less than $12500",
          "Less than $12500",
          "Less than $12500",
          "Less than $12500",
          "Less than $12500",
          "Less than $12500",
          "Less than $12500",
          "Less than $12500",
          "Less than $12500",
          "Less than $12500",
          "$37500 - $49999",
          "$37500 - $49999",
          "$37500 - $49999",
          "$37500 - $49999",
          "$100000 or More",
          "$100000 or More",
          "$100000 or More",
          "$100000 or More",
          "$100000 or More",
          "$100000 or More",
          "$12500 - $24999",
          "$12500 - $24999",
          "$12500 - $24999",
          "$12500 - $24999",
          "$12500 - $24999",
          "$12500 - $24999",
          "$25000 - $37499",
          "$25000 - $37499",
          "$25000 - $37499",
          "$25000 - $37499",
          "$25000 - $37499",
          "$25000 - $37499",
          "$25000 - $37499",
          "$25000 - $37499",
          "$25000 - $37499",
          "$25000 - $37499",
          "$25000 - $37499",
          "$25000 - $37499",
          "$12500 - $24999",
          "$12500 - $24999",
          "$12500 - $24999",
          "$12500 - $24999",
          "$12500 - $24999",
          "$12500 - $24999",
          "Less than $12500",
          "Less than $12500",
          "Less than $12500",
          "Less than $12500",
          "Less than $12500",
          "Less than $12500",
          "$25000 - $37499",
          "$25000 - $37499",
          "$25000 - $37499",
          "$25000 - $37499",
          "$25000 - $37499",
          "$25000 - $37499",
          "Less than $12500",
          "Less than $12500",
          "Less than $12500",
          "Less than $12500",
          "Less than $12500",
          "Less than $12500",
          "$100000 or More",
          "$100000 or More",
          "$100000 or More",
          "$100000 or More",
          "$100000 or More",
          "$100000 or More",
          "Less than $12500",
          "Less than $12500",
          "Less than $12500",
          "Less than $12500",
          "Less than $12500",
          "Less than $12500",
          "$12500 - $24999",
          "$12500 - $24999",
          "$12500 - $24999",
          "$12500 - $24999",
          "$12500 - $24999",
          "$12500 - $24999"
         ],
         "xaxis": "x",
         "yaxis": "y"
        },
        {
         "alignmentgroup": "True",
         "bingroup": "x",
         "hovertemplate": "occupation=Education&Training&Library<br>income=%{x}<br>count=%{y}<extra></extra>",
         "legendgroup": "Education&Training&Library",
         "marker": {
          "color": "#00cc96",
          "pattern": {
           "shape": ""
          }
         },
         "name": "Education&Training&Library",
         "offsetgroup": "Education&Training&Library",
         "orientation": "v",
         "showlegend": true,
         "type": "histogram",
         "x": [
          "$75000 - $87499",
          "$75000 - $87499",
          "$75000 - $87499",
          "$75000 - $87499",
          "$75000 - $87499",
          "$75000 - $87499",
          "$50000 - $62499",
          "$50000 - $62499",
          "$50000 - $62499",
          "$50000 - $62499",
          "$50000 - $62499",
          "$50000 - $62499",
          "$25000 - $37499",
          "$25000 - $37499",
          "$25000 - $37499",
          "$25000 - $37499",
          "$87500 - $99999",
          "$87500 - $99999",
          "$87500 - $99999",
          "$87500 - $99999",
          "$87500 - $99999",
          "$87500 - $99999",
          "$25000 - $37499",
          "$25000 - $37499",
          "$25000 - $37499",
          "$25000 - $37499",
          "$50000 - $62499",
          "$50000 - $62499",
          "$50000 - $62499",
          "$50000 - $62499",
          "$50000 - $62499",
          "$50000 - $62499",
          "$50000 - $62499",
          "$50000 - $62499",
          "$50000 - $62499",
          "$50000 - $62499",
          "$50000 - $62499",
          "$50000 - $62499",
          "$25000 - $37499",
          "$25000 - $37499",
          "$25000 - $37499",
          "$25000 - $37499",
          "$25000 - $37499",
          "$25000 - $37499",
          "$100000 or More",
          "$100000 or More",
          "$100000 or More",
          "$100000 or More",
          "$100000 or More",
          "$100000 or More",
          "$50000 - $62499",
          "$50000 - $62499",
          "$50000 - $62499",
          "$50000 - $62499",
          "$50000 - $62499",
          "$50000 - $62499",
          "$25000 - $37499",
          "$25000 - $37499",
          "$25000 - $37499",
          "$25000 - $37499",
          "$100000 or More",
          "$100000 or More",
          "$100000 or More",
          "$100000 or More",
          "$100000 or More",
          "$100000 or More",
          "$50000 - $62499",
          "$50000 - $62499",
          "$50000 - $62499",
          "$50000 - $62499",
          "$50000 - $62499",
          "$12500 - $24999",
          "$12500 - $24999",
          "$12500 - $24999",
          "$12500 - $24999",
          "$12500 - $24999",
          "$37500 - $49999",
          "$37500 - $49999",
          "$37500 - $49999",
          "$37500 - $49999",
          "$37500 - $49999",
          "$37500 - $49999",
          "$37500 - $49999",
          "$37500 - $49999",
          "$37500 - $49999",
          "$100000 or More",
          "$100000 or More",
          "$100000 or More",
          "$100000 or More",
          "$100000 or More",
          "$12500 - $24999",
          "$12500 - $24999",
          "$12500 - $24999",
          "$12500 - $24999",
          "$12500 - $24999",
          "$25000 - $37499",
          "$25000 - $37499",
          "$25000 - $37499",
          "$25000 - $37499",
          "$25000 - $37499",
          "$25000 - $37499",
          "$50000 - $62499",
          "$50000 - $62499",
          "$50000 - $62499",
          "$50000 - $62499",
          "$50000 - $62499",
          "$25000 - $37499",
          "$25000 - $37499",
          "$25000 - $37499",
          "$25000 - $37499",
          "$25000 - $37499",
          "$25000 - $37499",
          "$25000 - $37499",
          "$25000 - $37499",
          "$25000 - $37499",
          "$25000 - $37499",
          "$25000 - $37499",
          "$25000 - $37499",
          "$25000 - $37499",
          "$25000 - $37499",
          "$25000 - $37499",
          "$25000 - $37499",
          "$12500 - $24999",
          "$12500 - $24999",
          "$12500 - $24999",
          "$12500 - $24999",
          "$62500 - $74999",
          "$62500 - $74999",
          "$62500 - $74999",
          "$62500 - $74999",
          "$62500 - $74999",
          "$62500 - $74999",
          "$50000 - $62499",
          "$50000 - $62499",
          "$50000 - $62499",
          "$50000 - $62499",
          "$50000 - $62499",
          "$50000 - $62499",
          "$50000 - $62499",
          "$50000 - $62499",
          "$50000 - $62499",
          "$50000 - $62499",
          "$62500 - $74999",
          "$62500 - $74999",
          "$62500 - $74999",
          "$62500 - $74999",
          "$87500 - $99999",
          "$87500 - $99999",
          "$87500 - $99999",
          "$87500 - $99999",
          "$12500 - $24999",
          "$12500 - $24999",
          "$12500 - $24999",
          "$12500 - $24999",
          "$25000 - $37499",
          "$25000 - $37499",
          "$25000 - $37499",
          "$25000 - $37499",
          "$25000 - $37499",
          "$25000 - $37499",
          "$87500 - $99999",
          "$87500 - $99999",
          "$87500 - $99999",
          "$87500 - $99999",
          "$87500 - $99999",
          "$100000 or More",
          "$100000 or More",
          "$100000 or More",
          "$50000 - $62499",
          "$50000 - $62499",
          "$50000 - $62499",
          "$50000 - $62499",
          "$50000 - $62499",
          "$37500 - $49999",
          "$37500 - $49999",
          "$37500 - $49999",
          "$37500 - $49999",
          "$37500 - $49999",
          "$37500 - $49999",
          "$62500 - $74999",
          "$62500 - $74999",
          "$62500 - $74999",
          "$62500 - $74999",
          "$62500 - $74999",
          "$62500 - $74999",
          "$100000 or More",
          "$100000 or More",
          "$100000 or More",
          "$100000 or More",
          "$25000 - $37499",
          "$25000 - $37499",
          "$25000 - $37499",
          "$25000 - $37499",
          "$25000 - $37499",
          "$25000 - $37499",
          "$25000 - $37499",
          "$25000 - $37499",
          "$25000 - $37499",
          "$25000 - $37499"
         ],
         "xaxis": "x",
         "yaxis": "y"
        },
        {
         "alignmentgroup": "True",
         "bingroup": "x",
         "hovertemplate": "occupation=Unemployed<br>income=%{x}<br>count=%{y}<extra></extra>",
         "legendgroup": "Unemployed",
         "marker": {
          "color": "#ab63fa",
          "pattern": {
           "shape": ""
          }
         },
         "name": "Unemployed",
         "offsetgroup": "Unemployed",
         "orientation": "v",
         "showlegend": true,
         "type": "histogram",
         "x": [
          "$62500 - $74999",
          "$62500 - $74999",
          "$62500 - $74999",
          "$62500 - $74999",
          "$62500 - $74999",
          "$62500 - $74999",
          "Less than $12500",
          "Less than $12500",
          "Less than $12500",
          "Less than $12500",
          "$62500 - $74999",
          "$62500 - $74999",
          "$62500 - $74999",
          "$62500 - $74999",
          "$62500 - $74999",
          "$62500 - $74999",
          "$87500 - $99999",
          "$87500 - $99999",
          "$87500 - $99999",
          "$87500 - $99999",
          "$75000 - $87499",
          "$75000 - $87499",
          "$75000 - $87499",
          "$75000 - $87499",
          "$75000 - $87499",
          "$75000 - $87499",
          "$87500 - $99999",
          "$87500 - $99999",
          "$87500 - $99999",
          "$87500 - $99999",
          "$87500 - $99999",
          "$87500 - $99999",
          "$37500 - $49999",
          "$37500 - $49999",
          "$37500 - $49999",
          "$37500 - $49999",
          "$37500 - $49999",
          "$37500 - $49999",
          "$50000 - $62499",
          "$50000 - $62499",
          "$50000 - $62499",
          "$50000 - $62499",
          "$50000 - $62499",
          "$50000 - $62499",
          "$87500 - $99999",
          "$87500 - $99999",
          "$87500 - $99999",
          "$87500 - $99999",
          "$87500 - $99999",
          "$87500 - $99999",
          "Less than $12500",
          "Less than $12500",
          "Less than $12500",
          "Less than $12500",
          "Less than $12500",
          "Less than $12500",
          "Less than $12500",
          "Less than $12500",
          "$12500 - $24999",
          "$12500 - $24999",
          "$12500 - $24999",
          "$12500 - $24999",
          "Less than $12500",
          "Less than $12500",
          "Less than $12500",
          "Less than $12500",
          "$37500 - $49999",
          "$37500 - $49999",
          "$37500 - $49999",
          "$37500 - $49999",
          "$25000 - $37499",
          "$25000 - $37499",
          "$25000 - $37499",
          "$25000 - $37499",
          "$25000 - $37499",
          "$25000 - $37499",
          "$25000 - $37499",
          "$25000 - $37499",
          "$25000 - $37499",
          "$25000 - $37499",
          "$25000 - $37499",
          "$25000 - $37499",
          "$25000 - $37499",
          "$25000 - $37499",
          "$25000 - $37499",
          "$25000 - $37499",
          "$25000 - $37499",
          "Less than $12500",
          "Less than $12500",
          "Less than $12500",
          "Less than $12500",
          "Less than $12500",
          "Less than $12500",
          "Less than $12500",
          "Less than $12500",
          "Less than $12500",
          "Less than $12500",
          "$25000 - $37499",
          "$25000 - $37499",
          "$25000 - $37499",
          "$25000 - $37499",
          "$25000 - $37499",
          "$37500 - $49999",
          "$37500 - $49999",
          "$37500 - $49999",
          "$37500 - $49999",
          "$37500 - $49999",
          "$100000 or More",
          "$100000 or More",
          "$100000 or More",
          "$100000 or More",
          "$100000 or More",
          "$50000 - $62499",
          "$50000 - $62499",
          "$50000 - $62499",
          "$50000 - $62499",
          "$50000 - $62499",
          "$25000 - $37499",
          "$25000 - $37499",
          "$25000 - $37499",
          "$25000 - $37499",
          "$25000 - $37499",
          "Less than $12500",
          "Less than $12500",
          "Less than $12500",
          "Less than $12500",
          "Less than $12500",
          "$62500 - $74999",
          "$62500 - $74999",
          "$62500 - $74999",
          "$62500 - $74999",
          "$62500 - $74999",
          "$87500 - $99999",
          "$87500 - $99999",
          "$87500 - $99999",
          "$87500 - $99999",
          "$87500 - $99999",
          "$87500 - $99999",
          "$37500 - $49999",
          "$37500 - $49999",
          "$37500 - $49999",
          "$37500 - $49999",
          "$37500 - $49999",
          "Less than $12500",
          "Less than $12500",
          "Less than $12500",
          "Less than $12500",
          "Less than $12500",
          "Less than $12500",
          "Less than $12500",
          "Less than $12500",
          "Less than $12500",
          "Less than $12500",
          "Less than $12500",
          "Less than $12500",
          "Less than $12500",
          "Less than $12500",
          "Less than $12500",
          "$50000 - $62499",
          "$50000 - $62499",
          "$50000 - $62499",
          "$50000 - $62499",
          "$50000 - $62499",
          "$12500 - $24999",
          "$12500 - $24999",
          "$12500 - $24999",
          "$12500 - $24999",
          "$12500 - $24999",
          "Less than $12500",
          "Less than $12500",
          "Less than $12500",
          "Less than $12500",
          "Less than $12500",
          "Less than $12500",
          "Less than $12500",
          "Less than $12500",
          "Less than $12500",
          "Less than $12500",
          "$37500 - $49999",
          "$37500 - $49999",
          "$75000 - $87499",
          "$75000 - $87499",
          "$75000 - $87499",
          "$75000 - $87499",
          "$75000 - $87499",
          "$50000 - $62499",
          "$50000 - $62499",
          "$12500 - $24999",
          "$12500 - $24999",
          "$12500 - $24999",
          "$12500 - $24999",
          "$12500 - $24999",
          "$12500 - $24999",
          "$12500 - $24999",
          "$12500 - $24999",
          "$12500 - $24999",
          "$12500 - $24999",
          "$25000 - $37499",
          "$25000 - $37499",
          "$25000 - $37499",
          "$25000 - $37499",
          "$37500 - $49999",
          "$37500 - $49999",
          "$37500 - $49999",
          "$37500 - $49999",
          "$37500 - $49999",
          "$37500 - $49999",
          "$62500 - $74999",
          "$62500 - $74999",
          "$62500 - $74999",
          "$62500 - $74999",
          "$62500 - $74999",
          "Less than $12500",
          "Less than $12500",
          "Less than $12500",
          "Less than $12500",
          "$100000 or More",
          "$100000 or More",
          "$100000 or More",
          "$100000 or More",
          "$100000 or More",
          "$37500 - $49999",
          "$37500 - $49999",
          "$37500 - $49999",
          "$37500 - $49999",
          "$37500 - $49999",
          "$100000 or More",
          "$100000 or More",
          "$100000 or More",
          "$100000 or More",
          "$100000 or More",
          "$50000 - $62499",
          "$50000 - $62499",
          "$50000 - $62499",
          "$50000 - $62499",
          "$50000 - $62499",
          "$12500 - $24999",
          "$12500 - $24999",
          "$12500 - $24999",
          "$12500 - $24999",
          "$12500 - $24999",
          "$100000 or More",
          "$100000 or More",
          "$100000 or More",
          "$100000 or More",
          "$100000 or More",
          "$75000 - $87499",
          "$75000 - $87499",
          "$75000 - $87499",
          "$75000 - $87499",
          "$75000 - $87499",
          "$75000 - $87499",
          "$50000 - $62499",
          "$50000 - $62499",
          "$50000 - $62499",
          "$50000 - $62499",
          "Less than $12500",
          "Less than $12500",
          "Less than $12500",
          "Less than $12500",
          "Less than $12500",
          "$100000 or More",
          "$100000 or More",
          "$100000 or More",
          "$100000 or More",
          "$100000 or More",
          "$37500 - $49999",
          "$37500 - $49999",
          "$37500 - $49999",
          "$37500 - $49999",
          "$37500 - $49999",
          "$87500 - $99999",
          "$87500 - $99999",
          "$87500 - $99999",
          "$87500 - $99999",
          "$87500 - $99999",
          "$12500 - $24999",
          "$12500 - $24999",
          "$12500 - $24999",
          "Less than $12500",
          "Less than $12500",
          "Less than $12500",
          "Less than $12500",
          "Less than $12500",
          "$100000 or More",
          "$100000 or More",
          "$100000 or More",
          "$50000 - $62499",
          "$50000 - $62499",
          "$50000 - $62499",
          "Less than $12500",
          "Less than $12500",
          "Less than $12500",
          "Less than $12500",
          "Less than $12500",
          "$87500 - $99999",
          "$87500 - $99999",
          "$87500 - $99999",
          "$37500 - $49999",
          "$37500 - $49999",
          "$37500 - $49999",
          "$25000 - $37499",
          "$25000 - $37499",
          "$25000 - $37499",
          "$25000 - $37499",
          "$25000 - $37499",
          "$25000 - $37499",
          "$25000 - $37499",
          "$25000 - $37499",
          "$25000 - $37499",
          "$25000 - $37499",
          "$25000 - $37499",
          "$25000 - $37499",
          "Less than $12500",
          "Less than $12500",
          "Less than $12500",
          "Less than $12500",
          "$87500 - $99999",
          "$87500 - $99999",
          "$87500 - $99999",
          "$87500 - $99999",
          "Less than $12500",
          "Less than $12500",
          "Less than $12500",
          "Less than $12500",
          "Less than $12500",
          "Less than $12500",
          "$50000 - $62499",
          "$50000 - $62499",
          "$50000 - $62499",
          "$50000 - $62499",
          "$87500 - $99999",
          "$87500 - $99999",
          "$87500 - $99999",
          "$87500 - $99999",
          "$87500 - $99999",
          "$87500 - $99999",
          "$62500 - $74999",
          "$62500 - $74999",
          "$62500 - $74999",
          "$62500 - $74999",
          "$100000 or More",
          "$100000 or More",
          "$100000 or More",
          "$100000 or More",
          "$100000 or More",
          "$100000 or More",
          "$37500 - $49999",
          "$37500 - $49999",
          "$37500 - $49999",
          "$37500 - $49999",
          "$25000 - $37499",
          "$25000 - $37499",
          "$25000 - $37499",
          "$25000 - $37499",
          "$25000 - $37499",
          "$25000 - $37499",
          "$25000 - $37499",
          "$25000 - $37499",
          "$25000 - $37499",
          "$25000 - $37499",
          "$25000 - $37499",
          "$25000 - $37499",
          "$37500 - $49999",
          "$37500 - $49999",
          "$37500 - $49999",
          "$37500 - $49999",
          "$37500 - $49999",
          "$37500 - $49999",
          "Less than $12500",
          "Less than $12500",
          "Less than $12500",
          "Less than $12500",
          "Less than $12500",
          "Less than $12500",
          "$100000 or More",
          "$100000 or More",
          "$100000 or More",
          "$100000 or More",
          "$100000 or More",
          "$100000 or More",
          "$12500 - $24999",
          "$12500 - $24999",
          "$12500 - $24999",
          "$12500 - $24999",
          "$12500 - $24999",
          "$12500 - $24999",
          "$37500 - $49999",
          "$37500 - $49999",
          "$37500 - $49999",
          "$37500 - $49999",
          "$37500 - $49999",
          "$37500 - $49999",
          "$37500 - $49999",
          "$37500 - $49999",
          "$37500 - $49999",
          "$37500 - $49999"
         ],
         "xaxis": "x",
         "yaxis": "y"
        },
        {
         "alignmentgroup": "True",
         "bingroup": "x",
         "hovertemplate": "occupation=Healthcare Support<br>income=%{x}<br>count=%{y}<extra></extra>",
         "legendgroup": "Healthcare Support",
         "marker": {
          "color": "#FFA15A",
          "pattern": {
           "shape": ""
          }
         },
         "name": "Healthcare Support",
         "offsetgroup": "Healthcare Support",
         "orientation": "v",
         "showlegend": true,
         "type": "histogram",
         "x": [
          "$37500 - $49999",
          "$37500 - $49999",
          "$37500 - $49999",
          "$37500 - $49999",
          "$25000 - $37499",
          "$25000 - $37499",
          "$25000 - $37499",
          "$25000 - $37499",
          "$25000 - $37499",
          "$25000 - $37499",
          "$25000 - $37499",
          "$25000 - $37499",
          "Less than $12500",
          "Less than $12500",
          "Less than $12500",
          "Less than $12500",
          "Less than $12500",
          "Less than $12500",
          "$37500 - $49999",
          "$37500 - $49999",
          "$37500 - $49999",
          "$37500 - $49999",
          "$37500 - $49999",
          "$37500 - $49999",
          "$37500 - $49999",
          "$37500 - $49999",
          "$37500 - $49999",
          "$37500 - $49999",
          "$25000 - $37499",
          "$25000 - $37499",
          "$25000 - $37499",
          "$25000 - $37499",
          "$75000 - $87499",
          "$75000 - $87499",
          "$75000 - $87499",
          "$25000 - $37499",
          "$25000 - $37499",
          "$25000 - $37499",
          "$25000 - $37499",
          "$25000 - $37499",
          "$25000 - $37499",
          "$12500 - $24999",
          "$12500 - $24999",
          "$12500 - $24999",
          "$12500 - $24999",
          "$12500 - $24999",
          "$12500 - $24999",
          "$12500 - $24999",
          "$12500 - $24999",
          "$12500 - $24999",
          "$12500 - $24999",
          "$12500 - $24999",
          "$12500 - $24999"
         ],
         "xaxis": "x",
         "yaxis": "y"
        },
        {
         "alignmentgroup": "True",
         "bingroup": "x",
         "hovertemplate": "occupation=Healthcare Practitioners & Technical<br>income=%{x}<br>count=%{y}<extra></extra>",
         "legendgroup": "Healthcare Practitioners & Technical",
         "marker": {
          "color": "#19d3f3",
          "pattern": {
           "shape": ""
          }
         },
         "name": "Healthcare Practitioners & Technical",
         "offsetgroup": "Healthcare Practitioners & Technical",
         "orientation": "v",
         "showlegend": true,
         "type": "histogram",
         "x": [
          "$25000 - $37499",
          "$25000 - $37499",
          "$25000 - $37499",
          "$25000 - $37499",
          "$87500 - $99999",
          "$87500 - $99999",
          "$87500 - $99999",
          "$87500 - $99999",
          "$87500 - $99999",
          "$87500 - $99999",
          "$37500 - $49999",
          "$37500 - $49999",
          "$37500 - $49999",
          "$37500 - $49999",
          "$100000 or More",
          "$100000 or More",
          "$100000 or More",
          "$100000 or More",
          "$25000 - $37499",
          "$25000 - $37499",
          "$25000 - $37499",
          "$25000 - $37499",
          "$25000 - $37499",
          "$100000 or More",
          "$100000 or More",
          "$100000 or More",
          "$100000 or More",
          "$12500 - $24999",
          "$12500 - $24999",
          "$12500 - $24999",
          "$12500 - $24999",
          "$12500 - $24999",
          "$12500 - $24999",
          "$12500 - $24999",
          "$75000 - $87499",
          "$75000 - $87499",
          "$75000 - $87499",
          "$75000 - $87499",
          "$87500 - $99999",
          "$87500 - $99999",
          "$87500 - $99999",
          "$50000 - $62499",
          "$50000 - $62499",
          "$50000 - $62499",
          "$50000 - $62499"
         ],
         "xaxis": "x",
         "yaxis": "y"
        },
        {
         "alignmentgroup": "True",
         "bingroup": "x",
         "hovertemplate": "occupation=Sales & Related<br>income=%{x}<br>count=%{y}<extra></extra>",
         "legendgroup": "Sales & Related",
         "marker": {
          "color": "#FF6692",
          "pattern": {
           "shape": ""
          }
         },
         "name": "Sales & Related",
         "offsetgroup": "Sales & Related",
         "orientation": "v",
         "showlegend": true,
         "type": "histogram",
         "x": [
          "$100000 or More",
          "$100000 or More",
          "$100000 or More",
          "$100000 or More",
          "$100000 or More",
          "$100000 or More",
          "$100000 or More",
          "$100000 or More",
          "$100000 or More",
          "$100000 or More",
          "$37500 - $49999",
          "$37500 - $49999",
          "$37500 - $49999",
          "$37500 - $49999",
          "$37500 - $49999",
          "$37500 - $49999",
          "$37500 - $49999",
          "$37500 - $49999",
          "$25000 - $37499",
          "$25000 - $37499",
          "$25000 - $37499",
          "$25000 - $37499",
          "$25000 - $37499",
          "$25000 - $37499",
          "$12500 - $24999",
          "$12500 - $24999",
          "$12500 - $24999",
          "$12500 - $24999",
          "$37500 - $49999",
          "$37500 - $49999",
          "$37500 - $49999",
          "$37500 - $49999",
          "$50000 - $62499",
          "$50000 - $62499",
          "$50000 - $62499",
          "$50000 - $62499",
          "$25000 - $37499",
          "$25000 - $37499",
          "$25000 - $37499",
          "$25000 - $37499",
          "$12500 - $24999",
          "$12500 - $24999",
          "$12500 - $24999",
          "$12500 - $24999",
          "$25000 - $37499",
          "$25000 - $37499",
          "$25000 - $37499",
          "$25000 - $37499",
          "$50000 - $62499",
          "$50000 - $62499",
          "$50000 - $62499",
          "$50000 - $62499",
          "$12500 - $24999",
          "$12500 - $24999",
          "$12500 - $24999",
          "$12500 - $24999",
          "$12500 - $24999",
          "$12500 - $24999",
          "$12500 - $24999",
          "$12500 - $24999",
          "$12500 - $24999",
          "$12500 - $24999",
          "$25000 - $37499",
          "$25000 - $37499",
          "$25000 - $37499",
          "$25000 - $37499",
          "$12500 - $24999",
          "$12500 - $24999",
          "$12500 - $24999",
          "$12500 - $24999",
          "Less than $12500",
          "Less than $12500",
          "Less than $12500",
          "Less than $12500",
          "Less than $12500",
          "$37500 - $49999",
          "$37500 - $49999",
          "$37500 - $49999",
          "$37500 - $49999",
          "$37500 - $49999",
          "$37500 - $49999",
          "$37500 - $49999",
          "$37500 - $49999",
          "$37500 - $49999",
          "$37500 - $49999",
          "$12500 - $24999",
          "$12500 - $24999",
          "$12500 - $24999",
          "$12500 - $24999",
          "$12500 - $24999",
          "$100000 or More",
          "$100000 or More",
          "$100000 or More",
          "$100000 or More",
          "$100000 or More",
          "$75000 - $87499",
          "$75000 - $87499",
          "$75000 - $87499",
          "$75000 - $87499",
          "$75000 - $87499",
          "$25000 - $37499",
          "$25000 - $37499",
          "$25000 - $37499",
          "$25000 - $37499",
          "$25000 - $37499",
          "$100000 or More",
          "$100000 or More",
          "$100000 or More",
          "$100000 or More",
          "$100000 or More",
          "$25000 - $37499",
          "$25000 - $37499",
          "$25000 - $37499",
          "$25000 - $37499",
          "$25000 - $37499",
          "$62500 - $74999",
          "$62500 - $74999",
          "$62500 - $74999",
          "$62500 - $74999",
          "$62500 - $74999",
          "$62500 - $74999",
          "$62500 - $74999",
          "$25000 - $37499",
          "$25000 - $37499",
          "$25000 - $37499",
          "$62500 - $74999",
          "$62500 - $74999",
          "$62500 - $74999",
          "$62500 - $74999",
          "$62500 - $74999",
          "$62500 - $74999",
          "$37500 - $49999",
          "$37500 - $49999",
          "$37500 - $49999",
          "$37500 - $49999",
          "$37500 - $49999",
          "$37500 - $49999",
          "$75000 - $87499",
          "$75000 - $87499",
          "$75000 - $87499",
          "$75000 - $87499",
          "$75000 - $87499",
          "$75000 - $87499",
          "$50000 - $62499",
          "$50000 - $62499",
          "$50000 - $62499",
          "$50000 - $62499",
          "$50000 - $62499",
          "$50000 - $62499",
          "$50000 - $62499",
          "$50000 - $62499",
          "$50000 - $62499",
          "$50000 - $62499",
          "$75000 - $87499",
          "$75000 - $87499",
          "$75000 - $87499",
          "$75000 - $87499",
          "$75000 - $87499",
          "$75000 - $87499",
          "$25000 - $37499",
          "$25000 - $37499",
          "$25000 - $37499",
          "$75000 - $87499",
          "$75000 - $87499",
          "$75000 - $87499",
          "$75000 - $87499",
          "$12500 - $24999",
          "$12500 - $24999",
          "$12500 - $24999",
          "$12500 - $24999",
          "$25000 - $37499",
          "$25000 - $37499",
          "$25000 - $37499",
          "$25000 - $37499",
          "$50000 - $62499",
          "$50000 - $62499",
          "$50000 - $62499",
          "$50000 - $62499",
          "$12500 - $24999",
          "$12500 - $24999",
          "$12500 - $24999",
          "$12500 - $24999",
          "$12500 - $24999",
          "$37500 - $49999",
          "$37500 - $49999",
          "$37500 - $49999",
          "$37500 - $49999",
          "$37500 - $49999",
          "$37500 - $49999",
          "Less than $12500",
          "Less than $12500",
          "Less than $12500",
          "Less than $12500",
          "Less than $12500",
          "Less than $12500",
          "$50000 - $62499",
          "$50000 - $62499",
          "$50000 - $62499",
          "$50000 - $62499",
          "$50000 - $62499",
          "$50000 - $62499",
          "$75000 - $87499",
          "$75000 - $87499",
          "$75000 - $87499",
          "$75000 - $87499",
          "$75000 - $87499",
          "$75000 - $87499",
          "$37500 - $49999",
          "$37500 - $49999",
          "$37500 - $49999",
          "$37500 - $49999",
          "$25000 - $37499",
          "$25000 - $37499",
          "$25000 - $37499",
          "$25000 - $37499",
          "$12500 - $24999",
          "$12500 - $24999",
          "$12500 - $24999",
          "$12500 - $24999",
          "$12500 - $24999",
          "$12500 - $24999",
          "Less than $12500",
          "Less than $12500",
          "Less than $12500",
          "Less than $12500",
          "Less than $12500",
          "Less than $12500",
          "$75000 - $87499",
          "$75000 - $87499",
          "$75000 - $87499",
          "$75000 - $87499",
          "$75000 - $87499",
          "$75000 - $87499"
         ],
         "xaxis": "x",
         "yaxis": "y"
        },
        {
         "alignmentgroup": "True",
         "bingroup": "x",
         "hovertemplate": "occupation=Management<br>income=%{x}<br>count=%{y}<extra></extra>",
         "legendgroup": "Management",
         "marker": {
          "color": "#B6E880",
          "pattern": {
           "shape": ""
          }
         },
         "name": "Management",
         "offsetgroup": "Management",
         "orientation": "v",
         "showlegend": true,
         "type": "histogram",
         "x": [
          "$87500 - $99999",
          "$87500 - $99999",
          "$87500 - $99999",
          "$87500 - $99999",
          "$50000 - $62499",
          "$50000 - $62499",
          "$50000 - $62499",
          "$50000 - $62499",
          "$50000 - $62499",
          "$50000 - $62499",
          "$50000 - $62499",
          "$50000 - $62499",
          "$50000 - $62499",
          "$50000 - $62499",
          "$87500 - $99999",
          "$87500 - $99999",
          "$87500 - $99999",
          "$87500 - $99999",
          "$87500 - $99999",
          "$87500 - $99999",
          "$100000 or More",
          "$100000 or More",
          "$100000 or More",
          "$100000 or More",
          "$75000 - $87499",
          "$75000 - $87499",
          "$75000 - $87499",
          "$75000 - $87499",
          "$75000 - $87499",
          "$75000 - $87499",
          "$50000 - $62499",
          "$50000 - $62499",
          "$50000 - $62499",
          "$50000 - $62499",
          "$25000 - $37499",
          "$25000 - $37499",
          "$25000 - $37499",
          "$25000 - $37499",
          "$25000 - $37499",
          "$25000 - $37499",
          "$12500 - $24999",
          "$12500 - $24999",
          "$12500 - $24999",
          "$12500 - $24999",
          "$25000 - $37499",
          "$25000 - $37499",
          "$25000 - $37499",
          "$25000 - $37499",
          "$12500 - $24999",
          "$12500 - $24999",
          "$12500 - $24999",
          "$12500 - $24999",
          "$75000 - $87499",
          "$75000 - $87499",
          "$75000 - $87499",
          "$12500 - $24999",
          "$12500 - $24999",
          "$12500 - $24999",
          "$12500 - $24999",
          "$12500 - $24999",
          "$12500 - $24999",
          "$100000 or More",
          "$100000 or More",
          "$100000 or More",
          "$100000 or More",
          "$100000 or More",
          "$100000 or More",
          "$62500 - $74999",
          "$62500 - $74999",
          "$62500 - $74999",
          "$62500 - $74999",
          "$62500 - $74999",
          "$62500 - $74999",
          "$100000 or More",
          "$100000 or More",
          "$100000 or More",
          "$100000 or More",
          "$62500 - $74999",
          "$62500 - $74999",
          "$62500 - $74999",
          "$62500 - $74999",
          "$62500 - $74999",
          "$62500 - $74999",
          "$87500 - $99999",
          "$87500 - $99999",
          "$87500 - $99999",
          "$87500 - $99999",
          "$87500 - $99999",
          "$25000 - $37499",
          "$25000 - $37499",
          "$25000 - $37499",
          "$25000 - $37499",
          "$25000 - $37499",
          "$37500 - $49999",
          "$37500 - $49999",
          "$37500 - $49999",
          "$37500 - $49999",
          "$37500 - $49999",
          "$37500 - $49999",
          "$37500 - $49999",
          "$37500 - $49999",
          "$37500 - $49999",
          "$37500 - $49999",
          "$37500 - $49999",
          "$37500 - $49999",
          "$37500 - $49999",
          "$37500 - $49999",
          "$37500 - $49999",
          "$37500 - $49999",
          "$25000 - $37499",
          "$25000 - $37499",
          "$25000 - $37499",
          "$25000 - $37499",
          "$25000 - $37499",
          "$87500 - $99999",
          "$87500 - $99999",
          "$87500 - $99999",
          "$87500 - $99999",
          "$87500 - $99999",
          "$87500 - $99999",
          "$37500 - $49999",
          "$37500 - $49999",
          "$37500 - $49999",
          "$37500 - $49999",
          "$37500 - $49999",
          "$62500 - $74999",
          "$62500 - $74999",
          "$62500 - $74999",
          "$62500 - $74999",
          "$50000 - $62499",
          "$50000 - $62499",
          "$87500 - $99999",
          "$87500 - $99999",
          "$87500 - $99999",
          "$87500 - $99999",
          "$100000 or More",
          "$100000 or More",
          "$100000 or More",
          "$100000 or More",
          "$100000 or More",
          "$25000 - $37499",
          "$25000 - $37499",
          "$25000 - $37499",
          "$25000 - $37499",
          "$25000 - $37499",
          "$25000 - $37499",
          "$25000 - $37499",
          "$25000 - $37499",
          "$25000 - $37499",
          "$25000 - $37499",
          "$25000 - $37499",
          "$87500 - $99999",
          "$87500 - $99999",
          "$87500 - $99999",
          "$87500 - $99999",
          "$12500 - $24999",
          "$12500 - $24999",
          "$12500 - $24999",
          "$12500 - $24999",
          "$100000 or More",
          "$100000 or More",
          "$100000 or More",
          "$100000 or More",
          "$100000 or More",
          "$100000 or More",
          "$75000 - $87499",
          "$75000 - $87499",
          "$75000 - $87499",
          "$75000 - $87499",
          "$75000 - $87499",
          "$75000 - $87499",
          "$75000 - $87499",
          "$75000 - $87499",
          "$75000 - $87499",
          "$75000 - $87499"
         ],
         "xaxis": "x",
         "yaxis": "y"
        },
        {
         "alignmentgroup": "True",
         "bingroup": "x",
         "hovertemplate": "occupation=Arts Design Entertainment Sports & Media<br>income=%{x}<br>count=%{y}<extra></extra>",
         "legendgroup": "Arts Design Entertainment Sports & Media",
         "marker": {
          "color": "#FF97FF",
          "pattern": {
           "shape": ""
          }
         },
         "name": "Arts Design Entertainment Sports & Media",
         "offsetgroup": "Arts Design Entertainment Sports & Media",
         "orientation": "v",
         "showlegend": true,
         "type": "histogram",
         "x": [
          "$12500 - $24999",
          "$12500 - $24999",
          "$12500 - $24999",
          "$12500 - $24999",
          "$12500 - $24999",
          "$37500 - $49999",
          "$37500 - $49999",
          "$37500 - $49999",
          "$37500 - $49999",
          "$25000 - $37499",
          "$25000 - $37499",
          "$25000 - $37499",
          "$25000 - $37499",
          "$25000 - $37499",
          "$25000 - $37499",
          "$25000 - $37499",
          "$25000 - $37499",
          "$25000 - $37499",
          "$25000 - $37499",
          "$25000 - $37499",
          "$25000 - $37499",
          "$100000 or More",
          "$100000 or More",
          "$100000 or More",
          "$100000 or More",
          "$50000 - $62499",
          "$50000 - $62499",
          "$50000 - $62499",
          "$50000 - $62499",
          "$50000 - $62499",
          "$50000 - $62499",
          "$12500 - $24999",
          "$12500 - $24999",
          "$12500 - $24999",
          "$12500 - $24999",
          "$75000 - $87499",
          "$75000 - $87499",
          "$75000 - $87499",
          "$75000 - $87499",
          "$25000 - $37499",
          "$25000 - $37499",
          "$25000 - $37499",
          "$25000 - $37499",
          "$25000 - $37499",
          "$25000 - $37499",
          "$25000 - $37499",
          "$25000 - $37499",
          "$25000 - $37499",
          "$25000 - $37499",
          "$12500 - $24999",
          "$12500 - $24999",
          "$12500 - $24999",
          "$12500 - $24999",
          "$12500 - $24999",
          "$12500 - $24999",
          "$12500 - $24999",
          "$12500 - $24999",
          "$12500 - $24999",
          "$12500 - $24999",
          "$12500 - $24999",
          "$12500 - $24999",
          "$12500 - $24999",
          "$12500 - $24999",
          "$100000 or More",
          "$100000 or More",
          "$100000 or More",
          "$100000 or More",
          "$100000 or More",
          "$37500 - $49999",
          "$37500 - $49999",
          "$37500 - $49999",
          "$37500 - $49999",
          "$37500 - $49999",
          "$62500 - $74999",
          "$62500 - $74999",
          "$62500 - $74999",
          "$62500 - $74999",
          "$62500 - $74999",
          "$62500 - $74999",
          "$12500 - $24999",
          "$12500 - $24999",
          "$12500 - $24999",
          "$12500 - $24999",
          "$12500 - $24999",
          "$100000 or More",
          "$100000 or More",
          "$100000 or More",
          "$37500 - $49999",
          "$37500 - $49999",
          "$37500 - $49999",
          "$37500 - $49999",
          "$12500 - $24999",
          "$12500 - $24999",
          "$12500 - $24999",
          "$12500 - $24999",
          "$12500 - $24999",
          "$100000 or More",
          "$100000 or More",
          "$100000 or More",
          "$100000 or More",
          "$100000 or More",
          "$100000 or More",
          "$100000 or More",
          "$100000 or More",
          "$100000 or More",
          "$100000 or More",
          "$75000 - $87499",
          "$75000 - $87499",
          "$75000 - $87499",
          "$75000 - $87499",
          "$75000 - $87499",
          "$87500 - $99999",
          "$87500 - $99999",
          "$87500 - $99999",
          "$87500 - $99999",
          "$87500 - $99999",
          "$87500 - $99999",
          "$75000 - $87499",
          "$75000 - $87499",
          "$75000 - $87499",
          "$75000 - $87499",
          "$75000 - $87499",
          "$75000 - $87499",
          "$50000 - $62499"
         ],
         "xaxis": "x",
         "yaxis": "y"
        },
        {
         "alignmentgroup": "True",
         "bingroup": "x",
         "hovertemplate": "occupation=Computer & Mathematical<br>income=%{x}<br>count=%{y}<extra></extra>",
         "legendgroup": "Computer & Mathematical",
         "marker": {
          "color": "#FECB52",
          "pattern": {
           "shape": ""
          }
         },
         "name": "Computer & Mathematical",
         "offsetgroup": "Computer & Mathematical",
         "orientation": "v",
         "showlegend": true,
         "type": "histogram",
         "x": [
          "$100000 or More",
          "$100000 or More",
          "$100000 or More",
          "$100000 or More",
          "$100000 or More",
          "$100000 or More",
          "$50000 - $62499",
          "$50000 - $62499",
          "$50000 - $62499",
          "$50000 - $62499",
          "$62500 - $74999",
          "$62500 - $74999",
          "$62500 - $74999",
          "$62500 - $74999",
          "$62500 - $74999",
          "$62500 - $74999",
          "$100000 or More",
          "$100000 or More",
          "$100000 or More",
          "$100000 or More",
          "$100000 or More",
          "$100000 or More",
          "$100000 or More",
          "$100000 or More",
          "$100000 or More",
          "$100000 or More",
          "$50000 - $62499",
          "$50000 - $62499",
          "$50000 - $62499",
          "$50000 - $62499",
          "$25000 - $37499",
          "$25000 - $37499",
          "$25000 - $37499",
          "$25000 - $37499",
          "$62500 - $74999",
          "$62500 - $74999",
          "$62500 - $74999",
          "$62500 - $74999",
          "$50000 - $62499",
          "$50000 - $62499",
          "$50000 - $62499",
          "$50000 - $62499",
          "$50000 - $62499",
          "$50000 - $62499",
          "$50000 - $62499",
          "$50000 - $62499",
          "$87500 - $99999",
          "$87500 - $99999",
          "$87500 - $99999",
          "$87500 - $99999",
          "$25000 - $37499",
          "$25000 - $37499",
          "$25000 - $37499",
          "$25000 - $37499",
          "$37500 - $49999",
          "$37500 - $49999",
          "$37500 - $49999",
          "$37500 - $49999",
          "$37500 - $49999",
          "$37500 - $49999",
          "$37500 - $49999",
          "$37500 - $49999",
          "$37500 - $49999",
          "$37500 - $49999",
          "$37500 - $49999",
          "$37500 - $49999",
          "$75000 - $87499",
          "$75000 - $87499",
          "$75000 - $87499",
          "$75000 - $87499",
          "$75000 - $87499",
          "$75000 - $87499",
          "$87500 - $99999",
          "$87500 - $99999",
          "$87500 - $99999",
          "$87500 - $99999",
          "$87500 - $99999",
          "$87500 - $99999",
          "$100000 or More",
          "$100000 or More",
          "$100000 or More",
          "$100000 or More",
          "$75000 - $87499",
          "$75000 - $87499",
          "$75000 - $87499",
          "$75000 - $87499",
          "$25000 - $37499",
          "$25000 - $37499",
          "$25000 - $37499",
          "$25000 - $37499",
          "$25000 - $37499",
          "$25000 - $37499",
          "$25000 - $37499",
          "$25000 - $37499",
          "$25000 - $37499",
          "$25000 - $37499",
          "$25000 - $37499",
          "$25000 - $37499",
          "$75000 - $87499",
          "$75000 - $87499",
          "$75000 - $87499",
          "$75000 - $87499",
          "$75000 - $87499",
          "$75000 - $87499",
          "$37500 - $49999",
          "$37500 - $49999",
          "$37500 - $49999",
          "$37500 - $49999",
          "$37500 - $49999",
          "$50000 - $62499",
          "$50000 - $62499",
          "$50000 - $62499",
          "$50000 - $62499",
          "$50000 - $62499",
          "$12500 - $24999",
          "$12500 - $24999",
          "$12500 - $24999",
          "$12500 - $24999",
          "$12500 - $24999",
          "$12500 - $24999",
          "$12500 - $24999",
          "$12500 - $24999",
          "$50000 - $62499",
          "$50000 - $62499",
          "$50000 - $62499",
          "$50000 - $62499",
          "$50000 - $62499",
          "$50000 - $62499",
          "$75000 - $87499",
          "$75000 - $87499",
          "$75000 - $87499",
          "$75000 - $87499",
          "$75000 - $87499",
          "$12500 - $24999",
          "$12500 - $24999",
          "$12500 - $24999",
          "$12500 - $24999",
          "$12500 - $24999",
          "$37500 - $49999",
          "$37500 - $49999",
          "$37500 - $49999",
          "$37500 - $49999",
          "$37500 - $49999",
          "$100000 or More",
          "$100000 or More",
          "$100000 or More",
          "$100000 or More",
          "$100000 or More",
          "$62500 - $74999",
          "$62500 - $74999",
          "$62500 - $74999",
          "$62500 - $74999",
          "$62500 - $74999",
          "$100000 or More",
          "$100000 or More",
          "$100000 or More",
          "$100000 or More",
          "$100000 or More",
          "$100000 or More",
          "$100000 or More",
          "$100000 or More",
          "$100000 or More",
          "$100000 or More",
          "$100000 or More",
          "$100000 or More",
          "$50000 - $62499",
          "$50000 - $62499",
          "$50000 - $62499",
          "$50000 - $62499",
          "$37500 - $49999",
          "$37500 - $49999",
          "$37500 - $49999",
          "$37500 - $49999",
          "$37500 - $49999",
          "$25000 - $37499",
          "$25000 - $37499",
          "$25000 - $37499",
          "$25000 - $37499",
          "$25000 - $37499",
          "$50000 - $62499",
          "$50000 - $62499",
          "$50000 - $62499",
          "$50000 - $62499",
          "$12500 - $24999",
          "$12500 - $24999",
          "$12500 - $24999",
          "$12500 - $24999",
          "$100000 or More",
          "$100000 or More",
          "$100000 or More",
          "$100000 or More",
          "$100000 or More",
          "$100000 or More",
          "$37500 - $49999",
          "$37500 - $49999",
          "$37500 - $49999",
          "$37500 - $49999",
          "$62500 - $74999",
          "$62500 - $74999",
          "$62500 - $74999",
          "$62500 - $74999",
          "$37500 - $49999",
          "$37500 - $49999",
          "$37500 - $49999",
          "$37500 - $49999",
          "$37500 - $49999",
          "$75000 - $87499",
          "$75000 - $87499",
          "$75000 - $87499",
          "$75000 - $87499",
          "$100000 or More",
          "$100000 or More",
          "$100000 or More",
          "$100000 or More",
          "$50000 - $62499",
          "$50000 - $62499",
          "$50000 - $62499",
          "$62500 - $74999",
          "$62500 - $74999",
          "$62500 - $74999",
          "$100000 or More",
          "$100000 or More",
          "$100000 or More",
          "$62500 - $74999",
          "$62500 - $74999",
          "$62500 - $74999",
          "$62500 - $74999",
          "$62500 - $74999",
          "$87500 - $99999",
          "$87500 - $99999",
          "$87500 - $99999",
          "$100000 or More",
          "$100000 or More",
          "$100000 or More",
          "$100000 or More",
          "$100000 or More",
          "$62500 - $74999",
          "$62500 - $74999",
          "$62500 - $74999",
          "$12500 - $24999",
          "$12500 - $24999",
          "$12500 - $24999",
          "$12500 - $24999",
          "$12500 - $24999",
          "$100000 or More",
          "$100000 or More",
          "$100000 or More",
          "$100000 or More",
          "$100000 or More",
          "$100000 or More",
          "$100000 or More",
          "$62500 - $74999",
          "$62500 - $74999",
          "$62500 - $74999",
          "$62500 - $74999",
          "$50000 - $62499",
          "$50000 - $62499",
          "$50000 - $62499",
          "$50000 - $62499",
          "$75000 - $87499",
          "$75000 - $87499",
          "$75000 - $87499",
          "$75000 - $87499",
          "Less than $12500",
          "Less than $12500",
          "Less than $12500",
          "Less than $12500",
          "Less than $12500",
          "Less than $12500",
          "$75000 - $87499",
          "$75000 - $87499",
          "$75000 - $87499",
          "$75000 - $87499",
          "$100000 or More",
          "$100000 or More",
          "$100000 or More",
          "$100000 or More",
          "$100000 or More",
          "$100000 or More",
          "$100000 or More",
          "$100000 or More",
          "$100000 or More",
          "$100000 or More",
          "$50000 - $62499",
          "$50000 - $62499",
          "$50000 - $62499",
          "$50000 - $62499",
          "$37500 - $49999",
          "$37500 - $49999",
          "$37500 - $49999",
          "$37500 - $49999"
         ],
         "xaxis": "x",
         "yaxis": "y"
        },
        {
         "alignmentgroup": "True",
         "bingroup": "x",
         "hovertemplate": "occupation=Life Physical Social Science<br>income=%{x}<br>count=%{y}<extra></extra>",
         "legendgroup": "Life Physical Social Science",
         "marker": {
          "color": "#636efa",
          "pattern": {
           "shape": ""
          }
         },
         "name": "Life Physical Social Science",
         "offsetgroup": "Life Physical Social Science",
         "orientation": "v",
         "showlegend": true,
         "type": "histogram",
         "x": [
          "$37500 - $49999",
          "$37500 - $49999",
          "$37500 - $49999",
          "$37500 - $49999",
          "$37500 - $49999",
          "$37500 - $49999",
          "$50000 - $62499",
          "$50000 - $62499",
          "$50000 - $62499",
          "$50000 - $62499",
          "Less than $12500",
          "Less than $12500",
          "Less than $12500",
          "Less than $12500",
          "$50000 - $62499",
          "$50000 - $62499",
          "$50000 - $62499",
          "$50000 - $62499",
          "$50000 - $62499",
          "$50000 - $62499",
          "$100000 or More",
          "$100000 or More",
          "$100000 or More",
          "$37500 - $49999",
          "$37500 - $49999",
          "$37500 - $49999",
          "$37500 - $49999",
          "$37500 - $49999",
          "$37500 - $49999",
          "$37500 - $49999",
          "$37500 - $49999",
          "$37500 - $49999",
          "$50000 - $62499",
          "$50000 - $62499",
          "$50000 - $62499",
          "$50000 - $62499"
         ],
         "xaxis": "x",
         "yaxis": "y"
        },
        {
         "alignmentgroup": "True",
         "bingroup": "x",
         "hovertemplate": "occupation=Personal Care & Service<br>income=%{x}<br>count=%{y}<extra></extra>",
         "legendgroup": "Personal Care & Service",
         "marker": {
          "color": "#EF553B",
          "pattern": {
           "shape": ""
          }
         },
         "name": "Personal Care & Service",
         "offsetgroup": "Personal Care & Service",
         "orientation": "v",
         "showlegend": true,
         "type": "histogram",
         "x": [
          "$50000 - $62499",
          "$50000 - $62499",
          "$50000 - $62499",
          "$100000 or More",
          "$100000 or More",
          "$100000 or More",
          "$100000 or More",
          "$100000 or More",
          "$100000 or More",
          "$37500 - $49999",
          "$37500 - $49999",
          "$37500 - $49999",
          "$37500 - $49999",
          "$37500 - $49999",
          "$37500 - $49999",
          "$100000 or More",
          "$100000 or More",
          "$100000 or More",
          "$100000 or More",
          "$87500 - $99999",
          "$87500 - $99999",
          "$87500 - $99999",
          "$87500 - $99999",
          "$25000 - $37499",
          "$25000 - $37499",
          "$25000 - $37499",
          "$25000 - $37499",
          "$25000 - $37499",
          "$12500 - $24999",
          "$12500 - $24999",
          "$12500 - $24999",
          "$12500 - $24999",
          "$12500 - $24999",
          "$12500 - $24999"
         ],
         "xaxis": "x",
         "yaxis": "y"
        },
        {
         "alignmentgroup": "True",
         "bingroup": "x",
         "hovertemplate": "occupation=Office & Administrative Support<br>income=%{x}<br>count=%{y}<extra></extra>",
         "legendgroup": "Office & Administrative Support",
         "marker": {
          "color": "#00cc96",
          "pattern": {
           "shape": ""
          }
         },
         "name": "Office & Administrative Support",
         "offsetgroup": "Office & Administrative Support",
         "orientation": "v",
         "showlegend": true,
         "type": "histogram",
         "x": [
          "$50000 - $62499",
          "$50000 - $62499",
          "$50000 - $62499",
          "$50000 - $62499",
          "$25000 - $37499",
          "$25000 - $37499",
          "$25000 - $37499",
          "$25000 - $37499",
          "$37500 - $49999",
          "$37500 - $49999",
          "$37500 - $49999",
          "$37500 - $49999",
          "$75000 - $87499",
          "$75000 - $87499",
          "$75000 - $87499",
          "$75000 - $87499",
          "$25000 - $37499",
          "$25000 - $37499",
          "$25000 - $37499",
          "$25000 - $37499",
          "$37500 - $49999",
          "$37500 - $49999",
          "$37500 - $49999",
          "$37500 - $49999",
          "$12500 - $24999",
          "$12500 - $24999",
          "$12500 - $24999",
          "$12500 - $24999",
          "$37500 - $49999",
          "$37500 - $49999",
          "$37500 - $49999",
          "$37500 - $49999",
          "$37500 - $49999",
          "$37500 - $49999",
          "$37500 - $49999",
          "$37500 - $49999",
          "$37500 - $49999",
          "$37500 - $49999",
          "$12500 - $24999",
          "$12500 - $24999",
          "$12500 - $24999",
          "$12500 - $24999",
          "$12500 - $24999",
          "$37500 - $49999",
          "$37500 - $49999",
          "$37500 - $49999",
          "$37500 - $49999",
          "$37500 - $49999",
          "$62500 - $74999",
          "$62500 - $74999",
          "$62500 - $74999",
          "$62500 - $74999",
          "$62500 - $74999",
          "$87500 - $99999",
          "$87500 - $99999",
          "$87500 - $99999",
          "$87500 - $99999",
          "$87500 - $99999",
          "$37500 - $49999",
          "$37500 - $49999",
          "$37500 - $49999",
          "$37500 - $49999",
          "$37500 - $49999",
          "$12500 - $24999",
          "$12500 - $24999",
          "$12500 - $24999",
          "$12500 - $24999",
          "$12500 - $24999",
          "$25000 - $37499",
          "$25000 - $37499",
          "$25000 - $37499",
          "$25000 - $37499",
          "$25000 - $37499",
          "$62500 - $74999",
          "$62500 - $74999",
          "$62500 - $74999",
          "$62500 - $74999",
          "$25000 - $37499",
          "$25000 - $37499",
          "$25000 - $37499",
          "$25000 - $37499",
          "$25000 - $37499",
          "$37500 - $49999",
          "$37500 - $49999",
          "$37500 - $49999",
          "$37500 - $49999",
          "$37500 - $49999",
          "$12500 - $24999",
          "$12500 - $24999",
          "$12500 - $24999",
          "$12500 - $24999",
          "$12500 - $24999",
          "$25000 - $37499",
          "$25000 - $37499",
          "$25000 - $37499",
          "$25000 - $37499",
          "$25000 - $37499",
          "$12500 - $24999",
          "$12500 - $24999",
          "$12500 - $24999",
          "$12500 - $24999",
          "$75000 - $87499",
          "$75000 - $87499",
          "$75000 - $87499",
          "$75000 - $87499",
          "$25000 - $37499",
          "$25000 - $37499",
          "$25000 - $37499",
          "$12500 - $24999",
          "$12500 - $24999",
          "$12500 - $24999",
          "$12500 - $24999",
          "$12500 - $24999",
          "$12500 - $24999",
          "$25000 - $37499",
          "$25000 - $37499",
          "$25000 - $37499",
          "$25000 - $37499",
          "$25000 - $37499",
          "$25000 - $37499",
          "$50000 - $62499",
          "$50000 - $62499",
          "$50000 - $62499",
          "$50000 - $62499",
          "$50000 - $62499",
          "$50000 - $62499",
          "$50000 - $62499",
          "$50000 - $62499",
          "$50000 - $62499",
          "$50000 - $62499",
          "$50000 - $62499",
          "$50000 - $62499"
         ],
         "xaxis": "x",
         "yaxis": "y"
        },
        {
         "alignmentgroup": "True",
         "bingroup": "x",
         "hovertemplate": "occupation=Construction & Extraction<br>income=%{x}<br>count=%{y}<extra></extra>",
         "legendgroup": "Construction & Extraction",
         "marker": {
          "color": "#ab63fa",
          "pattern": {
           "shape": ""
          }
         },
         "name": "Construction & Extraction",
         "offsetgroup": "Construction & Extraction",
         "orientation": "v",
         "showlegend": true,
         "type": "histogram",
         "x": [
          "$100000 or More",
          "$100000 or More",
          "$100000 or More",
          "$100000 or More",
          "Less than $12500",
          "Less than $12500",
          "Less than $12500",
          "Less than $12500",
          "$12500 - $24999",
          "$12500 - $24999",
          "$12500 - $24999",
          "$12500 - $24999",
          "$12500 - $24999",
          "$12500 - $24999",
          "$37500 - $49999",
          "$37500 - $49999",
          "$37500 - $49999",
          "$37500 - $49999",
          "$50000 - $62499",
          "$50000 - $62499",
          "$50000 - $62499",
          "$50000 - $62499",
          "$50000 - $62499",
          "$12500 - $24999",
          "$12500 - $24999",
          "$12500 - $24999",
          "$12500 - $24999",
          "$12500 - $24999",
          "$12500 - $24999",
          "$25000 - $37499",
          "$25000 - $37499",
          "$25000 - $37499",
          "$25000 - $37499",
          "$25000 - $37499",
          "$25000 - $37499"
         ],
         "xaxis": "x",
         "yaxis": "y"
        },
        {
         "alignmentgroup": "True",
         "bingroup": "x",
         "hovertemplate": "occupation=Legal<br>income=%{x}<br>count=%{y}<extra></extra>",
         "legendgroup": "Legal",
         "marker": {
          "color": "#FFA15A",
          "pattern": {
           "shape": ""
          }
         },
         "name": "Legal",
         "offsetgroup": "Legal",
         "orientation": "v",
         "showlegend": true,
         "type": "histogram",
         "x": [
          "$25000 - $37499",
          "$25000 - $37499",
          "$25000 - $37499",
          "$25000 - $37499",
          "$100000 or More",
          "$100000 or More",
          "$100000 or More",
          "$100000 or More",
          "$100000 or More",
          "$100000 or More",
          "$100000 or More",
          "$100000 or More",
          "$100000 or More",
          "$100000 or More",
          "$100000 or More",
          "$100000 or More",
          "$100000 or More",
          "$62500 - $74999",
          "$62500 - $74999",
          "$62500 - $74999",
          "$62500 - $74999",
          "$62500 - $74999",
          "$37500 - $49999",
          "$37500 - $49999",
          "$37500 - $49999",
          "$37500 - $49999",
          "$37500 - $49999",
          "$87500 - $99999",
          "$87500 - $99999",
          "$87500 - $99999",
          "$87500 - $99999",
          "$87500 - $99999",
          "$25000 - $37499",
          "$25000 - $37499",
          "$25000 - $37499",
          "$25000 - $37499",
          "$25000 - $37499",
          "$75000 - $87499",
          "$75000 - $87499",
          "$75000 - $87499",
          "$75000 - $87499",
          "$75000 - $87499",
          "$75000 - $87499",
          "$87500 - $99999",
          "$87500 - $99999",
          "$87500 - $99999",
          "$87500 - $99999",
          "$87500 - $99999",
          "$87500 - $99999"
         ],
         "xaxis": "x",
         "yaxis": "y"
        },
        {
         "alignmentgroup": "True",
         "bingroup": "x",
         "hovertemplate": "occupation=Retired<br>income=%{x}<br>count=%{y}<extra></extra>",
         "legendgroup": "Retired",
         "marker": {
          "color": "#19d3f3",
          "pattern": {
           "shape": ""
          }
         },
         "name": "Retired",
         "offsetgroup": "Retired",
         "orientation": "v",
         "showlegend": true,
         "type": "histogram",
         "x": [
          "$87500 - $99999",
          "$87500 - $99999",
          "$87500 - $99999",
          "$87500 - $99999",
          "$87500 - $99999",
          "$87500 - $99999",
          "$12500 - $24999",
          "$12500 - $24999",
          "$12500 - $24999",
          "$12500 - $24999",
          "$100000 or More",
          "$100000 or More",
          "$100000 or More",
          "$100000 or More",
          "$50000 - $62499",
          "$50000 - $62499",
          "$50000 - $62499",
          "$50000 - $62499",
          "$12500 - $24999",
          "$12500 - $24999",
          "$12500 - $24999",
          "$12500 - $24999",
          "$37500 - $49999",
          "$37500 - $49999",
          "$37500 - $49999",
          "$37500 - $49999",
          "$50000 - $62499",
          "$50000 - $62499",
          "$50000 - $62499",
          "$50000 - $62499",
          "$50000 - $62499",
          "$50000 - $62499",
          "$87500 - $99999",
          "$87500 - $99999",
          "$87500 - $99999",
          "$87500 - $99999",
          "$87500 - $99999",
          "$87500 - $99999",
          "$87500 - $99999",
          "$87500 - $99999",
          "$37500 - $49999",
          "$37500 - $49999",
          "$37500 - $49999",
          "$37500 - $49999",
          "$37500 - $49999",
          "$62500 - $74999",
          "$62500 - $74999",
          "$62500 - $74999",
          "$62500 - $74999",
          "$62500 - $74999",
          "$62500 - $74999",
          "$37500 - $49999",
          "$37500 - $49999",
          "$37500 - $49999",
          "$37500 - $49999",
          "$37500 - $49999",
          "$50000 - $62499",
          "$50000 - $62499",
          "$50000 - $62499",
          "$50000 - $62499",
          "$50000 - $62499",
          "$50000 - $62499",
          "$50000 - $62499",
          "$50000 - $62499",
          "$37500 - $49999",
          "$37500 - $49999",
          "$37500 - $49999",
          "$37500 - $49999",
          "$37500 - $49999",
          "$37500 - $49999",
          "Less than $12500",
          "Less than $12500",
          "Less than $12500",
          "Less than $12500",
          "Less than $12500",
          "$37500 - $49999",
          "$37500 - $49999",
          "$37500 - $49999",
          "$37500 - $49999",
          "$37500 - $49999",
          "$37500 - $49999",
          "$50000 - $62499",
          "$50000 - $62499",
          "$50000 - $62499",
          "$50000 - $62499",
          "$50000 - $62499",
          "$50000 - $62499",
          "Less than $12500",
          "Less than $12500",
          "Less than $12500",
          "Less than $12500",
          "Less than $12500",
          "$50000 - $62499",
          "$50000 - $62499",
          "$50000 - $62499",
          "$75000 - $87499",
          "$75000 - $87499",
          "$75000 - $87499",
          "$50000 - $62499",
          "$50000 - $62499",
          "$50000 - $62499",
          "$50000 - $62499",
          "$50000 - $62499",
          "$50000 - $62499",
          "$50000 - $62499"
         ],
         "xaxis": "x",
         "yaxis": "y"
        },
        {
         "alignmentgroup": "True",
         "bingroup": "x",
         "hovertemplate": "occupation=Community & Social Services<br>income=%{x}<br>count=%{y}<extra></extra>",
         "legendgroup": "Community & Social Services",
         "marker": {
          "color": "#FF6692",
          "pattern": {
           "shape": ""
          }
         },
         "name": "Community & Social Services",
         "offsetgroup": "Community & Social Services",
         "orientation": "v",
         "showlegend": true,
         "type": "histogram",
         "x": [
          "$50000 - $62499",
          "$50000 - $62499",
          "$50000 - $62499",
          "$50000 - $62499",
          "$37500 - $49999",
          "$37500 - $49999",
          "$37500 - $49999",
          "$37500 - $49999",
          "$37500 - $49999",
          "$37500 - $49999",
          "$50000 - $62499",
          "$50000 - $62499",
          "$50000 - $62499",
          "$50000 - $62499",
          "$50000 - $62499",
          "$50000 - $62499",
          "$50000 - $62499",
          "$50000 - $62499",
          "$50000 - $62499",
          "$50000 - $62499",
          "$25000 - $37499",
          "$25000 - $37499",
          "$25000 - $37499",
          "$25000 - $37499",
          "$25000 - $37499",
          "$62500 - $74999",
          "$62500 - $74999",
          "$62500 - $74999",
          "$62500 - $74999",
          "$25000 - $37499",
          "$25000 - $37499",
          "$25000 - $37499",
          "$25000 - $37499",
          "$25000 - $37499",
          "$100000 or More",
          "$100000 or More",
          "$100000 or More",
          "$100000 or More",
          "$37500 - $49999",
          "$37500 - $49999",
          "$37500 - $49999",
          "$37500 - $49999",
          "$100000 or More",
          "$100000 or More",
          "$100000 or More",
          "$100000 or More"
         ],
         "xaxis": "x",
         "yaxis": "y"
        },
        {
         "alignmentgroup": "True",
         "bingroup": "x",
         "hovertemplate": "occupation=Installation Maintenance & Repair<br>income=%{x}<br>count=%{y}<extra></extra>",
         "legendgroup": "Installation Maintenance & Repair",
         "marker": {
          "color": "#B6E880",
          "pattern": {
           "shape": ""
          }
         },
         "name": "Installation Maintenance & Repair",
         "offsetgroup": "Installation Maintenance & Repair",
         "orientation": "v",
         "showlegend": true,
         "type": "histogram",
         "x": [
          "$12500 - $24999",
          "$12500 - $24999",
          "$12500 - $24999",
          "$12500 - $24999",
          "$12500 - $24999",
          "$12500 - $24999",
          "$12500 - $24999",
          "$12500 - $24999",
          "$37500 - $49999",
          "$37500 - $49999",
          "$37500 - $49999",
          "$37500 - $49999",
          "Less than $12500",
          "Less than $12500",
          "Less than $12500",
          "Less than $12500",
          "Less than $12500",
          "$25000 - $37499",
          "$25000 - $37499",
          "$25000 - $37499",
          "$25000 - $37499",
          "$25000 - $37499",
          "$12500 - $24999",
          "$12500 - $24999",
          "$12500 - $24999",
          "$12500 - $24999",
          "$12500 - $24999"
         ],
         "xaxis": "x",
         "yaxis": "y"
        },
        {
         "alignmentgroup": "True",
         "bingroup": "x",
         "hovertemplate": "occupation=Transportation & Material Moving<br>income=%{x}<br>count=%{y}<extra></extra>",
         "legendgroup": "Transportation & Material Moving",
         "marker": {
          "color": "#FF97FF",
          "pattern": {
           "shape": ""
          }
         },
         "name": "Transportation & Material Moving",
         "offsetgroup": "Transportation & Material Moving",
         "orientation": "v",
         "showlegend": true,
         "type": "histogram",
         "x": [
          "$25000 - $37499",
          "$25000 - $37499",
          "$25000 - $37499",
          "$25000 - $37499",
          "$75000 - $87499",
          "$75000 - $87499",
          "$75000 - $87499",
          "$75000 - $87499",
          "$75000 - $87499",
          "$75000 - $87499",
          "$50000 - $62499",
          "$50000 - $62499",
          "$50000 - $62499",
          "$50000 - $62499",
          "$12500 - $24999",
          "$12500 - $24999",
          "$12500 - $24999",
          "$12500 - $24999",
          "$12500 - $24999",
          "$87500 - $99999",
          "$87500 - $99999",
          "$87500 - $99999",
          "$87500 - $99999",
          "$87500 - $99999",
          "$87500 - $99999",
          "$12500 - $24999",
          "$12500 - $24999",
          "$12500 - $24999",
          "$62500 - $74999",
          "$62500 - $74999",
          "$62500 - $74999",
          "$62500 - $74999",
          "$62500 - $74999",
          "$50000 - $62499",
          "$50000 - $62499",
          "$50000 - $62499",
          "$50000 - $62499",
          "$37500 - $49999",
          "$37500 - $49999",
          "$37500 - $49999",
          "$50000 - $62499",
          "$50000 - $62499",
          "$50000 - $62499",
          "$50000 - $62499",
          "$50000 - $62499",
          "$50000 - $62499"
         ],
         "xaxis": "x",
         "yaxis": "y"
        },
        {
         "alignmentgroup": "True",
         "bingroup": "x",
         "hovertemplate": "occupation=Business & Financial<br>income=%{x}<br>count=%{y}<extra></extra>",
         "legendgroup": "Business & Financial",
         "marker": {
          "color": "#FECB52",
          "pattern": {
           "shape": ""
          }
         },
         "name": "Business & Financial",
         "offsetgroup": "Business & Financial",
         "orientation": "v",
         "showlegend": true,
         "type": "histogram",
         "x": [
          "$100000 or More",
          "$100000 or More",
          "$100000 or More",
          "$100000 or More",
          "$100000 or More",
          "$100000 or More",
          "$25000 - $37499",
          "$25000 - $37499",
          "$25000 - $37499",
          "$25000 - $37499",
          "$25000 - $37499",
          "$25000 - $37499",
          "$100000 or More",
          "$100000 or More",
          "$100000 or More",
          "$100000 or More",
          "$100000 or More",
          "$100000 or More",
          "$62500 - $74999",
          "$62500 - $74999",
          "$62500 - $74999",
          "$62500 - $74999",
          "$62500 - $74999",
          "$62500 - $74999",
          "$12500 - $24999",
          "$12500 - $24999",
          "$12500 - $24999",
          "$12500 - $24999",
          "$100000 or More",
          "$100000 or More",
          "$100000 or More",
          "$100000 or More",
          "$75000 - $87499",
          "$75000 - $87499",
          "$75000 - $87499",
          "$75000 - $87499",
          "$75000 - $87499",
          "$100000 or More",
          "$100000 or More",
          "$100000 or More",
          "$100000 or More",
          "$100000 or More",
          "$12500 - $24999",
          "$12500 - $24999",
          "$12500 - $24999",
          "$12500 - $24999",
          "$12500 - $24999",
          "$100000 or More",
          "$100000 or More",
          "$100000 or More",
          "$100000 or More",
          "$100000 or More",
          "$75000 - $87499",
          "$75000 - $87499",
          "$75000 - $87499",
          "$75000 - $87499",
          "$62500 - $74999",
          "$62500 - $74999",
          "$62500 - $74999",
          "$62500 - $74999",
          "$62500 - $74999",
          "$62500 - $74999",
          "$75000 - $87499",
          "$75000 - $87499",
          "$75000 - $87499",
          "$75000 - $87499",
          "$37500 - $49999",
          "$37500 - $49999",
          "$37500 - $49999",
          "$37500 - $49999",
          "$37500 - $49999",
          "$100000 or More",
          "$100000 or More",
          "$100000 or More",
          "$100000 or More",
          "$100000 or More",
          "$75000 - $87499",
          "$75000 - $87499",
          "$75000 - $87499",
          "$75000 - $87499",
          "$75000 - $87499",
          "$75000 - $87499",
          "$87500 - $99999",
          "$87500 - $99999",
          "$87500 - $99999",
          "$87500 - $99999",
          "$37500 - $49999",
          "$37500 - $49999",
          "$37500 - $49999",
          "$37500 - $49999",
          "$37500 - $49999",
          "$50000 - $62499",
          "$50000 - $62499",
          "$50000 - $62499",
          "$50000 - $62499",
          "$50000 - $62499",
          "$62500 - $74999",
          "$62500 - $74999",
          "$62500 - $74999",
          "$62500 - $74999",
          "$62500 - $74999",
          "$62500 - $74999",
          "$62500 - $74999",
          "$62500 - $74999",
          "$62500 - $74999",
          "$62500 - $74999",
          "$100000 or More",
          "$100000 or More",
          "$100000 or More",
          "$100000 or More",
          "$100000 or More",
          "$100000 or More",
          "$100000 or More",
          "$100000 or More",
          "$100000 or More",
          "$100000 or More",
          "$100000 or More",
          "$100000 or More",
          "$100000 or More",
          "$100000 or More"
         ],
         "xaxis": "x",
         "yaxis": "y"
        },
        {
         "alignmentgroup": "True",
         "bingroup": "x",
         "hovertemplate": "occupation=Protective Service<br>income=%{x}<br>count=%{y}<extra></extra>",
         "legendgroup": "Protective Service",
         "marker": {
          "color": "#636efa",
          "pattern": {
           "shape": ""
          }
         },
         "name": "Protective Service",
         "offsetgroup": "Protective Service",
         "orientation": "v",
         "showlegend": true,
         "type": "histogram",
         "x": [
          "$100000 or More",
          "$100000 or More",
          "$100000 or More",
          "$100000 or More",
          "$25000 - $37499",
          "$25000 - $37499",
          "$25000 - $37499",
          "$25000 - $37499",
          "$37500 - $49999",
          "$37500 - $49999",
          "$37500 - $49999",
          "$37500 - $49999",
          "$25000 - $37499",
          "$25000 - $37499",
          "$25000 - $37499",
          "$25000 - $37499",
          "$25000 - $37499",
          "$25000 - $37499",
          "$100000 or More",
          "$100000 or More",
          "$100000 or More",
          "$100000 or More",
          "$100000 or More",
          "$100000 or More",
          "$25000 - $37499",
          "$25000 - $37499",
          "$25000 - $37499",
          "$25000 - $37499",
          "$25000 - $37499",
          "$25000 - $37499",
          "$25000 - $37499",
          "$25000 - $37499",
          "$25000 - $37499",
          "$25000 - $37499",
          "$100000 or More",
          "$100000 or More",
          "$100000 or More",
          "$100000 or More"
         ],
         "xaxis": "x",
         "yaxis": "y"
        },
        {
         "alignmentgroup": "True",
         "bingroup": "x",
         "hovertemplate": "occupation=Food Preparation & Serving Related<br>income=%{x}<br>count=%{y}<extra></extra>",
         "legendgroup": "Food Preparation & Serving Related",
         "marker": {
          "color": "#EF553B",
          "pattern": {
           "shape": ""
          }
         },
         "name": "Food Preparation & Serving Related",
         "offsetgroup": "Food Preparation & Serving Related",
         "orientation": "v",
         "showlegend": true,
         "type": "histogram",
         "x": [
          "$12500 - $24999",
          "$12500 - $24999",
          "$12500 - $24999",
          "$12500 - $24999",
          "$12500 - $24999",
          "$12500 - $24999",
          "$25000 - $37499",
          "$25000 - $37499",
          "$25000 - $37499",
          "$25000 - $37499",
          "$25000 - $37499",
          "$25000 - $37499",
          "$25000 - $37499",
          "$25000 - $37499",
          "$12500 - $24999",
          "$12500 - $24999",
          "$12500 - $24999",
          "$12500 - $24999",
          "$12500 - $24999",
          "$12500 - $24999",
          "$12500 - $24999",
          "$12500 - $24999",
          "$12500 - $24999",
          "$12500 - $24999",
          "$12500 - $24999",
          "$50000 - $62499",
          "$50000 - $62499",
          "$50000 - $62499",
          "$50000 - $62499",
          "$50000 - $62499",
          "$50000 - $62499",
          "$87500 - $99999",
          "$87500 - $99999",
          "$87500 - $99999",
          "$87500 - $99999",
          "$87500 - $99999",
          "Less than $12500",
          "Less than $12500",
          "Less than $12500",
          "Less than $12500",
          "$12500 - $24999",
          "$12500 - $24999",
          "$12500 - $24999",
          "$12500 - $24999",
          "$12500 - $24999",
          "$100000 or More",
          "$100000 or More",
          "$100000 or More",
          "$12500 - $24999",
          "$12500 - $24999",
          "$12500 - $24999",
          "$12500 - $24999",
          "$12500 - $24999",
          "$12500 - $24999",
          "$12500 - $24999",
          "$12500 - $24999",
          "$12500 - $24999",
          "$12500 - $24999",
          "$12500 - $24999",
          "$12500 - $24999",
          "$12500 - $24999",
          "$12500 - $24999",
          "$12500 - $24999",
          "$12500 - $24999",
          "$12500 - $24999",
          "$12500 - $24999"
         ],
         "xaxis": "x",
         "yaxis": "y"
        },
        {
         "alignmentgroup": "True",
         "bingroup": "x",
         "hovertemplate": "occupation=Production Occupations<br>income=%{x}<br>count=%{y}<extra></extra>",
         "legendgroup": "Production Occupations",
         "marker": {
          "color": "#00cc96",
          "pattern": {
           "shape": ""
          }
         },
         "name": "Production Occupations",
         "offsetgroup": "Production Occupations",
         "orientation": "v",
         "showlegend": true,
         "type": "histogram",
         "x": [
          "$25000 - $37499",
          "$25000 - $37499",
          "$25000 - $37499",
          "$25000 - $37499",
          "$25000 - $37499",
          "Less than $12500",
          "Less than $12500",
          "Less than $12500",
          "Less than $12500",
          "Less than $12500",
          "$25000 - $37499",
          "$25000 - $37499",
          "$25000 - $37499",
          "$25000 - $37499",
          "$37500 - $49999",
          "$37500 - $49999",
          "$37500 - $49999",
          "$37500 - $49999",
          "$37500 - $49999",
          "$37500 - $49999"
         ],
         "xaxis": "x",
         "yaxis": "y"
        },
        {
         "alignmentgroup": "True",
         "bingroup": "x",
         "hovertemplate": "occupation=Building & Grounds Cleaning & Maintenance<br>income=%{x}<br>count=%{y}<extra></extra>",
         "legendgroup": "Building & Grounds Cleaning & Maintenance",
         "marker": {
          "color": "#ab63fa",
          "pattern": {
           "shape": ""
          }
         },
         "name": "Building & Grounds Cleaning & Maintenance",
         "offsetgroup": "Building & Grounds Cleaning & Maintenance",
         "orientation": "v",
         "showlegend": true,
         "type": "histogram",
         "x": [
          "$37500 - $49999",
          "$37500 - $49999",
          "$37500 - $49999",
          "$37500 - $49999",
          "$37500 - $49999",
          "$37500 - $49999",
          "$25000 - $37499",
          "$25000 - $37499",
          "$25000 - $37499",
          "$25000 - $37499"
         ],
         "xaxis": "x",
         "yaxis": "y"
        },
        {
         "alignmentgroup": "True",
         "bingroup": "x",
         "hovertemplate": "occupation=Farming Fishing & Forestry<br>income=%{x}<br>count=%{y}<extra></extra>",
         "legendgroup": "Farming Fishing & Forestry",
         "marker": {
          "color": "#FFA15A",
          "pattern": {
           "shape": ""
          }
         },
         "name": "Farming Fishing & Forestry",
         "offsetgroup": "Farming Fishing & Forestry",
         "orientation": "v",
         "showlegend": true,
         "type": "histogram",
         "x": [
          "$25000 - $37499",
          "$25000 - $37499",
          "$25000 - $37499",
          "$25000 - $37499",
          "$37500 - $49999",
          "$37500 - $49999",
          "$37500 - $49999"
         ],
         "xaxis": "x",
         "yaxis": "y"
        }
       ],
       "layout": {
        "barmode": "relative",
        "legend": {
         "title": {
          "text": "occupation"
         },
         "tracegroupgap": 0
        },
        "margin": {
         "t": 60
        },
        "template": {
         "data": {
          "bar": [
           {
            "error_x": {
             "color": "#2a3f5f"
            },
            "error_y": {
             "color": "#2a3f5f"
            },
            "marker": {
             "line": {
              "color": "#E5ECF6",
              "width": 0.5
             },
             "pattern": {
              "fillmode": "overlay",
              "size": 10,
              "solidity": 0.2
             }
            },
            "type": "bar"
           }
          ],
          "barpolar": [
           {
            "marker": {
             "line": {
              "color": "#E5ECF6",
              "width": 0.5
             },
             "pattern": {
              "fillmode": "overlay",
              "size": 10,
              "solidity": 0.2
             }
            },
            "type": "barpolar"
           }
          ],
          "carpet": [
           {
            "aaxis": {
             "endlinecolor": "#2a3f5f",
             "gridcolor": "white",
             "linecolor": "white",
             "minorgridcolor": "white",
             "startlinecolor": "#2a3f5f"
            },
            "baxis": {
             "endlinecolor": "#2a3f5f",
             "gridcolor": "white",
             "linecolor": "white",
             "minorgridcolor": "white",
             "startlinecolor": "#2a3f5f"
            },
            "type": "carpet"
           }
          ],
          "choropleth": [
           {
            "colorbar": {
             "outlinewidth": 0,
             "ticks": ""
            },
            "type": "choropleth"
           }
          ],
          "contour": [
           {
            "colorbar": {
             "outlinewidth": 0,
             "ticks": ""
            },
            "colorscale": [
             [
              0,
              "#0d0887"
             ],
             [
              0.1111111111111111,
              "#46039f"
             ],
             [
              0.2222222222222222,
              "#7201a8"
             ],
             [
              0.3333333333333333,
              "#9c179e"
             ],
             [
              0.4444444444444444,
              "#bd3786"
             ],
             [
              0.5555555555555556,
              "#d8576b"
             ],
             [
              0.6666666666666666,
              "#ed7953"
             ],
             [
              0.7777777777777778,
              "#fb9f3a"
             ],
             [
              0.8888888888888888,
              "#fdca26"
             ],
             [
              1,
              "#f0f921"
             ]
            ],
            "type": "contour"
           }
          ],
          "contourcarpet": [
           {
            "colorbar": {
             "outlinewidth": 0,
             "ticks": ""
            },
            "type": "contourcarpet"
           }
          ],
          "heatmap": [
           {
            "colorbar": {
             "outlinewidth": 0,
             "ticks": ""
            },
            "colorscale": [
             [
              0,
              "#0d0887"
             ],
             [
              0.1111111111111111,
              "#46039f"
             ],
             [
              0.2222222222222222,
              "#7201a8"
             ],
             [
              0.3333333333333333,
              "#9c179e"
             ],
             [
              0.4444444444444444,
              "#bd3786"
             ],
             [
              0.5555555555555556,
              "#d8576b"
             ],
             [
              0.6666666666666666,
              "#ed7953"
             ],
             [
              0.7777777777777778,
              "#fb9f3a"
             ],
             [
              0.8888888888888888,
              "#fdca26"
             ],
             [
              1,
              "#f0f921"
             ]
            ],
            "type": "heatmap"
           }
          ],
          "heatmapgl": [
           {
            "colorbar": {
             "outlinewidth": 0,
             "ticks": ""
            },
            "colorscale": [
             [
              0,
              "#0d0887"
             ],
             [
              0.1111111111111111,
              "#46039f"
             ],
             [
              0.2222222222222222,
              "#7201a8"
             ],
             [
              0.3333333333333333,
              "#9c179e"
             ],
             [
              0.4444444444444444,
              "#bd3786"
             ],
             [
              0.5555555555555556,
              "#d8576b"
             ],
             [
              0.6666666666666666,
              "#ed7953"
             ],
             [
              0.7777777777777778,
              "#fb9f3a"
             ],
             [
              0.8888888888888888,
              "#fdca26"
             ],
             [
              1,
              "#f0f921"
             ]
            ],
            "type": "heatmapgl"
           }
          ],
          "histogram": [
           {
            "marker": {
             "pattern": {
              "fillmode": "overlay",
              "size": 10,
              "solidity": 0.2
             }
            },
            "type": "histogram"
           }
          ],
          "histogram2d": [
           {
            "colorbar": {
             "outlinewidth": 0,
             "ticks": ""
            },
            "colorscale": [
             [
              0,
              "#0d0887"
             ],
             [
              0.1111111111111111,
              "#46039f"
             ],
             [
              0.2222222222222222,
              "#7201a8"
             ],
             [
              0.3333333333333333,
              "#9c179e"
             ],
             [
              0.4444444444444444,
              "#bd3786"
             ],
             [
              0.5555555555555556,
              "#d8576b"
             ],
             [
              0.6666666666666666,
              "#ed7953"
             ],
             [
              0.7777777777777778,
              "#fb9f3a"
             ],
             [
              0.8888888888888888,
              "#fdca26"
             ],
             [
              1,
              "#f0f921"
             ]
            ],
            "type": "histogram2d"
           }
          ],
          "histogram2dcontour": [
           {
            "colorbar": {
             "outlinewidth": 0,
             "ticks": ""
            },
            "colorscale": [
             [
              0,
              "#0d0887"
             ],
             [
              0.1111111111111111,
              "#46039f"
             ],
             [
              0.2222222222222222,
              "#7201a8"
             ],
             [
              0.3333333333333333,
              "#9c179e"
             ],
             [
              0.4444444444444444,
              "#bd3786"
             ],
             [
              0.5555555555555556,
              "#d8576b"
             ],
             [
              0.6666666666666666,
              "#ed7953"
             ],
             [
              0.7777777777777778,
              "#fb9f3a"
             ],
             [
              0.8888888888888888,
              "#fdca26"
             ],
             [
              1,
              "#f0f921"
             ]
            ],
            "type": "histogram2dcontour"
           }
          ],
          "mesh3d": [
           {
            "colorbar": {
             "outlinewidth": 0,
             "ticks": ""
            },
            "type": "mesh3d"
           }
          ],
          "parcoords": [
           {
            "line": {
             "colorbar": {
              "outlinewidth": 0,
              "ticks": ""
             }
            },
            "type": "parcoords"
           }
          ],
          "pie": [
           {
            "automargin": true,
            "type": "pie"
           }
          ],
          "scatter": [
           {
            "fillpattern": {
             "fillmode": "overlay",
             "size": 10,
             "solidity": 0.2
            },
            "type": "scatter"
           }
          ],
          "scatter3d": [
           {
            "line": {
             "colorbar": {
              "outlinewidth": 0,
              "ticks": ""
             }
            },
            "marker": {
             "colorbar": {
              "outlinewidth": 0,
              "ticks": ""
             }
            },
            "type": "scatter3d"
           }
          ],
          "scattercarpet": [
           {
            "marker": {
             "colorbar": {
              "outlinewidth": 0,
              "ticks": ""
             }
            },
            "type": "scattercarpet"
           }
          ],
          "scattergeo": [
           {
            "marker": {
             "colorbar": {
              "outlinewidth": 0,
              "ticks": ""
             }
            },
            "type": "scattergeo"
           }
          ],
          "scattergl": [
           {
            "marker": {
             "colorbar": {
              "outlinewidth": 0,
              "ticks": ""
             }
            },
            "type": "scattergl"
           }
          ],
          "scattermapbox": [
           {
            "marker": {
             "colorbar": {
              "outlinewidth": 0,
              "ticks": ""
             }
            },
            "type": "scattermapbox"
           }
          ],
          "scatterpolar": [
           {
            "marker": {
             "colorbar": {
              "outlinewidth": 0,
              "ticks": ""
             }
            },
            "type": "scatterpolar"
           }
          ],
          "scatterpolargl": [
           {
            "marker": {
             "colorbar": {
              "outlinewidth": 0,
              "ticks": ""
             }
            },
            "type": "scatterpolargl"
           }
          ],
          "scatterternary": [
           {
            "marker": {
             "colorbar": {
              "outlinewidth": 0,
              "ticks": ""
             }
            },
            "type": "scatterternary"
           }
          ],
          "surface": [
           {
            "colorbar": {
             "outlinewidth": 0,
             "ticks": ""
            },
            "colorscale": [
             [
              0,
              "#0d0887"
             ],
             [
              0.1111111111111111,
              "#46039f"
             ],
             [
              0.2222222222222222,
              "#7201a8"
             ],
             [
              0.3333333333333333,
              "#9c179e"
             ],
             [
              0.4444444444444444,
              "#bd3786"
             ],
             [
              0.5555555555555556,
              "#d8576b"
             ],
             [
              0.6666666666666666,
              "#ed7953"
             ],
             [
              0.7777777777777778,
              "#fb9f3a"
             ],
             [
              0.8888888888888888,
              "#fdca26"
             ],
             [
              1,
              "#f0f921"
             ]
            ],
            "type": "surface"
           }
          ],
          "table": [
           {
            "cells": {
             "fill": {
              "color": "#EBF0F8"
             },
             "line": {
              "color": "white"
             }
            },
            "header": {
             "fill": {
              "color": "#C8D4E3"
             },
             "line": {
              "color": "white"
             }
            },
            "type": "table"
           }
          ]
         },
         "layout": {
          "annotationdefaults": {
           "arrowcolor": "#2a3f5f",
           "arrowhead": 0,
           "arrowwidth": 1
          },
          "autotypenumbers": "strict",
          "coloraxis": {
           "colorbar": {
            "outlinewidth": 0,
            "ticks": ""
           }
          },
          "colorscale": {
           "diverging": [
            [
             0,
             "#8e0152"
            ],
            [
             0.1,
             "#c51b7d"
            ],
            [
             0.2,
             "#de77ae"
            ],
            [
             0.3,
             "#f1b6da"
            ],
            [
             0.4,
             "#fde0ef"
            ],
            [
             0.5,
             "#f7f7f7"
            ],
            [
             0.6,
             "#e6f5d0"
            ],
            [
             0.7,
             "#b8e186"
            ],
            [
             0.8,
             "#7fbc41"
            ],
            [
             0.9,
             "#4d9221"
            ],
            [
             1,
             "#276419"
            ]
           ],
           "sequential": [
            [
             0,
             "#0d0887"
            ],
            [
             0.1111111111111111,
             "#46039f"
            ],
            [
             0.2222222222222222,
             "#7201a8"
            ],
            [
             0.3333333333333333,
             "#9c179e"
            ],
            [
             0.4444444444444444,
             "#bd3786"
            ],
            [
             0.5555555555555556,
             "#d8576b"
            ],
            [
             0.6666666666666666,
             "#ed7953"
            ],
            [
             0.7777777777777778,
             "#fb9f3a"
            ],
            [
             0.8888888888888888,
             "#fdca26"
            ],
            [
             1,
             "#f0f921"
            ]
           ],
           "sequentialminus": [
            [
             0,
             "#0d0887"
            ],
            [
             0.1111111111111111,
             "#46039f"
            ],
            [
             0.2222222222222222,
             "#7201a8"
            ],
            [
             0.3333333333333333,
             "#9c179e"
            ],
            [
             0.4444444444444444,
             "#bd3786"
            ],
            [
             0.5555555555555556,
             "#d8576b"
            ],
            [
             0.6666666666666666,
             "#ed7953"
            ],
            [
             0.7777777777777778,
             "#fb9f3a"
            ],
            [
             0.8888888888888888,
             "#fdca26"
            ],
            [
             1,
             "#f0f921"
            ]
           ]
          },
          "colorway": [
           "#636efa",
           "#EF553B",
           "#00cc96",
           "#ab63fa",
           "#FFA15A",
           "#19d3f3",
           "#FF6692",
           "#B6E880",
           "#FF97FF",
           "#FECB52"
          ],
          "font": {
           "color": "#2a3f5f"
          },
          "geo": {
           "bgcolor": "white",
           "lakecolor": "white",
           "landcolor": "#E5ECF6",
           "showlakes": true,
           "showland": true,
           "subunitcolor": "white"
          },
          "hoverlabel": {
           "align": "left"
          },
          "hovermode": "closest",
          "mapbox": {
           "style": "light"
          },
          "paper_bgcolor": "white",
          "plot_bgcolor": "#E5ECF6",
          "polar": {
           "angularaxis": {
            "gridcolor": "white",
            "linecolor": "white",
            "ticks": ""
           },
           "bgcolor": "#E5ECF6",
           "radialaxis": {
            "gridcolor": "white",
            "linecolor": "white",
            "ticks": ""
           }
          },
          "scene": {
           "xaxis": {
            "backgroundcolor": "#E5ECF6",
            "gridcolor": "white",
            "gridwidth": 2,
            "linecolor": "white",
            "showbackground": true,
            "ticks": "",
            "zerolinecolor": "white"
           },
           "yaxis": {
            "backgroundcolor": "#E5ECF6",
            "gridcolor": "white",
            "gridwidth": 2,
            "linecolor": "white",
            "showbackground": true,
            "ticks": "",
            "zerolinecolor": "white"
           },
           "zaxis": {
            "backgroundcolor": "#E5ECF6",
            "gridcolor": "white",
            "gridwidth": 2,
            "linecolor": "white",
            "showbackground": true,
            "ticks": "",
            "zerolinecolor": "white"
           }
          },
          "shapedefaults": {
           "line": {
            "color": "#2a3f5f"
           }
          },
          "ternary": {
           "aaxis": {
            "gridcolor": "white",
            "linecolor": "white",
            "ticks": ""
           },
           "baxis": {
            "gridcolor": "white",
            "linecolor": "white",
            "ticks": ""
           },
           "bgcolor": "#E5ECF6",
           "caxis": {
            "gridcolor": "white",
            "linecolor": "white",
            "ticks": ""
           }
          },
          "title": {
           "x": 0.05
          },
          "xaxis": {
           "automargin": true,
           "gridcolor": "white",
           "linecolor": "white",
           "ticks": "",
           "title": {
            "standoff": 15
           },
           "zerolinecolor": "white",
           "zerolinewidth": 2
          },
          "yaxis": {
           "automargin": true,
           "gridcolor": "white",
           "linecolor": "white",
           "ticks": "",
           "title": {
            "standoff": 15
           },
           "zerolinecolor": "white",
           "zerolinewidth": 2
          }
         }
        },
        "xaxis": {
         "anchor": "y",
         "domain": [
          0,
          1
         ],
         "title": {
          "text": "income"
         }
        },
        "yaxis": {
         "anchor": "x",
         "domain": [
          0,
          1
         ],
         "title": {
          "text": "count"
         }
        }
       }
      },
      "text/html": [
       "<div>                            <div id=\"2a6a6f99-81e2-48e5-abaf-faf48e248fd2\" class=\"plotly-graph-div\" style=\"height:525px; width:100%;\"></div>            <script type=\"text/javascript\">                require([\"plotly\"], function(Plotly) {                    window.PLOTLYENV=window.PLOTLYENV || {};                                    if (document.getElementById(\"2a6a6f99-81e2-48e5-abaf-faf48e248fd2\")) {                    Plotly.newPlot(                        \"2a6a6f99-81e2-48e5-abaf-faf48e248fd2\",                        [{\"alignmentgroup\":\"True\",\"bingroup\":\"x\",\"hovertemplate\":\"occupation=Architecture & Engineering<br>income=%{x}<br>count=%{y}<extra></extra>\",\"legendgroup\":\"Architecture & Engineering\",\"marker\":{\"color\":\"#636efa\",\"pattern\":{\"shape\":\"\"}},\"name\":\"Architecture & Engineering\",\"offsetgroup\":\"Architecture & Engineering\",\"orientation\":\"v\",\"showlegend\":true,\"x\":[\"$62500 - $74999\",\"$62500 - $74999\",\"$62500 - $74999\",\"$62500 - $74999\",\"$75000 - $87499\",\"$75000 - $87499\",\"$75000 - $87499\",\"$75000 - $87499\",\"$100000 or More\",\"$100000 or More\",\"$100000 or More\",\"$100000 or More\",\"$100000 or More\",\"$100000 or More\",\"$50000 - $62499\",\"$50000 - $62499\",\"$50000 - $62499\",\"$50000 - $62499\",\"$37500 - $49999\",\"$37500 - $49999\",\"$37500 - $49999\",\"$37500 - $49999\",\"$37500 - $49999\",\"$87500 - $99999\",\"$87500 - $99999\",\"$87500 - $99999\",\"$87500 - $99999\",\"$87500 - $99999\",\"$87500 - $99999\",\"$100000 or More\",\"$100000 or More\",\"$100000 or More\",\"$100000 or More\",\"$100000 or More\",\"$100000 or More\",\"$75000 - $87499\",\"$75000 - $87499\",\"$75000 - $87499\",\"$75000 - $87499\"],\"xaxis\":\"x\",\"yaxis\":\"y\",\"type\":\"histogram\"},{\"alignmentgroup\":\"True\",\"bingroup\":\"x\",\"hovertemplate\":\"occupation=Student<br>income=%{x}<br>count=%{y}<extra></extra>\",\"legendgroup\":\"Student\",\"marker\":{\"color\":\"#EF553B\",\"pattern\":{\"shape\":\"\"}},\"name\":\"Student\",\"offsetgroup\":\"Student\",\"orientation\":\"v\",\"showlegend\":true,\"x\":[\"$12500 - $24999\",\"$12500 - $24999\",\"$12500 - $24999\",\"$12500 - $24999\",\"$12500 - $24999\",\"$12500 - $24999\",\"$12500 - $24999\",\"$12500 - $24999\",\"$50000 - $62499\",\"$50000 - $62499\",\"$50000 - $62499\",\"$50000 - $62499\",\"$75000 - $87499\",\"$75000 - $87499\",\"$75000 - $87499\",\"$100000 or More\",\"$100000 or More\",\"$100000 or More\",\"$100000 or More\",\"$25000 - $37499\",\"$25000 - $37499\",\"$25000 - $37499\",\"$25000 - $37499\",\"$25000 - $37499\",\"$25000 - $37499\",\"$62500 - $74999\",\"$62500 - $74999\",\"$62500 - $74999\",\"$62500 - $74999\",\"$37500 - $49999\",\"$37500 - $49999\",\"$37500 - $49999\",\"$37500 - $49999\",\"$12500 - $24999\",\"$12500 - $24999\",\"$12500 - $24999\",\"$12500 - $24999\",\"$12500 - $24999\",\"$12500 - $24999\",\"$12500 - $24999\",\"$12500 - $24999\",\"$12500 - $24999\",\"$12500 - $24999\",\"$12500 - $24999\",\"$12500 - $24999\",\"$12500 - $24999\",\"$12500 - $24999\",\"$100000 or More\",\"$100000 or More\",\"$100000 or More\",\"$100000 or More\",\"$100000 or More\",\"$100000 or More\",\"$100000 or More\",\"$100000 or More\",\"$50000 - $62499\",\"$50000 - $62499\",\"$50000 - $62499\",\"$50000 - $62499\",\"$62500 - $74999\",\"$62500 - $74999\",\"$62500 - $74999\",\"$62500 - $74999\",\"$12500 - $24999\",\"$12500 - $24999\",\"$12500 - $24999\",\"$12500 - $24999\",\"$50000 - $62499\",\"$50000 - $62499\",\"$50000 - $62499\",\"$50000 - $62499\",\"$100000 or More\",\"$100000 or More\",\"$100000 or More\",\"$100000 or More\",\"Less than $12500\",\"Less than $12500\",\"Less than $12500\",\"Less than $12500\",\"$62500 - $74999\",\"$62500 - $74999\",\"$62500 - $74999\",\"$62500 - $74999\",\"Less than $12500\",\"Less than $12500\",\"Less than $12500\",\"Less than $12500\",\"Less than $12500\",\"$100000 or More\",\"$100000 or More\",\"$100000 or More\",\"$100000 or More\",\"$100000 or More\",\"Less than $12500\",\"Less than $12500\",\"Less than $12500\",\"Less than $12500\",\"Less than $12500\",\"$12500 - $24999\",\"$12500 - $24999\",\"$12500 - $24999\",\"$12500 - $24999\",\"$12500 - $24999\",\"$25000 - $37499\",\"$25000 - $37499\",\"$25000 - $37499\",\"$25000 - $37499\",\"$25000 - $37499\",\"$25000 - $37499\",\"$25000 - $37499\",\"$25000 - $37499\",\"$25000 - $37499\",\"$25000 - $37499\",\"$50000 - $62499\",\"$50000 - $62499\",\"$50000 - $62499\",\"$50000 - $62499\",\"$50000 - $62499\",\"$37500 - $49999\",\"$37500 - $49999\",\"$37500 - $49999\",\"$37500 - $49999\",\"$37500 - $49999\",\"$62500 - $74999\",\"$62500 - $74999\",\"$62500 - $74999\",\"$62500 - $74999\",\"$62500 - $74999\",\"$50000 - $62499\",\"$50000 - $62499\",\"$50000 - $62499\",\"$50000 - $62499\",\"$50000 - $62499\",\"$50000 - $62499\",\"$50000 - $62499\",\"$50000 - $62499\",\"$50000 - $62499\",\"$50000 - $62499\",\"$25000 - $37499\",\"$25000 - $37499\",\"$25000 - $37499\",\"$25000 - $37499\",\"$25000 - $37499\",\"Less than $12500\",\"Less than $12500\",\"Less than $12500\",\"Less than $12500\",\"Less than $12500\",\"$50000 - $62499\",\"$50000 - $62499\",\"$50000 - $62499\",\"$50000 - $62499\",\"$50000 - $62499\",\"$100000 or More\",\"$100000 or More\",\"$100000 or More\",\"$100000 or More\",\"$100000 or More\",\"Less than $12500\",\"Less than $12500\",\"Less than $12500\",\"Less than $12500\",\"Less than $12500\",\"$12500 - $24999\",\"$12500 - $24999\",\"$12500 - $24999\",\"$12500 - $24999\",\"$12500 - $24999\",\"Less than $12500\",\"Less than $12500\",\"Less than $12500\",\"Less than $12500\",\"Less than $12500\",\"$37500 - $49999\",\"$37500 - $49999\",\"$37500 - $49999\",\"$37500 - $49999\",\"$37500 - $49999\",\"$87500 - $99999\",\"$87500 - $99999\",\"$87500 - $99999\",\"$87500 - $99999\",\"$87500 - $99999\",\"$87500 - $99999\",\"$12500 - $24999\",\"$12500 - $24999\",\"$12500 - $24999\",\"$12500 - $24999\",\"$87500 - $99999\",\"$87500 - $99999\",\"$87500 - $99999\",\"$12500 - $24999\",\"$12500 - $24999\",\"$12500 - $24999\",\"$12500 - $24999\",\"$12500 - $24999\",\"Less than $12500\",\"Less than $12500\",\"Less than $12500\",\"Less than $12500\",\"$87500 - $99999\",\"$87500 - $99999\",\"$87500 - $99999\",\"$87500 - $99999\",\"$87500 - $99999\",\"$37500 - $49999\",\"$37500 - $49999\",\"$37500 - $49999\",\"$37500 - $49999\",\"$37500 - $49999\",\"$100000 or More\",\"$100000 or More\",\"$100000 or More\",\"$100000 or More\",\"$62500 - $74999\",\"$62500 - $74999\",\"$62500 - $74999\",\"$62500 - $74999\",\"$12500 - $24999\",\"$12500 - $24999\",\"$12500 - $24999\",\"$12500 - $24999\",\"Less than $12500\",\"Less than $12500\",\"Less than $12500\",\"Less than $12500\",\"$25000 - $37499\",\"$25000 - $37499\",\"$25000 - $37499\",\"$25000 - $37499\",\"$25000 - $37499\",\"$25000 - $37499\",\"Less than $12500\",\"Less than $12500\",\"Less than $12500\",\"Less than $12500\",\"Less than $12500\",\"Less than $12500\",\"Less than $12500\",\"Less than $12500\",\"Less than $12500\",\"$87500 - $99999\",\"$87500 - $99999\",\"$87500 - $99999\",\"Less than $12500\",\"Less than $12500\",\"Less than $12500\",\"Less than $12500\",\"Less than $12500\",\"Less than $12500\",\"Less than $12500\",\"Less than $12500\",\"Less than $12500\",\"Less than $12500\",\"Less than $12500\",\"Less than $12500\",\"$37500 - $49999\",\"$37500 - $49999\",\"$37500 - $49999\",\"$37500 - $49999\",\"$100000 or More\",\"$100000 or More\",\"$100000 or More\",\"$100000 or More\",\"$100000 or More\",\"$100000 or More\",\"$12500 - $24999\",\"$12500 - $24999\",\"$12500 - $24999\",\"$12500 - $24999\",\"$12500 - $24999\",\"$12500 - $24999\",\"$25000 - $37499\",\"$25000 - $37499\",\"$25000 - $37499\",\"$25000 - $37499\",\"$25000 - $37499\",\"$25000 - $37499\",\"$25000 - $37499\",\"$25000 - $37499\",\"$25000 - $37499\",\"$25000 - $37499\",\"$25000 - $37499\",\"$25000 - $37499\",\"$12500 - $24999\",\"$12500 - $24999\",\"$12500 - $24999\",\"$12500 - $24999\",\"$12500 - $24999\",\"$12500 - $24999\",\"Less than $12500\",\"Less than $12500\",\"Less than $12500\",\"Less than $12500\",\"Less than $12500\",\"Less than $12500\",\"$25000 - $37499\",\"$25000 - $37499\",\"$25000 - $37499\",\"$25000 - $37499\",\"$25000 - $37499\",\"$25000 - $37499\",\"Less than $12500\",\"Less than $12500\",\"Less than $12500\",\"Less than $12500\",\"Less than $12500\",\"Less than $12500\",\"$100000 or More\",\"$100000 or More\",\"$100000 or More\",\"$100000 or More\",\"$100000 or More\",\"$100000 or More\",\"Less than $12500\",\"Less than $12500\",\"Less than $12500\",\"Less than $12500\",\"Less than $12500\",\"Less than $12500\",\"$12500 - $24999\",\"$12500 - $24999\",\"$12500 - $24999\",\"$12500 - $24999\",\"$12500 - $24999\",\"$12500 - $24999\"],\"xaxis\":\"x\",\"yaxis\":\"y\",\"type\":\"histogram\"},{\"alignmentgroup\":\"True\",\"bingroup\":\"x\",\"hovertemplate\":\"occupation=Education&Training&Library<br>income=%{x}<br>count=%{y}<extra></extra>\",\"legendgroup\":\"Education&Training&Library\",\"marker\":{\"color\":\"#00cc96\",\"pattern\":{\"shape\":\"\"}},\"name\":\"Education&Training&Library\",\"offsetgroup\":\"Education&Training&Library\",\"orientation\":\"v\",\"showlegend\":true,\"x\":[\"$75000 - $87499\",\"$75000 - $87499\",\"$75000 - $87499\",\"$75000 - $87499\",\"$75000 - $87499\",\"$75000 - $87499\",\"$50000 - $62499\",\"$50000 - $62499\",\"$50000 - $62499\",\"$50000 - $62499\",\"$50000 - $62499\",\"$50000 - $62499\",\"$25000 - $37499\",\"$25000 - $37499\",\"$25000 - $37499\",\"$25000 - $37499\",\"$87500 - $99999\",\"$87500 - $99999\",\"$87500 - $99999\",\"$87500 - $99999\",\"$87500 - $99999\",\"$87500 - $99999\",\"$25000 - $37499\",\"$25000 - $37499\",\"$25000 - $37499\",\"$25000 - $37499\",\"$50000 - $62499\",\"$50000 - $62499\",\"$50000 - $62499\",\"$50000 - $62499\",\"$50000 - $62499\",\"$50000 - $62499\",\"$50000 - $62499\",\"$50000 - $62499\",\"$50000 - $62499\",\"$50000 - $62499\",\"$50000 - $62499\",\"$50000 - $62499\",\"$25000 - $37499\",\"$25000 - $37499\",\"$25000 - $37499\",\"$25000 - $37499\",\"$25000 - $37499\",\"$25000 - $37499\",\"$100000 or More\",\"$100000 or More\",\"$100000 or More\",\"$100000 or More\",\"$100000 or More\",\"$100000 or More\",\"$50000 - $62499\",\"$50000 - $62499\",\"$50000 - $62499\",\"$50000 - $62499\",\"$50000 - $62499\",\"$50000 - $62499\",\"$25000 - $37499\",\"$25000 - $37499\",\"$25000 - $37499\",\"$25000 - $37499\",\"$100000 or More\",\"$100000 or More\",\"$100000 or More\",\"$100000 or More\",\"$100000 or More\",\"$100000 or More\",\"$50000 - $62499\",\"$50000 - $62499\",\"$50000 - $62499\",\"$50000 - $62499\",\"$50000 - $62499\",\"$12500 - $24999\",\"$12500 - $24999\",\"$12500 - $24999\",\"$12500 - $24999\",\"$12500 - $24999\",\"$37500 - $49999\",\"$37500 - $49999\",\"$37500 - $49999\",\"$37500 - $49999\",\"$37500 - $49999\",\"$37500 - $49999\",\"$37500 - $49999\",\"$37500 - $49999\",\"$37500 - $49999\",\"$100000 or More\",\"$100000 or More\",\"$100000 or More\",\"$100000 or More\",\"$100000 or More\",\"$12500 - $24999\",\"$12500 - $24999\",\"$12500 - $24999\",\"$12500 - $24999\",\"$12500 - $24999\",\"$25000 - $37499\",\"$25000 - $37499\",\"$25000 - $37499\",\"$25000 - $37499\",\"$25000 - $37499\",\"$25000 - $37499\",\"$50000 - $62499\",\"$50000 - $62499\",\"$50000 - $62499\",\"$50000 - $62499\",\"$50000 - $62499\",\"$25000 - $37499\",\"$25000 - $37499\",\"$25000 - $37499\",\"$25000 - $37499\",\"$25000 - $37499\",\"$25000 - $37499\",\"$25000 - $37499\",\"$25000 - $37499\",\"$25000 - $37499\",\"$25000 - $37499\",\"$25000 - $37499\",\"$25000 - $37499\",\"$25000 - $37499\",\"$25000 - $37499\",\"$25000 - $37499\",\"$25000 - $37499\",\"$12500 - $24999\",\"$12500 - $24999\",\"$12500 - $24999\",\"$12500 - $24999\",\"$62500 - $74999\",\"$62500 - $74999\",\"$62500 - $74999\",\"$62500 - $74999\",\"$62500 - $74999\",\"$62500 - $74999\",\"$50000 - $62499\",\"$50000 - $62499\",\"$50000 - $62499\",\"$50000 - $62499\",\"$50000 - $62499\",\"$50000 - $62499\",\"$50000 - $62499\",\"$50000 - $62499\",\"$50000 - $62499\",\"$50000 - $62499\",\"$62500 - $74999\",\"$62500 - $74999\",\"$62500 - $74999\",\"$62500 - $74999\",\"$87500 - $99999\",\"$87500 - $99999\",\"$87500 - $99999\",\"$87500 - $99999\",\"$12500 - $24999\",\"$12500 - $24999\",\"$12500 - $24999\",\"$12500 - $24999\",\"$25000 - $37499\",\"$25000 - $37499\",\"$25000 - $37499\",\"$25000 - $37499\",\"$25000 - $37499\",\"$25000 - $37499\",\"$87500 - $99999\",\"$87500 - $99999\",\"$87500 - $99999\",\"$87500 - $99999\",\"$87500 - $99999\",\"$100000 or More\",\"$100000 or More\",\"$100000 or More\",\"$50000 - $62499\",\"$50000 - $62499\",\"$50000 - $62499\",\"$50000 - $62499\",\"$50000 - $62499\",\"$37500 - $49999\",\"$37500 - $49999\",\"$37500 - $49999\",\"$37500 - $49999\",\"$37500 - $49999\",\"$37500 - $49999\",\"$62500 - $74999\",\"$62500 - $74999\",\"$62500 - $74999\",\"$62500 - $74999\",\"$62500 - $74999\",\"$62500 - $74999\",\"$100000 or More\",\"$100000 or More\",\"$100000 or More\",\"$100000 or More\",\"$25000 - $37499\",\"$25000 - $37499\",\"$25000 - $37499\",\"$25000 - $37499\",\"$25000 - $37499\",\"$25000 - $37499\",\"$25000 - $37499\",\"$25000 - $37499\",\"$25000 - $37499\",\"$25000 - $37499\"],\"xaxis\":\"x\",\"yaxis\":\"y\",\"type\":\"histogram\"},{\"alignmentgroup\":\"True\",\"bingroup\":\"x\",\"hovertemplate\":\"occupation=Unemployed<br>income=%{x}<br>count=%{y}<extra></extra>\",\"legendgroup\":\"Unemployed\",\"marker\":{\"color\":\"#ab63fa\",\"pattern\":{\"shape\":\"\"}},\"name\":\"Unemployed\",\"offsetgroup\":\"Unemployed\",\"orientation\":\"v\",\"showlegend\":true,\"x\":[\"$62500 - $74999\",\"$62500 - $74999\",\"$62500 - $74999\",\"$62500 - $74999\",\"$62500 - $74999\",\"$62500 - $74999\",\"Less than $12500\",\"Less than $12500\",\"Less than $12500\",\"Less than $12500\",\"$62500 - $74999\",\"$62500 - $74999\",\"$62500 - $74999\",\"$62500 - $74999\",\"$62500 - $74999\",\"$62500 - $74999\",\"$87500 - $99999\",\"$87500 - $99999\",\"$87500 - $99999\",\"$87500 - $99999\",\"$75000 - $87499\",\"$75000 - $87499\",\"$75000 - $87499\",\"$75000 - $87499\",\"$75000 - $87499\",\"$75000 - $87499\",\"$87500 - $99999\",\"$87500 - $99999\",\"$87500 - $99999\",\"$87500 - $99999\",\"$87500 - $99999\",\"$87500 - $99999\",\"$37500 - $49999\",\"$37500 - $49999\",\"$37500 - $49999\",\"$37500 - $49999\",\"$37500 - $49999\",\"$37500 - $49999\",\"$50000 - $62499\",\"$50000 - $62499\",\"$50000 - $62499\",\"$50000 - $62499\",\"$50000 - $62499\",\"$50000 - $62499\",\"$87500 - $99999\",\"$87500 - $99999\",\"$87500 - $99999\",\"$87500 - $99999\",\"$87500 - $99999\",\"$87500 - $99999\",\"Less than $12500\",\"Less than $12500\",\"Less than $12500\",\"Less than $12500\",\"Less than $12500\",\"Less than $12500\",\"Less than $12500\",\"Less than $12500\",\"$12500 - $24999\",\"$12500 - $24999\",\"$12500 - $24999\",\"$12500 - $24999\",\"Less than $12500\",\"Less than $12500\",\"Less than $12500\",\"Less than $12500\",\"$37500 - $49999\",\"$37500 - $49999\",\"$37500 - $49999\",\"$37500 - $49999\",\"$25000 - $37499\",\"$25000 - $37499\",\"$25000 - $37499\",\"$25000 - $37499\",\"$25000 - $37499\",\"$25000 - $37499\",\"$25000 - $37499\",\"$25000 - $37499\",\"$25000 - $37499\",\"$25000 - $37499\",\"$25000 - $37499\",\"$25000 - $37499\",\"$25000 - $37499\",\"$25000 - $37499\",\"$25000 - $37499\",\"$25000 - $37499\",\"$25000 - $37499\",\"Less than $12500\",\"Less than $12500\",\"Less than $12500\",\"Less than $12500\",\"Less than $12500\",\"Less than $12500\",\"Less than $12500\",\"Less than $12500\",\"Less than $12500\",\"Less than $12500\",\"$25000 - $37499\",\"$25000 - $37499\",\"$25000 - $37499\",\"$25000 - $37499\",\"$25000 - $37499\",\"$37500 - $49999\",\"$37500 - $49999\",\"$37500 - $49999\",\"$37500 - $49999\",\"$37500 - $49999\",\"$100000 or More\",\"$100000 or More\",\"$100000 or More\",\"$100000 or More\",\"$100000 or More\",\"$50000 - $62499\",\"$50000 - $62499\",\"$50000 - $62499\",\"$50000 - $62499\",\"$50000 - $62499\",\"$25000 - $37499\",\"$25000 - $37499\",\"$25000 - $37499\",\"$25000 - $37499\",\"$25000 - $37499\",\"Less than $12500\",\"Less than $12500\",\"Less than $12500\",\"Less than $12500\",\"Less than $12500\",\"$62500 - $74999\",\"$62500 - $74999\",\"$62500 - $74999\",\"$62500 - $74999\",\"$62500 - $74999\",\"$87500 - $99999\",\"$87500 - $99999\",\"$87500 - $99999\",\"$87500 - $99999\",\"$87500 - $99999\",\"$87500 - $99999\",\"$37500 - $49999\",\"$37500 - $49999\",\"$37500 - $49999\",\"$37500 - $49999\",\"$37500 - $49999\",\"Less than $12500\",\"Less than $12500\",\"Less than $12500\",\"Less than $12500\",\"Less than $12500\",\"Less than $12500\",\"Less than $12500\",\"Less than $12500\",\"Less than $12500\",\"Less than $12500\",\"Less than $12500\",\"Less than $12500\",\"Less than $12500\",\"Less than $12500\",\"Less than $12500\",\"$50000 - $62499\",\"$50000 - $62499\",\"$50000 - $62499\",\"$50000 - $62499\",\"$50000 - $62499\",\"$12500 - $24999\",\"$12500 - $24999\",\"$12500 - $24999\",\"$12500 - $24999\",\"$12500 - $24999\",\"Less than $12500\",\"Less than $12500\",\"Less than $12500\",\"Less than $12500\",\"Less than $12500\",\"Less than $12500\",\"Less than $12500\",\"Less than $12500\",\"Less than $12500\",\"Less than $12500\",\"$37500 - $49999\",\"$37500 - $49999\",\"$75000 - $87499\",\"$75000 - $87499\",\"$75000 - $87499\",\"$75000 - $87499\",\"$75000 - $87499\",\"$50000 - $62499\",\"$50000 - $62499\",\"$12500 - $24999\",\"$12500 - $24999\",\"$12500 - $24999\",\"$12500 - $24999\",\"$12500 - $24999\",\"$12500 - $24999\",\"$12500 - $24999\",\"$12500 - $24999\",\"$12500 - $24999\",\"$12500 - $24999\",\"$25000 - $37499\",\"$25000 - $37499\",\"$25000 - $37499\",\"$25000 - $37499\",\"$37500 - $49999\",\"$37500 - $49999\",\"$37500 - $49999\",\"$37500 - $49999\",\"$37500 - $49999\",\"$37500 - $49999\",\"$62500 - $74999\",\"$62500 - $74999\",\"$62500 - $74999\",\"$62500 - $74999\",\"$62500 - $74999\",\"Less than $12500\",\"Less than $12500\",\"Less than $12500\",\"Less than $12500\",\"$100000 or More\",\"$100000 or More\",\"$100000 or More\",\"$100000 or More\",\"$100000 or More\",\"$37500 - $49999\",\"$37500 - $49999\",\"$37500 - $49999\",\"$37500 - $49999\",\"$37500 - $49999\",\"$100000 or More\",\"$100000 or More\",\"$100000 or More\",\"$100000 or More\",\"$100000 or More\",\"$50000 - $62499\",\"$50000 - $62499\",\"$50000 - $62499\",\"$50000 - $62499\",\"$50000 - $62499\",\"$12500 - $24999\",\"$12500 - $24999\",\"$12500 - $24999\",\"$12500 - $24999\",\"$12500 - $24999\",\"$100000 or More\",\"$100000 or More\",\"$100000 or More\",\"$100000 or More\",\"$100000 or More\",\"$75000 - $87499\",\"$75000 - $87499\",\"$75000 - $87499\",\"$75000 - $87499\",\"$75000 - $87499\",\"$75000 - $87499\",\"$50000 - $62499\",\"$50000 - $62499\",\"$50000 - $62499\",\"$50000 - $62499\",\"Less than $12500\",\"Less than $12500\",\"Less than $12500\",\"Less than $12500\",\"Less than $12500\",\"$100000 or More\",\"$100000 or More\",\"$100000 or More\",\"$100000 or More\",\"$100000 or More\",\"$37500 - $49999\",\"$37500 - $49999\",\"$37500 - $49999\",\"$37500 - $49999\",\"$37500 - $49999\",\"$87500 - $99999\",\"$87500 - $99999\",\"$87500 - $99999\",\"$87500 - $99999\",\"$87500 - $99999\",\"$12500 - $24999\",\"$12500 - $24999\",\"$12500 - $24999\",\"Less than $12500\",\"Less than $12500\",\"Less than $12500\",\"Less than $12500\",\"Less than $12500\",\"$100000 or More\",\"$100000 or More\",\"$100000 or More\",\"$50000 - $62499\",\"$50000 - $62499\",\"$50000 - $62499\",\"Less than $12500\",\"Less than $12500\",\"Less than $12500\",\"Less than $12500\",\"Less than $12500\",\"$87500 - $99999\",\"$87500 - $99999\",\"$87500 - $99999\",\"$37500 - $49999\",\"$37500 - $49999\",\"$37500 - $49999\",\"$25000 - $37499\",\"$25000 - $37499\",\"$25000 - $37499\",\"$25000 - $37499\",\"$25000 - $37499\",\"$25000 - $37499\",\"$25000 - $37499\",\"$25000 - $37499\",\"$25000 - $37499\",\"$25000 - $37499\",\"$25000 - $37499\",\"$25000 - $37499\",\"Less than $12500\",\"Less than $12500\",\"Less than $12500\",\"Less than $12500\",\"$87500 - $99999\",\"$87500 - $99999\",\"$87500 - $99999\",\"$87500 - $99999\",\"Less than $12500\",\"Less than $12500\",\"Less than $12500\",\"Less than $12500\",\"Less than $12500\",\"Less than $12500\",\"$50000 - $62499\",\"$50000 - $62499\",\"$50000 - $62499\",\"$50000 - $62499\",\"$87500 - $99999\",\"$87500 - $99999\",\"$87500 - $99999\",\"$87500 - $99999\",\"$87500 - $99999\",\"$87500 - $99999\",\"$62500 - $74999\",\"$62500 - $74999\",\"$62500 - $74999\",\"$62500 - $74999\",\"$100000 or More\",\"$100000 or More\",\"$100000 or More\",\"$100000 or More\",\"$100000 or More\",\"$100000 or More\",\"$37500 - $49999\",\"$37500 - $49999\",\"$37500 - $49999\",\"$37500 - $49999\",\"$25000 - $37499\",\"$25000 - $37499\",\"$25000 - $37499\",\"$25000 - $37499\",\"$25000 - $37499\",\"$25000 - $37499\",\"$25000 - $37499\",\"$25000 - $37499\",\"$25000 - $37499\",\"$25000 - $37499\",\"$25000 - $37499\",\"$25000 - $37499\",\"$37500 - $49999\",\"$37500 - $49999\",\"$37500 - $49999\",\"$37500 - $49999\",\"$37500 - $49999\",\"$37500 - $49999\",\"Less than $12500\",\"Less than $12500\",\"Less than $12500\",\"Less than $12500\",\"Less than $12500\",\"Less than $12500\",\"$100000 or More\",\"$100000 or More\",\"$100000 or More\",\"$100000 or More\",\"$100000 or More\",\"$100000 or More\",\"$12500 - $24999\",\"$12500 - $24999\",\"$12500 - $24999\",\"$12500 - $24999\",\"$12500 - $24999\",\"$12500 - $24999\",\"$37500 - $49999\",\"$37500 - $49999\",\"$37500 - $49999\",\"$37500 - $49999\",\"$37500 - $49999\",\"$37500 - $49999\",\"$37500 - $49999\",\"$37500 - $49999\",\"$37500 - $49999\",\"$37500 - $49999\"],\"xaxis\":\"x\",\"yaxis\":\"y\",\"type\":\"histogram\"},{\"alignmentgroup\":\"True\",\"bingroup\":\"x\",\"hovertemplate\":\"occupation=Healthcare Support<br>income=%{x}<br>count=%{y}<extra></extra>\",\"legendgroup\":\"Healthcare Support\",\"marker\":{\"color\":\"#FFA15A\",\"pattern\":{\"shape\":\"\"}},\"name\":\"Healthcare Support\",\"offsetgroup\":\"Healthcare Support\",\"orientation\":\"v\",\"showlegend\":true,\"x\":[\"$37500 - $49999\",\"$37500 - $49999\",\"$37500 - $49999\",\"$37500 - $49999\",\"$25000 - $37499\",\"$25000 - $37499\",\"$25000 - $37499\",\"$25000 - $37499\",\"$25000 - $37499\",\"$25000 - $37499\",\"$25000 - $37499\",\"$25000 - $37499\",\"Less than $12500\",\"Less than $12500\",\"Less than $12500\",\"Less than $12500\",\"Less than $12500\",\"Less than $12500\",\"$37500 - $49999\",\"$37500 - $49999\",\"$37500 - $49999\",\"$37500 - $49999\",\"$37500 - $49999\",\"$37500 - $49999\",\"$37500 - $49999\",\"$37500 - $49999\",\"$37500 - $49999\",\"$37500 - $49999\",\"$25000 - $37499\",\"$25000 - $37499\",\"$25000 - $37499\",\"$25000 - $37499\",\"$75000 - $87499\",\"$75000 - $87499\",\"$75000 - $87499\",\"$25000 - $37499\",\"$25000 - $37499\",\"$25000 - $37499\",\"$25000 - $37499\",\"$25000 - $37499\",\"$25000 - $37499\",\"$12500 - $24999\",\"$12500 - $24999\",\"$12500 - $24999\",\"$12500 - $24999\",\"$12500 - $24999\",\"$12500 - $24999\",\"$12500 - $24999\",\"$12500 - $24999\",\"$12500 - $24999\",\"$12500 - $24999\",\"$12500 - $24999\",\"$12500 - $24999\"],\"xaxis\":\"x\",\"yaxis\":\"y\",\"type\":\"histogram\"},{\"alignmentgroup\":\"True\",\"bingroup\":\"x\",\"hovertemplate\":\"occupation=Healthcare Practitioners & Technical<br>income=%{x}<br>count=%{y}<extra></extra>\",\"legendgroup\":\"Healthcare Practitioners & Technical\",\"marker\":{\"color\":\"#19d3f3\",\"pattern\":{\"shape\":\"\"}},\"name\":\"Healthcare Practitioners & Technical\",\"offsetgroup\":\"Healthcare Practitioners & Technical\",\"orientation\":\"v\",\"showlegend\":true,\"x\":[\"$25000 - $37499\",\"$25000 - $37499\",\"$25000 - $37499\",\"$25000 - $37499\",\"$87500 - $99999\",\"$87500 - $99999\",\"$87500 - $99999\",\"$87500 - $99999\",\"$87500 - $99999\",\"$87500 - $99999\",\"$37500 - $49999\",\"$37500 - $49999\",\"$37500 - $49999\",\"$37500 - $49999\",\"$100000 or More\",\"$100000 or More\",\"$100000 or More\",\"$100000 or More\",\"$25000 - $37499\",\"$25000 - $37499\",\"$25000 - $37499\",\"$25000 - $37499\",\"$25000 - $37499\",\"$100000 or More\",\"$100000 or More\",\"$100000 or More\",\"$100000 or More\",\"$12500 - $24999\",\"$12500 - $24999\",\"$12500 - $24999\",\"$12500 - $24999\",\"$12500 - $24999\",\"$12500 - $24999\",\"$12500 - $24999\",\"$75000 - $87499\",\"$75000 - $87499\",\"$75000 - $87499\",\"$75000 - $87499\",\"$87500 - $99999\",\"$87500 - $99999\",\"$87500 - $99999\",\"$50000 - $62499\",\"$50000 - $62499\",\"$50000 - $62499\",\"$50000 - $62499\"],\"xaxis\":\"x\",\"yaxis\":\"y\",\"type\":\"histogram\"},{\"alignmentgroup\":\"True\",\"bingroup\":\"x\",\"hovertemplate\":\"occupation=Sales & Related<br>income=%{x}<br>count=%{y}<extra></extra>\",\"legendgroup\":\"Sales & Related\",\"marker\":{\"color\":\"#FF6692\",\"pattern\":{\"shape\":\"\"}},\"name\":\"Sales & Related\",\"offsetgroup\":\"Sales & Related\",\"orientation\":\"v\",\"showlegend\":true,\"x\":[\"$100000 or More\",\"$100000 or More\",\"$100000 or More\",\"$100000 or More\",\"$100000 or More\",\"$100000 or More\",\"$100000 or More\",\"$100000 or More\",\"$100000 or More\",\"$100000 or More\",\"$37500 - $49999\",\"$37500 - $49999\",\"$37500 - $49999\",\"$37500 - $49999\",\"$37500 - $49999\",\"$37500 - $49999\",\"$37500 - $49999\",\"$37500 - $49999\",\"$25000 - $37499\",\"$25000 - $37499\",\"$25000 - $37499\",\"$25000 - $37499\",\"$25000 - $37499\",\"$25000 - $37499\",\"$12500 - $24999\",\"$12500 - $24999\",\"$12500 - $24999\",\"$12500 - $24999\",\"$37500 - $49999\",\"$37500 - $49999\",\"$37500 - $49999\",\"$37500 - $49999\",\"$50000 - $62499\",\"$50000 - $62499\",\"$50000 - $62499\",\"$50000 - $62499\",\"$25000 - $37499\",\"$25000 - $37499\",\"$25000 - $37499\",\"$25000 - $37499\",\"$12500 - $24999\",\"$12500 - $24999\",\"$12500 - $24999\",\"$12500 - $24999\",\"$25000 - $37499\",\"$25000 - $37499\",\"$25000 - $37499\",\"$25000 - $37499\",\"$50000 - $62499\",\"$50000 - $62499\",\"$50000 - $62499\",\"$50000 - $62499\",\"$12500 - $24999\",\"$12500 - $24999\",\"$12500 - $24999\",\"$12500 - $24999\",\"$12500 - $24999\",\"$12500 - $24999\",\"$12500 - $24999\",\"$12500 - $24999\",\"$12500 - $24999\",\"$12500 - $24999\",\"$25000 - $37499\",\"$25000 - $37499\",\"$25000 - $37499\",\"$25000 - $37499\",\"$12500 - $24999\",\"$12500 - $24999\",\"$12500 - $24999\",\"$12500 - $24999\",\"Less than $12500\",\"Less than $12500\",\"Less than $12500\",\"Less than $12500\",\"Less than $12500\",\"$37500 - $49999\",\"$37500 - $49999\",\"$37500 - $49999\",\"$37500 - $49999\",\"$37500 - $49999\",\"$37500 - $49999\",\"$37500 - $49999\",\"$37500 - $49999\",\"$37500 - $49999\",\"$37500 - $49999\",\"$12500 - $24999\",\"$12500 - $24999\",\"$12500 - $24999\",\"$12500 - $24999\",\"$12500 - $24999\",\"$100000 or More\",\"$100000 or More\",\"$100000 or More\",\"$100000 or More\",\"$100000 or More\",\"$75000 - $87499\",\"$75000 - $87499\",\"$75000 - $87499\",\"$75000 - $87499\",\"$75000 - $87499\",\"$25000 - $37499\",\"$25000 - $37499\",\"$25000 - $37499\",\"$25000 - $37499\",\"$25000 - $37499\",\"$100000 or More\",\"$100000 or More\",\"$100000 or More\",\"$100000 or More\",\"$100000 or More\",\"$25000 - $37499\",\"$25000 - $37499\",\"$25000 - $37499\",\"$25000 - $37499\",\"$25000 - $37499\",\"$62500 - $74999\",\"$62500 - $74999\",\"$62500 - $74999\",\"$62500 - $74999\",\"$62500 - $74999\",\"$62500 - $74999\",\"$62500 - $74999\",\"$25000 - $37499\",\"$25000 - $37499\",\"$25000 - $37499\",\"$62500 - $74999\",\"$62500 - $74999\",\"$62500 - $74999\",\"$62500 - $74999\",\"$62500 - $74999\",\"$62500 - $74999\",\"$37500 - $49999\",\"$37500 - $49999\",\"$37500 - $49999\",\"$37500 - $49999\",\"$37500 - $49999\",\"$37500 - $49999\",\"$75000 - $87499\",\"$75000 - $87499\",\"$75000 - $87499\",\"$75000 - $87499\",\"$75000 - $87499\",\"$75000 - $87499\",\"$50000 - $62499\",\"$50000 - $62499\",\"$50000 - $62499\",\"$50000 - $62499\",\"$50000 - $62499\",\"$50000 - $62499\",\"$50000 - $62499\",\"$50000 - $62499\",\"$50000 - $62499\",\"$50000 - $62499\",\"$75000 - $87499\",\"$75000 - $87499\",\"$75000 - $87499\",\"$75000 - $87499\",\"$75000 - $87499\",\"$75000 - $87499\",\"$25000 - $37499\",\"$25000 - $37499\",\"$25000 - $37499\",\"$75000 - $87499\",\"$75000 - $87499\",\"$75000 - $87499\",\"$75000 - $87499\",\"$12500 - $24999\",\"$12500 - $24999\",\"$12500 - $24999\",\"$12500 - $24999\",\"$25000 - $37499\",\"$25000 - $37499\",\"$25000 - $37499\",\"$25000 - $37499\",\"$50000 - $62499\",\"$50000 - $62499\",\"$50000 - $62499\",\"$50000 - $62499\",\"$12500 - $24999\",\"$12500 - $24999\",\"$12500 - $24999\",\"$12500 - $24999\",\"$12500 - $24999\",\"$37500 - $49999\",\"$37500 - $49999\",\"$37500 - $49999\",\"$37500 - $49999\",\"$37500 - $49999\",\"$37500 - $49999\",\"Less than $12500\",\"Less than $12500\",\"Less than $12500\",\"Less than $12500\",\"Less than $12500\",\"Less than $12500\",\"$50000 - $62499\",\"$50000 - $62499\",\"$50000 - $62499\",\"$50000 - $62499\",\"$50000 - $62499\",\"$50000 - $62499\",\"$75000 - $87499\",\"$75000 - $87499\",\"$75000 - $87499\",\"$75000 - $87499\",\"$75000 - $87499\",\"$75000 - $87499\",\"$37500 - $49999\",\"$37500 - $49999\",\"$37500 - $49999\",\"$37500 - $49999\",\"$25000 - $37499\",\"$25000 - $37499\",\"$25000 - $37499\",\"$25000 - $37499\",\"$12500 - $24999\",\"$12500 - $24999\",\"$12500 - $24999\",\"$12500 - $24999\",\"$12500 - $24999\",\"$12500 - $24999\",\"Less than $12500\",\"Less than $12500\",\"Less than $12500\",\"Less than $12500\",\"Less than $12500\",\"Less than $12500\",\"$75000 - $87499\",\"$75000 - $87499\",\"$75000 - $87499\",\"$75000 - $87499\",\"$75000 - $87499\",\"$75000 - $87499\"],\"xaxis\":\"x\",\"yaxis\":\"y\",\"type\":\"histogram\"},{\"alignmentgroup\":\"True\",\"bingroup\":\"x\",\"hovertemplate\":\"occupation=Management<br>income=%{x}<br>count=%{y}<extra></extra>\",\"legendgroup\":\"Management\",\"marker\":{\"color\":\"#B6E880\",\"pattern\":{\"shape\":\"\"}},\"name\":\"Management\",\"offsetgroup\":\"Management\",\"orientation\":\"v\",\"showlegend\":true,\"x\":[\"$87500 - $99999\",\"$87500 - $99999\",\"$87500 - $99999\",\"$87500 - $99999\",\"$50000 - $62499\",\"$50000 - $62499\",\"$50000 - $62499\",\"$50000 - $62499\",\"$50000 - $62499\",\"$50000 - $62499\",\"$50000 - $62499\",\"$50000 - $62499\",\"$50000 - $62499\",\"$50000 - $62499\",\"$87500 - $99999\",\"$87500 - $99999\",\"$87500 - $99999\",\"$87500 - $99999\",\"$87500 - $99999\",\"$87500 - $99999\",\"$100000 or More\",\"$100000 or More\",\"$100000 or More\",\"$100000 or More\",\"$75000 - $87499\",\"$75000 - $87499\",\"$75000 - $87499\",\"$75000 - $87499\",\"$75000 - $87499\",\"$75000 - $87499\",\"$50000 - $62499\",\"$50000 - $62499\",\"$50000 - $62499\",\"$50000 - $62499\",\"$25000 - $37499\",\"$25000 - $37499\",\"$25000 - $37499\",\"$25000 - $37499\",\"$25000 - $37499\",\"$25000 - $37499\",\"$12500 - $24999\",\"$12500 - $24999\",\"$12500 - $24999\",\"$12500 - $24999\",\"$25000 - $37499\",\"$25000 - $37499\",\"$25000 - $37499\",\"$25000 - $37499\",\"$12500 - $24999\",\"$12500 - $24999\",\"$12500 - $24999\",\"$12500 - $24999\",\"$75000 - $87499\",\"$75000 - $87499\",\"$75000 - $87499\",\"$12500 - $24999\",\"$12500 - $24999\",\"$12500 - $24999\",\"$12500 - $24999\",\"$12500 - $24999\",\"$12500 - $24999\",\"$100000 or More\",\"$100000 or More\",\"$100000 or More\",\"$100000 or More\",\"$100000 or More\",\"$100000 or More\",\"$62500 - $74999\",\"$62500 - $74999\",\"$62500 - $74999\",\"$62500 - $74999\",\"$62500 - $74999\",\"$62500 - $74999\",\"$100000 or More\",\"$100000 or More\",\"$100000 or More\",\"$100000 or More\",\"$62500 - $74999\",\"$62500 - $74999\",\"$62500 - $74999\",\"$62500 - $74999\",\"$62500 - $74999\",\"$62500 - $74999\",\"$87500 - $99999\",\"$87500 - $99999\",\"$87500 - $99999\",\"$87500 - $99999\",\"$87500 - $99999\",\"$25000 - $37499\",\"$25000 - $37499\",\"$25000 - $37499\",\"$25000 - $37499\",\"$25000 - $37499\",\"$37500 - $49999\",\"$37500 - $49999\",\"$37500 - $49999\",\"$37500 - $49999\",\"$37500 - $49999\",\"$37500 - $49999\",\"$37500 - $49999\",\"$37500 - $49999\",\"$37500 - $49999\",\"$37500 - $49999\",\"$37500 - $49999\",\"$37500 - $49999\",\"$37500 - $49999\",\"$37500 - $49999\",\"$37500 - $49999\",\"$37500 - $49999\",\"$25000 - $37499\",\"$25000 - $37499\",\"$25000 - $37499\",\"$25000 - $37499\",\"$25000 - $37499\",\"$87500 - $99999\",\"$87500 - $99999\",\"$87500 - $99999\",\"$87500 - $99999\",\"$87500 - $99999\",\"$87500 - $99999\",\"$37500 - $49999\",\"$37500 - $49999\",\"$37500 - $49999\",\"$37500 - $49999\",\"$37500 - $49999\",\"$62500 - $74999\",\"$62500 - $74999\",\"$62500 - $74999\",\"$62500 - $74999\",\"$50000 - $62499\",\"$50000 - $62499\",\"$87500 - $99999\",\"$87500 - $99999\",\"$87500 - $99999\",\"$87500 - $99999\",\"$100000 or More\",\"$100000 or More\",\"$100000 or More\",\"$100000 or More\",\"$100000 or More\",\"$25000 - $37499\",\"$25000 - $37499\",\"$25000 - $37499\",\"$25000 - $37499\",\"$25000 - $37499\",\"$25000 - $37499\",\"$25000 - $37499\",\"$25000 - $37499\",\"$25000 - $37499\",\"$25000 - $37499\",\"$25000 - $37499\",\"$87500 - $99999\",\"$87500 - $99999\",\"$87500 - $99999\",\"$87500 - $99999\",\"$12500 - $24999\",\"$12500 - $24999\",\"$12500 - $24999\",\"$12500 - $24999\",\"$100000 or More\",\"$100000 or More\",\"$100000 or More\",\"$100000 or More\",\"$100000 or More\",\"$100000 or More\",\"$75000 - $87499\",\"$75000 - $87499\",\"$75000 - $87499\",\"$75000 - $87499\",\"$75000 - $87499\",\"$75000 - $87499\",\"$75000 - $87499\",\"$75000 - $87499\",\"$75000 - $87499\",\"$75000 - $87499\"],\"xaxis\":\"x\",\"yaxis\":\"y\",\"type\":\"histogram\"},{\"alignmentgroup\":\"True\",\"bingroup\":\"x\",\"hovertemplate\":\"occupation=Arts Design Entertainment Sports & Media<br>income=%{x}<br>count=%{y}<extra></extra>\",\"legendgroup\":\"Arts Design Entertainment Sports & Media\",\"marker\":{\"color\":\"#FF97FF\",\"pattern\":{\"shape\":\"\"}},\"name\":\"Arts Design Entertainment Sports & Media\",\"offsetgroup\":\"Arts Design Entertainment Sports & Media\",\"orientation\":\"v\",\"showlegend\":true,\"x\":[\"$12500 - $24999\",\"$12500 - $24999\",\"$12500 - $24999\",\"$12500 - $24999\",\"$12500 - $24999\",\"$37500 - $49999\",\"$37500 - $49999\",\"$37500 - $49999\",\"$37500 - $49999\",\"$25000 - $37499\",\"$25000 - $37499\",\"$25000 - $37499\",\"$25000 - $37499\",\"$25000 - $37499\",\"$25000 - $37499\",\"$25000 - $37499\",\"$25000 - $37499\",\"$25000 - $37499\",\"$25000 - $37499\",\"$25000 - $37499\",\"$25000 - $37499\",\"$100000 or More\",\"$100000 or More\",\"$100000 or More\",\"$100000 or More\",\"$50000 - $62499\",\"$50000 - $62499\",\"$50000 - $62499\",\"$50000 - $62499\",\"$50000 - $62499\",\"$50000 - $62499\",\"$12500 - $24999\",\"$12500 - $24999\",\"$12500 - $24999\",\"$12500 - $24999\",\"$75000 - $87499\",\"$75000 - $87499\",\"$75000 - $87499\",\"$75000 - $87499\",\"$25000 - $37499\",\"$25000 - $37499\",\"$25000 - $37499\",\"$25000 - $37499\",\"$25000 - $37499\",\"$25000 - $37499\",\"$25000 - $37499\",\"$25000 - $37499\",\"$25000 - $37499\",\"$25000 - $37499\",\"$12500 - $24999\",\"$12500 - $24999\",\"$12500 - $24999\",\"$12500 - $24999\",\"$12500 - $24999\",\"$12500 - $24999\",\"$12500 - $24999\",\"$12500 - $24999\",\"$12500 - $24999\",\"$12500 - $24999\",\"$12500 - $24999\",\"$12500 - $24999\",\"$12500 - $24999\",\"$12500 - $24999\",\"$100000 or More\",\"$100000 or More\",\"$100000 or More\",\"$100000 or More\",\"$100000 or More\",\"$37500 - $49999\",\"$37500 - $49999\",\"$37500 - $49999\",\"$37500 - $49999\",\"$37500 - $49999\",\"$62500 - $74999\",\"$62500 - $74999\",\"$62500 - $74999\",\"$62500 - $74999\",\"$62500 - $74999\",\"$62500 - $74999\",\"$12500 - $24999\",\"$12500 - $24999\",\"$12500 - $24999\",\"$12500 - $24999\",\"$12500 - $24999\",\"$100000 or More\",\"$100000 or More\",\"$100000 or More\",\"$37500 - $49999\",\"$37500 - $49999\",\"$37500 - $49999\",\"$37500 - $49999\",\"$12500 - $24999\",\"$12500 - $24999\",\"$12500 - $24999\",\"$12500 - $24999\",\"$12500 - $24999\",\"$100000 or More\",\"$100000 or More\",\"$100000 or More\",\"$100000 or More\",\"$100000 or More\",\"$100000 or More\",\"$100000 or More\",\"$100000 or More\",\"$100000 or More\",\"$100000 or More\",\"$75000 - $87499\",\"$75000 - $87499\",\"$75000 - $87499\",\"$75000 - $87499\",\"$75000 - $87499\",\"$87500 - $99999\",\"$87500 - $99999\",\"$87500 - $99999\",\"$87500 - $99999\",\"$87500 - $99999\",\"$87500 - $99999\",\"$75000 - $87499\",\"$75000 - $87499\",\"$75000 - $87499\",\"$75000 - $87499\",\"$75000 - $87499\",\"$75000 - $87499\",\"$50000 - $62499\"],\"xaxis\":\"x\",\"yaxis\":\"y\",\"type\":\"histogram\"},{\"alignmentgroup\":\"True\",\"bingroup\":\"x\",\"hovertemplate\":\"occupation=Computer & Mathematical<br>income=%{x}<br>count=%{y}<extra></extra>\",\"legendgroup\":\"Computer & Mathematical\",\"marker\":{\"color\":\"#FECB52\",\"pattern\":{\"shape\":\"\"}},\"name\":\"Computer & Mathematical\",\"offsetgroup\":\"Computer & Mathematical\",\"orientation\":\"v\",\"showlegend\":true,\"x\":[\"$100000 or More\",\"$100000 or More\",\"$100000 or More\",\"$100000 or More\",\"$100000 or More\",\"$100000 or More\",\"$50000 - $62499\",\"$50000 - $62499\",\"$50000 - $62499\",\"$50000 - $62499\",\"$62500 - $74999\",\"$62500 - $74999\",\"$62500 - $74999\",\"$62500 - $74999\",\"$62500 - $74999\",\"$62500 - $74999\",\"$100000 or More\",\"$100000 or More\",\"$100000 or More\",\"$100000 or More\",\"$100000 or More\",\"$100000 or More\",\"$100000 or More\",\"$100000 or More\",\"$100000 or More\",\"$100000 or More\",\"$50000 - $62499\",\"$50000 - $62499\",\"$50000 - $62499\",\"$50000 - $62499\",\"$25000 - $37499\",\"$25000 - $37499\",\"$25000 - $37499\",\"$25000 - $37499\",\"$62500 - $74999\",\"$62500 - $74999\",\"$62500 - $74999\",\"$62500 - $74999\",\"$50000 - $62499\",\"$50000 - $62499\",\"$50000 - $62499\",\"$50000 - $62499\",\"$50000 - $62499\",\"$50000 - $62499\",\"$50000 - $62499\",\"$50000 - $62499\",\"$87500 - $99999\",\"$87500 - $99999\",\"$87500 - $99999\",\"$87500 - $99999\",\"$25000 - $37499\",\"$25000 - $37499\",\"$25000 - $37499\",\"$25000 - $37499\",\"$37500 - $49999\",\"$37500 - $49999\",\"$37500 - $49999\",\"$37500 - $49999\",\"$37500 - $49999\",\"$37500 - $49999\",\"$37500 - $49999\",\"$37500 - $49999\",\"$37500 - $49999\",\"$37500 - $49999\",\"$37500 - $49999\",\"$37500 - $49999\",\"$75000 - $87499\",\"$75000 - $87499\",\"$75000 - $87499\",\"$75000 - $87499\",\"$75000 - $87499\",\"$75000 - $87499\",\"$87500 - $99999\",\"$87500 - $99999\",\"$87500 - $99999\",\"$87500 - $99999\",\"$87500 - $99999\",\"$87500 - $99999\",\"$100000 or More\",\"$100000 or More\",\"$100000 or More\",\"$100000 or More\",\"$75000 - $87499\",\"$75000 - $87499\",\"$75000 - $87499\",\"$75000 - $87499\",\"$25000 - $37499\",\"$25000 - $37499\",\"$25000 - $37499\",\"$25000 - $37499\",\"$25000 - $37499\",\"$25000 - $37499\",\"$25000 - $37499\",\"$25000 - $37499\",\"$25000 - $37499\",\"$25000 - $37499\",\"$25000 - $37499\",\"$25000 - $37499\",\"$75000 - $87499\",\"$75000 - $87499\",\"$75000 - $87499\",\"$75000 - $87499\",\"$75000 - $87499\",\"$75000 - $87499\",\"$37500 - $49999\",\"$37500 - $49999\",\"$37500 - $49999\",\"$37500 - $49999\",\"$37500 - $49999\",\"$50000 - $62499\",\"$50000 - $62499\",\"$50000 - $62499\",\"$50000 - $62499\",\"$50000 - $62499\",\"$12500 - $24999\",\"$12500 - $24999\",\"$12500 - $24999\",\"$12500 - $24999\",\"$12500 - $24999\",\"$12500 - $24999\",\"$12500 - $24999\",\"$12500 - $24999\",\"$50000 - $62499\",\"$50000 - $62499\",\"$50000 - $62499\",\"$50000 - $62499\",\"$50000 - $62499\",\"$50000 - $62499\",\"$75000 - $87499\",\"$75000 - $87499\",\"$75000 - $87499\",\"$75000 - $87499\",\"$75000 - $87499\",\"$12500 - $24999\",\"$12500 - $24999\",\"$12500 - $24999\",\"$12500 - $24999\",\"$12500 - $24999\",\"$37500 - $49999\",\"$37500 - $49999\",\"$37500 - $49999\",\"$37500 - $49999\",\"$37500 - $49999\",\"$100000 or More\",\"$100000 or More\",\"$100000 or More\",\"$100000 or More\",\"$100000 or More\",\"$62500 - $74999\",\"$62500 - $74999\",\"$62500 - $74999\",\"$62500 - $74999\",\"$62500 - $74999\",\"$100000 or More\",\"$100000 or More\",\"$100000 or More\",\"$100000 or More\",\"$100000 or More\",\"$100000 or More\",\"$100000 or More\",\"$100000 or More\",\"$100000 or More\",\"$100000 or More\",\"$100000 or More\",\"$100000 or More\",\"$50000 - $62499\",\"$50000 - $62499\",\"$50000 - $62499\",\"$50000 - $62499\",\"$37500 - $49999\",\"$37500 - $49999\",\"$37500 - $49999\",\"$37500 - $49999\",\"$37500 - $49999\",\"$25000 - $37499\",\"$25000 - $37499\",\"$25000 - $37499\",\"$25000 - $37499\",\"$25000 - $37499\",\"$50000 - $62499\",\"$50000 - $62499\",\"$50000 - $62499\",\"$50000 - $62499\",\"$12500 - $24999\",\"$12500 - $24999\",\"$12500 - $24999\",\"$12500 - $24999\",\"$100000 or More\",\"$100000 or More\",\"$100000 or More\",\"$100000 or More\",\"$100000 or More\",\"$100000 or More\",\"$37500 - $49999\",\"$37500 - $49999\",\"$37500 - $49999\",\"$37500 - $49999\",\"$62500 - $74999\",\"$62500 - $74999\",\"$62500 - $74999\",\"$62500 - $74999\",\"$37500 - $49999\",\"$37500 - $49999\",\"$37500 - $49999\",\"$37500 - $49999\",\"$37500 - $49999\",\"$75000 - $87499\",\"$75000 - $87499\",\"$75000 - $87499\",\"$75000 - $87499\",\"$100000 or More\",\"$100000 or More\",\"$100000 or More\",\"$100000 or More\",\"$50000 - $62499\",\"$50000 - $62499\",\"$50000 - $62499\",\"$62500 - $74999\",\"$62500 - $74999\",\"$62500 - $74999\",\"$100000 or More\",\"$100000 or More\",\"$100000 or More\",\"$62500 - $74999\",\"$62500 - $74999\",\"$62500 - $74999\",\"$62500 - $74999\",\"$62500 - $74999\",\"$87500 - $99999\",\"$87500 - $99999\",\"$87500 - $99999\",\"$100000 or More\",\"$100000 or More\",\"$100000 or More\",\"$100000 or More\",\"$100000 or More\",\"$62500 - $74999\",\"$62500 - $74999\",\"$62500 - $74999\",\"$12500 - $24999\",\"$12500 - $24999\",\"$12500 - $24999\",\"$12500 - $24999\",\"$12500 - $24999\",\"$100000 or More\",\"$100000 or More\",\"$100000 or More\",\"$100000 or More\",\"$100000 or More\",\"$100000 or More\",\"$100000 or More\",\"$62500 - $74999\",\"$62500 - $74999\",\"$62500 - $74999\",\"$62500 - $74999\",\"$50000 - $62499\",\"$50000 - $62499\",\"$50000 - $62499\",\"$50000 - $62499\",\"$75000 - $87499\",\"$75000 - $87499\",\"$75000 - $87499\",\"$75000 - $87499\",\"Less than $12500\",\"Less than $12500\",\"Less than $12500\",\"Less than $12500\",\"Less than $12500\",\"Less than $12500\",\"$75000 - $87499\",\"$75000 - $87499\",\"$75000 - $87499\",\"$75000 - $87499\",\"$100000 or More\",\"$100000 or More\",\"$100000 or More\",\"$100000 or More\",\"$100000 or More\",\"$100000 or More\",\"$100000 or More\",\"$100000 or More\",\"$100000 or More\",\"$100000 or More\",\"$50000 - $62499\",\"$50000 - $62499\",\"$50000 - $62499\",\"$50000 - $62499\",\"$37500 - $49999\",\"$37500 - $49999\",\"$37500 - $49999\",\"$37500 - $49999\"],\"xaxis\":\"x\",\"yaxis\":\"y\",\"type\":\"histogram\"},{\"alignmentgroup\":\"True\",\"bingroup\":\"x\",\"hovertemplate\":\"occupation=Life Physical Social Science<br>income=%{x}<br>count=%{y}<extra></extra>\",\"legendgroup\":\"Life Physical Social Science\",\"marker\":{\"color\":\"#636efa\",\"pattern\":{\"shape\":\"\"}},\"name\":\"Life Physical Social Science\",\"offsetgroup\":\"Life Physical Social Science\",\"orientation\":\"v\",\"showlegend\":true,\"x\":[\"$37500 - $49999\",\"$37500 - $49999\",\"$37500 - $49999\",\"$37500 - $49999\",\"$37500 - $49999\",\"$37500 - $49999\",\"$50000 - $62499\",\"$50000 - $62499\",\"$50000 - $62499\",\"$50000 - $62499\",\"Less than $12500\",\"Less than $12500\",\"Less than $12500\",\"Less than $12500\",\"$50000 - $62499\",\"$50000 - $62499\",\"$50000 - $62499\",\"$50000 - $62499\",\"$50000 - $62499\",\"$50000 - $62499\",\"$100000 or More\",\"$100000 or More\",\"$100000 or More\",\"$37500 - $49999\",\"$37500 - $49999\",\"$37500 - $49999\",\"$37500 - $49999\",\"$37500 - $49999\",\"$37500 - $49999\",\"$37500 - $49999\",\"$37500 - $49999\",\"$37500 - $49999\",\"$50000 - $62499\",\"$50000 - $62499\",\"$50000 - $62499\",\"$50000 - $62499\"],\"xaxis\":\"x\",\"yaxis\":\"y\",\"type\":\"histogram\"},{\"alignmentgroup\":\"True\",\"bingroup\":\"x\",\"hovertemplate\":\"occupation=Personal Care & Service<br>income=%{x}<br>count=%{y}<extra></extra>\",\"legendgroup\":\"Personal Care & Service\",\"marker\":{\"color\":\"#EF553B\",\"pattern\":{\"shape\":\"\"}},\"name\":\"Personal Care & Service\",\"offsetgroup\":\"Personal Care & Service\",\"orientation\":\"v\",\"showlegend\":true,\"x\":[\"$50000 - $62499\",\"$50000 - $62499\",\"$50000 - $62499\",\"$100000 or More\",\"$100000 or More\",\"$100000 or More\",\"$100000 or More\",\"$100000 or More\",\"$100000 or More\",\"$37500 - $49999\",\"$37500 - $49999\",\"$37500 - $49999\",\"$37500 - $49999\",\"$37500 - $49999\",\"$37500 - $49999\",\"$100000 or More\",\"$100000 or More\",\"$100000 or More\",\"$100000 or More\",\"$87500 - $99999\",\"$87500 - $99999\",\"$87500 - $99999\",\"$87500 - $99999\",\"$25000 - $37499\",\"$25000 - $37499\",\"$25000 - $37499\",\"$25000 - $37499\",\"$25000 - $37499\",\"$12500 - $24999\",\"$12500 - $24999\",\"$12500 - $24999\",\"$12500 - $24999\",\"$12500 - $24999\",\"$12500 - $24999\"],\"xaxis\":\"x\",\"yaxis\":\"y\",\"type\":\"histogram\"},{\"alignmentgroup\":\"True\",\"bingroup\":\"x\",\"hovertemplate\":\"occupation=Office & Administrative Support<br>income=%{x}<br>count=%{y}<extra></extra>\",\"legendgroup\":\"Office & Administrative Support\",\"marker\":{\"color\":\"#00cc96\",\"pattern\":{\"shape\":\"\"}},\"name\":\"Office & Administrative Support\",\"offsetgroup\":\"Office & Administrative Support\",\"orientation\":\"v\",\"showlegend\":true,\"x\":[\"$50000 - $62499\",\"$50000 - $62499\",\"$50000 - $62499\",\"$50000 - $62499\",\"$25000 - $37499\",\"$25000 - $37499\",\"$25000 - $37499\",\"$25000 - $37499\",\"$37500 - $49999\",\"$37500 - $49999\",\"$37500 - $49999\",\"$37500 - $49999\",\"$75000 - $87499\",\"$75000 - $87499\",\"$75000 - $87499\",\"$75000 - $87499\",\"$25000 - $37499\",\"$25000 - $37499\",\"$25000 - $37499\",\"$25000 - $37499\",\"$37500 - $49999\",\"$37500 - $49999\",\"$37500 - $49999\",\"$37500 - $49999\",\"$12500 - $24999\",\"$12500 - $24999\",\"$12500 - $24999\",\"$12500 - $24999\",\"$37500 - $49999\",\"$37500 - $49999\",\"$37500 - $49999\",\"$37500 - $49999\",\"$37500 - $49999\",\"$37500 - $49999\",\"$37500 - $49999\",\"$37500 - $49999\",\"$37500 - $49999\",\"$37500 - $49999\",\"$12500 - $24999\",\"$12500 - $24999\",\"$12500 - $24999\",\"$12500 - $24999\",\"$12500 - $24999\",\"$37500 - $49999\",\"$37500 - $49999\",\"$37500 - $49999\",\"$37500 - $49999\",\"$37500 - $49999\",\"$62500 - $74999\",\"$62500 - $74999\",\"$62500 - $74999\",\"$62500 - $74999\",\"$62500 - $74999\",\"$87500 - $99999\",\"$87500 - $99999\",\"$87500 - $99999\",\"$87500 - $99999\",\"$87500 - $99999\",\"$37500 - $49999\",\"$37500 - $49999\",\"$37500 - $49999\",\"$37500 - $49999\",\"$37500 - $49999\",\"$12500 - $24999\",\"$12500 - $24999\",\"$12500 - $24999\",\"$12500 - $24999\",\"$12500 - $24999\",\"$25000 - $37499\",\"$25000 - $37499\",\"$25000 - $37499\",\"$25000 - $37499\",\"$25000 - $37499\",\"$62500 - $74999\",\"$62500 - $74999\",\"$62500 - $74999\",\"$62500 - $74999\",\"$25000 - $37499\",\"$25000 - $37499\",\"$25000 - $37499\",\"$25000 - $37499\",\"$25000 - $37499\",\"$37500 - $49999\",\"$37500 - $49999\",\"$37500 - $49999\",\"$37500 - $49999\",\"$37500 - $49999\",\"$12500 - $24999\",\"$12500 - $24999\",\"$12500 - $24999\",\"$12500 - $24999\",\"$12500 - $24999\",\"$25000 - $37499\",\"$25000 - $37499\",\"$25000 - $37499\",\"$25000 - $37499\",\"$25000 - $37499\",\"$12500 - $24999\",\"$12500 - $24999\",\"$12500 - $24999\",\"$12500 - $24999\",\"$75000 - $87499\",\"$75000 - $87499\",\"$75000 - $87499\",\"$75000 - $87499\",\"$25000 - $37499\",\"$25000 - $37499\",\"$25000 - $37499\",\"$12500 - $24999\",\"$12500 - $24999\",\"$12500 - $24999\",\"$12500 - $24999\",\"$12500 - $24999\",\"$12500 - $24999\",\"$25000 - $37499\",\"$25000 - $37499\",\"$25000 - $37499\",\"$25000 - $37499\",\"$25000 - $37499\",\"$25000 - $37499\",\"$50000 - $62499\",\"$50000 - $62499\",\"$50000 - $62499\",\"$50000 - $62499\",\"$50000 - $62499\",\"$50000 - $62499\",\"$50000 - $62499\",\"$50000 - $62499\",\"$50000 - $62499\",\"$50000 - $62499\",\"$50000 - $62499\",\"$50000 - $62499\"],\"xaxis\":\"x\",\"yaxis\":\"y\",\"type\":\"histogram\"},{\"alignmentgroup\":\"True\",\"bingroup\":\"x\",\"hovertemplate\":\"occupation=Construction & Extraction<br>income=%{x}<br>count=%{y}<extra></extra>\",\"legendgroup\":\"Construction & Extraction\",\"marker\":{\"color\":\"#ab63fa\",\"pattern\":{\"shape\":\"\"}},\"name\":\"Construction & Extraction\",\"offsetgroup\":\"Construction & Extraction\",\"orientation\":\"v\",\"showlegend\":true,\"x\":[\"$100000 or More\",\"$100000 or More\",\"$100000 or More\",\"$100000 or More\",\"Less than $12500\",\"Less than $12500\",\"Less than $12500\",\"Less than $12500\",\"$12500 - $24999\",\"$12500 - $24999\",\"$12500 - $24999\",\"$12500 - $24999\",\"$12500 - $24999\",\"$12500 - $24999\",\"$37500 - $49999\",\"$37500 - $49999\",\"$37500 - $49999\",\"$37500 - $49999\",\"$50000 - $62499\",\"$50000 - $62499\",\"$50000 - $62499\",\"$50000 - $62499\",\"$50000 - $62499\",\"$12500 - $24999\",\"$12500 - $24999\",\"$12500 - $24999\",\"$12500 - $24999\",\"$12500 - $24999\",\"$12500 - $24999\",\"$25000 - $37499\",\"$25000 - $37499\",\"$25000 - $37499\",\"$25000 - $37499\",\"$25000 - $37499\",\"$25000 - $37499\"],\"xaxis\":\"x\",\"yaxis\":\"y\",\"type\":\"histogram\"},{\"alignmentgroup\":\"True\",\"bingroup\":\"x\",\"hovertemplate\":\"occupation=Legal<br>income=%{x}<br>count=%{y}<extra></extra>\",\"legendgroup\":\"Legal\",\"marker\":{\"color\":\"#FFA15A\",\"pattern\":{\"shape\":\"\"}},\"name\":\"Legal\",\"offsetgroup\":\"Legal\",\"orientation\":\"v\",\"showlegend\":true,\"x\":[\"$25000 - $37499\",\"$25000 - $37499\",\"$25000 - $37499\",\"$25000 - $37499\",\"$100000 or More\",\"$100000 or More\",\"$100000 or More\",\"$100000 or More\",\"$100000 or More\",\"$100000 or More\",\"$100000 or More\",\"$100000 or More\",\"$100000 or More\",\"$100000 or More\",\"$100000 or More\",\"$100000 or More\",\"$100000 or More\",\"$62500 - $74999\",\"$62500 - $74999\",\"$62500 - $74999\",\"$62500 - $74999\",\"$62500 - $74999\",\"$37500 - $49999\",\"$37500 - $49999\",\"$37500 - $49999\",\"$37500 - $49999\",\"$37500 - $49999\",\"$87500 - $99999\",\"$87500 - $99999\",\"$87500 - $99999\",\"$87500 - $99999\",\"$87500 - $99999\",\"$25000 - $37499\",\"$25000 - $37499\",\"$25000 - $37499\",\"$25000 - $37499\",\"$25000 - $37499\",\"$75000 - $87499\",\"$75000 - $87499\",\"$75000 - $87499\",\"$75000 - $87499\",\"$75000 - $87499\",\"$75000 - $87499\",\"$87500 - $99999\",\"$87500 - $99999\",\"$87500 - $99999\",\"$87500 - $99999\",\"$87500 - $99999\",\"$87500 - $99999\"],\"xaxis\":\"x\",\"yaxis\":\"y\",\"type\":\"histogram\"},{\"alignmentgroup\":\"True\",\"bingroup\":\"x\",\"hovertemplate\":\"occupation=Retired<br>income=%{x}<br>count=%{y}<extra></extra>\",\"legendgroup\":\"Retired\",\"marker\":{\"color\":\"#19d3f3\",\"pattern\":{\"shape\":\"\"}},\"name\":\"Retired\",\"offsetgroup\":\"Retired\",\"orientation\":\"v\",\"showlegend\":true,\"x\":[\"$87500 - $99999\",\"$87500 - $99999\",\"$87500 - $99999\",\"$87500 - $99999\",\"$87500 - $99999\",\"$87500 - $99999\",\"$12500 - $24999\",\"$12500 - $24999\",\"$12500 - $24999\",\"$12500 - $24999\",\"$100000 or More\",\"$100000 or More\",\"$100000 or More\",\"$100000 or More\",\"$50000 - $62499\",\"$50000 - $62499\",\"$50000 - $62499\",\"$50000 - $62499\",\"$12500 - $24999\",\"$12500 - $24999\",\"$12500 - $24999\",\"$12500 - $24999\",\"$37500 - $49999\",\"$37500 - $49999\",\"$37500 - $49999\",\"$37500 - $49999\",\"$50000 - $62499\",\"$50000 - $62499\",\"$50000 - $62499\",\"$50000 - $62499\",\"$50000 - $62499\",\"$50000 - $62499\",\"$87500 - $99999\",\"$87500 - $99999\",\"$87500 - $99999\",\"$87500 - $99999\",\"$87500 - $99999\",\"$87500 - $99999\",\"$87500 - $99999\",\"$87500 - $99999\",\"$37500 - $49999\",\"$37500 - $49999\",\"$37500 - $49999\",\"$37500 - $49999\",\"$37500 - $49999\",\"$62500 - $74999\",\"$62500 - $74999\",\"$62500 - $74999\",\"$62500 - $74999\",\"$62500 - $74999\",\"$62500 - $74999\",\"$37500 - $49999\",\"$37500 - $49999\",\"$37500 - $49999\",\"$37500 - $49999\",\"$37500 - $49999\",\"$50000 - $62499\",\"$50000 - $62499\",\"$50000 - $62499\",\"$50000 - $62499\",\"$50000 - $62499\",\"$50000 - $62499\",\"$50000 - $62499\",\"$50000 - $62499\",\"$37500 - $49999\",\"$37500 - $49999\",\"$37500 - $49999\",\"$37500 - $49999\",\"$37500 - $49999\",\"$37500 - $49999\",\"Less than $12500\",\"Less than $12500\",\"Less than $12500\",\"Less than $12500\",\"Less than $12500\",\"$37500 - $49999\",\"$37500 - $49999\",\"$37500 - $49999\",\"$37500 - $49999\",\"$37500 - $49999\",\"$37500 - $49999\",\"$50000 - $62499\",\"$50000 - $62499\",\"$50000 - $62499\",\"$50000 - $62499\",\"$50000 - $62499\",\"$50000 - $62499\",\"Less than $12500\",\"Less than $12500\",\"Less than $12500\",\"Less than $12500\",\"Less than $12500\",\"$50000 - $62499\",\"$50000 - $62499\",\"$50000 - $62499\",\"$75000 - $87499\",\"$75000 - $87499\",\"$75000 - $87499\",\"$50000 - $62499\",\"$50000 - $62499\",\"$50000 - $62499\",\"$50000 - $62499\",\"$50000 - $62499\",\"$50000 - $62499\",\"$50000 - $62499\"],\"xaxis\":\"x\",\"yaxis\":\"y\",\"type\":\"histogram\"},{\"alignmentgroup\":\"True\",\"bingroup\":\"x\",\"hovertemplate\":\"occupation=Community & Social Services<br>income=%{x}<br>count=%{y}<extra></extra>\",\"legendgroup\":\"Community & Social Services\",\"marker\":{\"color\":\"#FF6692\",\"pattern\":{\"shape\":\"\"}},\"name\":\"Community & Social Services\",\"offsetgroup\":\"Community & Social Services\",\"orientation\":\"v\",\"showlegend\":true,\"x\":[\"$50000 - $62499\",\"$50000 - $62499\",\"$50000 - $62499\",\"$50000 - $62499\",\"$37500 - $49999\",\"$37500 - $49999\",\"$37500 - $49999\",\"$37500 - $49999\",\"$37500 - $49999\",\"$37500 - $49999\",\"$50000 - $62499\",\"$50000 - $62499\",\"$50000 - $62499\",\"$50000 - $62499\",\"$50000 - $62499\",\"$50000 - $62499\",\"$50000 - $62499\",\"$50000 - $62499\",\"$50000 - $62499\",\"$50000 - $62499\",\"$25000 - $37499\",\"$25000 - $37499\",\"$25000 - $37499\",\"$25000 - $37499\",\"$25000 - $37499\",\"$62500 - $74999\",\"$62500 - $74999\",\"$62500 - $74999\",\"$62500 - $74999\",\"$25000 - $37499\",\"$25000 - $37499\",\"$25000 - $37499\",\"$25000 - $37499\",\"$25000 - $37499\",\"$100000 or More\",\"$100000 or More\",\"$100000 or More\",\"$100000 or More\",\"$37500 - $49999\",\"$37500 - $49999\",\"$37500 - $49999\",\"$37500 - $49999\",\"$100000 or More\",\"$100000 or More\",\"$100000 or More\",\"$100000 or More\"],\"xaxis\":\"x\",\"yaxis\":\"y\",\"type\":\"histogram\"},{\"alignmentgroup\":\"True\",\"bingroup\":\"x\",\"hovertemplate\":\"occupation=Installation Maintenance & Repair<br>income=%{x}<br>count=%{y}<extra></extra>\",\"legendgroup\":\"Installation Maintenance & Repair\",\"marker\":{\"color\":\"#B6E880\",\"pattern\":{\"shape\":\"\"}},\"name\":\"Installation Maintenance & Repair\",\"offsetgroup\":\"Installation Maintenance & Repair\",\"orientation\":\"v\",\"showlegend\":true,\"x\":[\"$12500 - $24999\",\"$12500 - $24999\",\"$12500 - $24999\",\"$12500 - $24999\",\"$12500 - $24999\",\"$12500 - $24999\",\"$12500 - $24999\",\"$12500 - $24999\",\"$37500 - $49999\",\"$37500 - $49999\",\"$37500 - $49999\",\"$37500 - $49999\",\"Less than $12500\",\"Less than $12500\",\"Less than $12500\",\"Less than $12500\",\"Less than $12500\",\"$25000 - $37499\",\"$25000 - $37499\",\"$25000 - $37499\",\"$25000 - $37499\",\"$25000 - $37499\",\"$12500 - $24999\",\"$12500 - $24999\",\"$12500 - $24999\",\"$12500 - $24999\",\"$12500 - $24999\"],\"xaxis\":\"x\",\"yaxis\":\"y\",\"type\":\"histogram\"},{\"alignmentgroup\":\"True\",\"bingroup\":\"x\",\"hovertemplate\":\"occupation=Transportation & Material Moving<br>income=%{x}<br>count=%{y}<extra></extra>\",\"legendgroup\":\"Transportation & Material Moving\",\"marker\":{\"color\":\"#FF97FF\",\"pattern\":{\"shape\":\"\"}},\"name\":\"Transportation & Material Moving\",\"offsetgroup\":\"Transportation & Material Moving\",\"orientation\":\"v\",\"showlegend\":true,\"x\":[\"$25000 - $37499\",\"$25000 - $37499\",\"$25000 - $37499\",\"$25000 - $37499\",\"$75000 - $87499\",\"$75000 - $87499\",\"$75000 - $87499\",\"$75000 - $87499\",\"$75000 - $87499\",\"$75000 - $87499\",\"$50000 - $62499\",\"$50000 - $62499\",\"$50000 - $62499\",\"$50000 - $62499\",\"$12500 - $24999\",\"$12500 - $24999\",\"$12500 - $24999\",\"$12500 - $24999\",\"$12500 - $24999\",\"$87500 - $99999\",\"$87500 - $99999\",\"$87500 - $99999\",\"$87500 - $99999\",\"$87500 - $99999\",\"$87500 - $99999\",\"$12500 - $24999\",\"$12500 - $24999\",\"$12500 - $24999\",\"$62500 - $74999\",\"$62500 - $74999\",\"$62500 - $74999\",\"$62500 - $74999\",\"$62500 - $74999\",\"$50000 - $62499\",\"$50000 - $62499\",\"$50000 - $62499\",\"$50000 - $62499\",\"$37500 - $49999\",\"$37500 - $49999\",\"$37500 - $49999\",\"$50000 - $62499\",\"$50000 - $62499\",\"$50000 - $62499\",\"$50000 - $62499\",\"$50000 - $62499\",\"$50000 - $62499\"],\"xaxis\":\"x\",\"yaxis\":\"y\",\"type\":\"histogram\"},{\"alignmentgroup\":\"True\",\"bingroup\":\"x\",\"hovertemplate\":\"occupation=Business & Financial<br>income=%{x}<br>count=%{y}<extra></extra>\",\"legendgroup\":\"Business & Financial\",\"marker\":{\"color\":\"#FECB52\",\"pattern\":{\"shape\":\"\"}},\"name\":\"Business & Financial\",\"offsetgroup\":\"Business & Financial\",\"orientation\":\"v\",\"showlegend\":true,\"x\":[\"$100000 or More\",\"$100000 or More\",\"$100000 or More\",\"$100000 or More\",\"$100000 or More\",\"$100000 or More\",\"$25000 - $37499\",\"$25000 - $37499\",\"$25000 - $37499\",\"$25000 - $37499\",\"$25000 - $37499\",\"$25000 - $37499\",\"$100000 or More\",\"$100000 or More\",\"$100000 or More\",\"$100000 or More\",\"$100000 or More\",\"$100000 or More\",\"$62500 - $74999\",\"$62500 - $74999\",\"$62500 - $74999\",\"$62500 - $74999\",\"$62500 - $74999\",\"$62500 - $74999\",\"$12500 - $24999\",\"$12500 - $24999\",\"$12500 - $24999\",\"$12500 - $24999\",\"$100000 or More\",\"$100000 or More\",\"$100000 or More\",\"$100000 or More\",\"$75000 - $87499\",\"$75000 - $87499\",\"$75000 - $87499\",\"$75000 - $87499\",\"$75000 - $87499\",\"$100000 or More\",\"$100000 or More\",\"$100000 or More\",\"$100000 or More\",\"$100000 or More\",\"$12500 - $24999\",\"$12500 - $24999\",\"$12500 - $24999\",\"$12500 - $24999\",\"$12500 - $24999\",\"$100000 or More\",\"$100000 or More\",\"$100000 or More\",\"$100000 or More\",\"$100000 or More\",\"$75000 - $87499\",\"$75000 - $87499\",\"$75000 - $87499\",\"$75000 - $87499\",\"$62500 - $74999\",\"$62500 - $74999\",\"$62500 - $74999\",\"$62500 - $74999\",\"$62500 - $74999\",\"$62500 - $74999\",\"$75000 - $87499\",\"$75000 - $87499\",\"$75000 - $87499\",\"$75000 - $87499\",\"$37500 - $49999\",\"$37500 - $49999\",\"$37500 - $49999\",\"$37500 - $49999\",\"$37500 - $49999\",\"$100000 or More\",\"$100000 or More\",\"$100000 or More\",\"$100000 or More\",\"$100000 or More\",\"$75000 - $87499\",\"$75000 - $87499\",\"$75000 - $87499\",\"$75000 - $87499\",\"$75000 - $87499\",\"$75000 - $87499\",\"$87500 - $99999\",\"$87500 - $99999\",\"$87500 - $99999\",\"$87500 - $99999\",\"$37500 - $49999\",\"$37500 - $49999\",\"$37500 - $49999\",\"$37500 - $49999\",\"$37500 - $49999\",\"$50000 - $62499\",\"$50000 - $62499\",\"$50000 - $62499\",\"$50000 - $62499\",\"$50000 - $62499\",\"$62500 - $74999\",\"$62500 - $74999\",\"$62500 - $74999\",\"$62500 - $74999\",\"$62500 - $74999\",\"$62500 - $74999\",\"$62500 - $74999\",\"$62500 - $74999\",\"$62500 - $74999\",\"$62500 - $74999\",\"$100000 or More\",\"$100000 or More\",\"$100000 or More\",\"$100000 or More\",\"$100000 or More\",\"$100000 or More\",\"$100000 or More\",\"$100000 or More\",\"$100000 or More\",\"$100000 or More\",\"$100000 or More\",\"$100000 or More\",\"$100000 or More\",\"$100000 or More\"],\"xaxis\":\"x\",\"yaxis\":\"y\",\"type\":\"histogram\"},{\"alignmentgroup\":\"True\",\"bingroup\":\"x\",\"hovertemplate\":\"occupation=Protective Service<br>income=%{x}<br>count=%{y}<extra></extra>\",\"legendgroup\":\"Protective Service\",\"marker\":{\"color\":\"#636efa\",\"pattern\":{\"shape\":\"\"}},\"name\":\"Protective Service\",\"offsetgroup\":\"Protective Service\",\"orientation\":\"v\",\"showlegend\":true,\"x\":[\"$100000 or More\",\"$100000 or More\",\"$100000 or More\",\"$100000 or More\",\"$25000 - $37499\",\"$25000 - $37499\",\"$25000 - $37499\",\"$25000 - $37499\",\"$37500 - $49999\",\"$37500 - $49999\",\"$37500 - $49999\",\"$37500 - $49999\",\"$25000 - $37499\",\"$25000 - $37499\",\"$25000 - $37499\",\"$25000 - $37499\",\"$25000 - $37499\",\"$25000 - $37499\",\"$100000 or More\",\"$100000 or More\",\"$100000 or More\",\"$100000 or More\",\"$100000 or More\",\"$100000 or More\",\"$25000 - $37499\",\"$25000 - $37499\",\"$25000 - $37499\",\"$25000 - $37499\",\"$25000 - $37499\",\"$25000 - $37499\",\"$25000 - $37499\",\"$25000 - $37499\",\"$25000 - $37499\",\"$25000 - $37499\",\"$100000 or More\",\"$100000 or More\",\"$100000 or More\",\"$100000 or More\"],\"xaxis\":\"x\",\"yaxis\":\"y\",\"type\":\"histogram\"},{\"alignmentgroup\":\"True\",\"bingroup\":\"x\",\"hovertemplate\":\"occupation=Food Preparation & Serving Related<br>income=%{x}<br>count=%{y}<extra></extra>\",\"legendgroup\":\"Food Preparation & Serving Related\",\"marker\":{\"color\":\"#EF553B\",\"pattern\":{\"shape\":\"\"}},\"name\":\"Food Preparation & Serving Related\",\"offsetgroup\":\"Food Preparation & Serving Related\",\"orientation\":\"v\",\"showlegend\":true,\"x\":[\"$12500 - $24999\",\"$12500 - $24999\",\"$12500 - $24999\",\"$12500 - $24999\",\"$12500 - $24999\",\"$12500 - $24999\",\"$25000 - $37499\",\"$25000 - $37499\",\"$25000 - $37499\",\"$25000 - $37499\",\"$25000 - $37499\",\"$25000 - $37499\",\"$25000 - $37499\",\"$25000 - $37499\",\"$12500 - $24999\",\"$12500 - $24999\",\"$12500 - $24999\",\"$12500 - $24999\",\"$12500 - $24999\",\"$12500 - $24999\",\"$12500 - $24999\",\"$12500 - $24999\",\"$12500 - $24999\",\"$12500 - $24999\",\"$12500 - $24999\",\"$50000 - $62499\",\"$50000 - $62499\",\"$50000 - $62499\",\"$50000 - $62499\",\"$50000 - $62499\",\"$50000 - $62499\",\"$87500 - $99999\",\"$87500 - $99999\",\"$87500 - $99999\",\"$87500 - $99999\",\"$87500 - $99999\",\"Less than $12500\",\"Less than $12500\",\"Less than $12500\",\"Less than $12500\",\"$12500 - $24999\",\"$12500 - $24999\",\"$12500 - $24999\",\"$12500 - $24999\",\"$12500 - $24999\",\"$100000 or More\",\"$100000 or More\",\"$100000 or More\",\"$12500 - $24999\",\"$12500 - $24999\",\"$12500 - $24999\",\"$12500 - $24999\",\"$12500 - $24999\",\"$12500 - $24999\",\"$12500 - $24999\",\"$12500 - $24999\",\"$12500 - $24999\",\"$12500 - $24999\",\"$12500 - $24999\",\"$12500 - $24999\",\"$12500 - $24999\",\"$12500 - $24999\",\"$12500 - $24999\",\"$12500 - $24999\",\"$12500 - $24999\",\"$12500 - $24999\"],\"xaxis\":\"x\",\"yaxis\":\"y\",\"type\":\"histogram\"},{\"alignmentgroup\":\"True\",\"bingroup\":\"x\",\"hovertemplate\":\"occupation=Production Occupations<br>income=%{x}<br>count=%{y}<extra></extra>\",\"legendgroup\":\"Production Occupations\",\"marker\":{\"color\":\"#00cc96\",\"pattern\":{\"shape\":\"\"}},\"name\":\"Production Occupations\",\"offsetgroup\":\"Production Occupations\",\"orientation\":\"v\",\"showlegend\":true,\"x\":[\"$25000 - $37499\",\"$25000 - $37499\",\"$25000 - $37499\",\"$25000 - $37499\",\"$25000 - $37499\",\"Less than $12500\",\"Less than $12500\",\"Less than $12500\",\"Less than $12500\",\"Less than $12500\",\"$25000 - $37499\",\"$25000 - $37499\",\"$25000 - $37499\",\"$25000 - $37499\",\"$37500 - $49999\",\"$37500 - $49999\",\"$37500 - $49999\",\"$37500 - $49999\",\"$37500 - $49999\",\"$37500 - $49999\"],\"xaxis\":\"x\",\"yaxis\":\"y\",\"type\":\"histogram\"},{\"alignmentgroup\":\"True\",\"bingroup\":\"x\",\"hovertemplate\":\"occupation=Building & Grounds Cleaning & Maintenance<br>income=%{x}<br>count=%{y}<extra></extra>\",\"legendgroup\":\"Building & Grounds Cleaning & Maintenance\",\"marker\":{\"color\":\"#ab63fa\",\"pattern\":{\"shape\":\"\"}},\"name\":\"Building & Grounds Cleaning & Maintenance\",\"offsetgroup\":\"Building & Grounds Cleaning & Maintenance\",\"orientation\":\"v\",\"showlegend\":true,\"x\":[\"$37500 - $49999\",\"$37500 - $49999\",\"$37500 - $49999\",\"$37500 - $49999\",\"$37500 - $49999\",\"$37500 - $49999\",\"$25000 - $37499\",\"$25000 - $37499\",\"$25000 - $37499\",\"$25000 - $37499\"],\"xaxis\":\"x\",\"yaxis\":\"y\",\"type\":\"histogram\"},{\"alignmentgroup\":\"True\",\"bingroup\":\"x\",\"hovertemplate\":\"occupation=Farming Fishing & Forestry<br>income=%{x}<br>count=%{y}<extra></extra>\",\"legendgroup\":\"Farming Fishing & Forestry\",\"marker\":{\"color\":\"#FFA15A\",\"pattern\":{\"shape\":\"\"}},\"name\":\"Farming Fishing & Forestry\",\"offsetgroup\":\"Farming Fishing & Forestry\",\"orientation\":\"v\",\"showlegend\":true,\"x\":[\"$25000 - $37499\",\"$25000 - $37499\",\"$25000 - $37499\",\"$25000 - $37499\",\"$37500 - $49999\",\"$37500 - $49999\",\"$37500 - $49999\"],\"xaxis\":\"x\",\"yaxis\":\"y\",\"type\":\"histogram\"}],                        {\"template\":{\"data\":{\"histogram2dcontour\":[{\"type\":\"histogram2dcontour\",\"colorbar\":{\"outlinewidth\":0,\"ticks\":\"\"},\"colorscale\":[[0.0,\"#0d0887\"],[0.1111111111111111,\"#46039f\"],[0.2222222222222222,\"#7201a8\"],[0.3333333333333333,\"#9c179e\"],[0.4444444444444444,\"#bd3786\"],[0.5555555555555556,\"#d8576b\"],[0.6666666666666666,\"#ed7953\"],[0.7777777777777778,\"#fb9f3a\"],[0.8888888888888888,\"#fdca26\"],[1.0,\"#f0f921\"]]}],\"choropleth\":[{\"type\":\"choropleth\",\"colorbar\":{\"outlinewidth\":0,\"ticks\":\"\"}}],\"histogram2d\":[{\"type\":\"histogram2d\",\"colorbar\":{\"outlinewidth\":0,\"ticks\":\"\"},\"colorscale\":[[0.0,\"#0d0887\"],[0.1111111111111111,\"#46039f\"],[0.2222222222222222,\"#7201a8\"],[0.3333333333333333,\"#9c179e\"],[0.4444444444444444,\"#bd3786\"],[0.5555555555555556,\"#d8576b\"],[0.6666666666666666,\"#ed7953\"],[0.7777777777777778,\"#fb9f3a\"],[0.8888888888888888,\"#fdca26\"],[1.0,\"#f0f921\"]]}],\"heatmap\":[{\"type\":\"heatmap\",\"colorbar\":{\"outlinewidth\":0,\"ticks\":\"\"},\"colorscale\":[[0.0,\"#0d0887\"],[0.1111111111111111,\"#46039f\"],[0.2222222222222222,\"#7201a8\"],[0.3333333333333333,\"#9c179e\"],[0.4444444444444444,\"#bd3786\"],[0.5555555555555556,\"#d8576b\"],[0.6666666666666666,\"#ed7953\"],[0.7777777777777778,\"#fb9f3a\"],[0.8888888888888888,\"#fdca26\"],[1.0,\"#f0f921\"]]}],\"heatmapgl\":[{\"type\":\"heatmapgl\",\"colorbar\":{\"outlinewidth\":0,\"ticks\":\"\"},\"colorscale\":[[0.0,\"#0d0887\"],[0.1111111111111111,\"#46039f\"],[0.2222222222222222,\"#7201a8\"],[0.3333333333333333,\"#9c179e\"],[0.4444444444444444,\"#bd3786\"],[0.5555555555555556,\"#d8576b\"],[0.6666666666666666,\"#ed7953\"],[0.7777777777777778,\"#fb9f3a\"],[0.8888888888888888,\"#fdca26\"],[1.0,\"#f0f921\"]]}],\"contourcarpet\":[{\"type\":\"contourcarpet\",\"colorbar\":{\"outlinewidth\":0,\"ticks\":\"\"}}],\"contour\":[{\"type\":\"contour\",\"colorbar\":{\"outlinewidth\":0,\"ticks\":\"\"},\"colorscale\":[[0.0,\"#0d0887\"],[0.1111111111111111,\"#46039f\"],[0.2222222222222222,\"#7201a8\"],[0.3333333333333333,\"#9c179e\"],[0.4444444444444444,\"#bd3786\"],[0.5555555555555556,\"#d8576b\"],[0.6666666666666666,\"#ed7953\"],[0.7777777777777778,\"#fb9f3a\"],[0.8888888888888888,\"#fdca26\"],[1.0,\"#f0f921\"]]}],\"surface\":[{\"type\":\"surface\",\"colorbar\":{\"outlinewidth\":0,\"ticks\":\"\"},\"colorscale\":[[0.0,\"#0d0887\"],[0.1111111111111111,\"#46039f\"],[0.2222222222222222,\"#7201a8\"],[0.3333333333333333,\"#9c179e\"],[0.4444444444444444,\"#bd3786\"],[0.5555555555555556,\"#d8576b\"],[0.6666666666666666,\"#ed7953\"],[0.7777777777777778,\"#fb9f3a\"],[0.8888888888888888,\"#fdca26\"],[1.0,\"#f0f921\"]]}],\"mesh3d\":[{\"type\":\"mesh3d\",\"colorbar\":{\"outlinewidth\":0,\"ticks\":\"\"}}],\"scatter\":[{\"fillpattern\":{\"fillmode\":\"overlay\",\"size\":10,\"solidity\":0.2},\"type\":\"scatter\"}],\"parcoords\":[{\"type\":\"parcoords\",\"line\":{\"colorbar\":{\"outlinewidth\":0,\"ticks\":\"\"}}}],\"scatterpolargl\":[{\"type\":\"scatterpolargl\",\"marker\":{\"colorbar\":{\"outlinewidth\":0,\"ticks\":\"\"}}}],\"bar\":[{\"error_x\":{\"color\":\"#2a3f5f\"},\"error_y\":{\"color\":\"#2a3f5f\"},\"marker\":{\"line\":{\"color\":\"#E5ECF6\",\"width\":0.5},\"pattern\":{\"fillmode\":\"overlay\",\"size\":10,\"solidity\":0.2}},\"type\":\"bar\"}],\"scattergeo\":[{\"type\":\"scattergeo\",\"marker\":{\"colorbar\":{\"outlinewidth\":0,\"ticks\":\"\"}}}],\"scatterpolar\":[{\"type\":\"scatterpolar\",\"marker\":{\"colorbar\":{\"outlinewidth\":0,\"ticks\":\"\"}}}],\"histogram\":[{\"marker\":{\"pattern\":{\"fillmode\":\"overlay\",\"size\":10,\"solidity\":0.2}},\"type\":\"histogram\"}],\"scattergl\":[{\"type\":\"scattergl\",\"marker\":{\"colorbar\":{\"outlinewidth\":0,\"ticks\":\"\"}}}],\"scatter3d\":[{\"type\":\"scatter3d\",\"line\":{\"colorbar\":{\"outlinewidth\":0,\"ticks\":\"\"}},\"marker\":{\"colorbar\":{\"outlinewidth\":0,\"ticks\":\"\"}}}],\"scattermapbox\":[{\"type\":\"scattermapbox\",\"marker\":{\"colorbar\":{\"outlinewidth\":0,\"ticks\":\"\"}}}],\"scatterternary\":[{\"type\":\"scatterternary\",\"marker\":{\"colorbar\":{\"outlinewidth\":0,\"ticks\":\"\"}}}],\"scattercarpet\":[{\"type\":\"scattercarpet\",\"marker\":{\"colorbar\":{\"outlinewidth\":0,\"ticks\":\"\"}}}],\"carpet\":[{\"aaxis\":{\"endlinecolor\":\"#2a3f5f\",\"gridcolor\":\"white\",\"linecolor\":\"white\",\"minorgridcolor\":\"white\",\"startlinecolor\":\"#2a3f5f\"},\"baxis\":{\"endlinecolor\":\"#2a3f5f\",\"gridcolor\":\"white\",\"linecolor\":\"white\",\"minorgridcolor\":\"white\",\"startlinecolor\":\"#2a3f5f\"},\"type\":\"carpet\"}],\"table\":[{\"cells\":{\"fill\":{\"color\":\"#EBF0F8\"},\"line\":{\"color\":\"white\"}},\"header\":{\"fill\":{\"color\":\"#C8D4E3\"},\"line\":{\"color\":\"white\"}},\"type\":\"table\"}],\"barpolar\":[{\"marker\":{\"line\":{\"color\":\"#E5ECF6\",\"width\":0.5},\"pattern\":{\"fillmode\":\"overlay\",\"size\":10,\"solidity\":0.2}},\"type\":\"barpolar\"}],\"pie\":[{\"automargin\":true,\"type\":\"pie\"}]},\"layout\":{\"autotypenumbers\":\"strict\",\"colorway\":[\"#636efa\",\"#EF553B\",\"#00cc96\",\"#ab63fa\",\"#FFA15A\",\"#19d3f3\",\"#FF6692\",\"#B6E880\",\"#FF97FF\",\"#FECB52\"],\"font\":{\"color\":\"#2a3f5f\"},\"hovermode\":\"closest\",\"hoverlabel\":{\"align\":\"left\"},\"paper_bgcolor\":\"white\",\"plot_bgcolor\":\"#E5ECF6\",\"polar\":{\"bgcolor\":\"#E5ECF6\",\"angularaxis\":{\"gridcolor\":\"white\",\"linecolor\":\"white\",\"ticks\":\"\"},\"radialaxis\":{\"gridcolor\":\"white\",\"linecolor\":\"white\",\"ticks\":\"\"}},\"ternary\":{\"bgcolor\":\"#E5ECF6\",\"aaxis\":{\"gridcolor\":\"white\",\"linecolor\":\"white\",\"ticks\":\"\"},\"baxis\":{\"gridcolor\":\"white\",\"linecolor\":\"white\",\"ticks\":\"\"},\"caxis\":{\"gridcolor\":\"white\",\"linecolor\":\"white\",\"ticks\":\"\"}},\"coloraxis\":{\"colorbar\":{\"outlinewidth\":0,\"ticks\":\"\"}},\"colorscale\":{\"sequential\":[[0.0,\"#0d0887\"],[0.1111111111111111,\"#46039f\"],[0.2222222222222222,\"#7201a8\"],[0.3333333333333333,\"#9c179e\"],[0.4444444444444444,\"#bd3786\"],[0.5555555555555556,\"#d8576b\"],[0.6666666666666666,\"#ed7953\"],[0.7777777777777778,\"#fb9f3a\"],[0.8888888888888888,\"#fdca26\"],[1.0,\"#f0f921\"]],\"sequentialminus\":[[0.0,\"#0d0887\"],[0.1111111111111111,\"#46039f\"],[0.2222222222222222,\"#7201a8\"],[0.3333333333333333,\"#9c179e\"],[0.4444444444444444,\"#bd3786\"],[0.5555555555555556,\"#d8576b\"],[0.6666666666666666,\"#ed7953\"],[0.7777777777777778,\"#fb9f3a\"],[0.8888888888888888,\"#fdca26\"],[1.0,\"#f0f921\"]],\"diverging\":[[0,\"#8e0152\"],[0.1,\"#c51b7d\"],[0.2,\"#de77ae\"],[0.3,\"#f1b6da\"],[0.4,\"#fde0ef\"],[0.5,\"#f7f7f7\"],[0.6,\"#e6f5d0\"],[0.7,\"#b8e186\"],[0.8,\"#7fbc41\"],[0.9,\"#4d9221\"],[1,\"#276419\"]]},\"xaxis\":{\"gridcolor\":\"white\",\"linecolor\":\"white\",\"ticks\":\"\",\"title\":{\"standoff\":15},\"zerolinecolor\":\"white\",\"automargin\":true,\"zerolinewidth\":2},\"yaxis\":{\"gridcolor\":\"white\",\"linecolor\":\"white\",\"ticks\":\"\",\"title\":{\"standoff\":15},\"zerolinecolor\":\"white\",\"automargin\":true,\"zerolinewidth\":2},\"scene\":{\"xaxis\":{\"backgroundcolor\":\"#E5ECF6\",\"gridcolor\":\"white\",\"linecolor\":\"white\",\"showbackground\":true,\"ticks\":\"\",\"zerolinecolor\":\"white\",\"gridwidth\":2},\"yaxis\":{\"backgroundcolor\":\"#E5ECF6\",\"gridcolor\":\"white\",\"linecolor\":\"white\",\"showbackground\":true,\"ticks\":\"\",\"zerolinecolor\":\"white\",\"gridwidth\":2},\"zaxis\":{\"backgroundcolor\":\"#E5ECF6\",\"gridcolor\":\"white\",\"linecolor\":\"white\",\"showbackground\":true,\"ticks\":\"\",\"zerolinecolor\":\"white\",\"gridwidth\":2}},\"shapedefaults\":{\"line\":{\"color\":\"#2a3f5f\"}},\"annotationdefaults\":{\"arrowcolor\":\"#2a3f5f\",\"arrowhead\":0,\"arrowwidth\":1},\"geo\":{\"bgcolor\":\"white\",\"landcolor\":\"#E5ECF6\",\"subunitcolor\":\"white\",\"showland\":true,\"showlakes\":true,\"lakecolor\":\"white\"},\"title\":{\"x\":0.05},\"mapbox\":{\"style\":\"light\"}}},\"xaxis\":{\"anchor\":\"y\",\"domain\":[0.0,1.0],\"title\":{\"text\":\"income\"}},\"yaxis\":{\"anchor\":\"x\",\"domain\":[0.0,1.0],\"title\":{\"text\":\"count\"}},\"legend\":{\"title\":{\"text\":\"occupation\"},\"tracegroupgap\":0},\"margin\":{\"t\":60},\"barmode\":\"relative\"},                        {\"responsive\": true}                    ).then(function(){\n",
       "                            \n",
       "var gd = document.getElementById('2a6a6f99-81e2-48e5-abaf-faf48e248fd2');\n",
       "var x = new MutationObserver(function (mutations, observer) {{\n",
       "        var display = window.getComputedStyle(gd).display;\n",
       "        if (!display || display === 'none') {{\n",
       "            console.log([gd, 'removed!']);\n",
       "            Plotly.purge(gd);\n",
       "            observer.disconnect();\n",
       "        }}\n",
       "}});\n",
       "\n",
       "// Listen for the removal of the full notebook cells\n",
       "var notebookContainer = gd.closest('#notebook-container');\n",
       "if (notebookContainer) {{\n",
       "    x.observe(notebookContainer, {childList: true});\n",
       "}}\n",
       "\n",
       "// Listen for the clearing of the current output cell\n",
       "var outputEl = gd.closest('.output');\n",
       "if (outputEl) {{\n",
       "    x.observe(outputEl, {childList: true});\n",
       "}}\n",
       "\n",
       "                        })                };                });            </script>        </div>"
      ]
     },
     "metadata": {},
     "output_type": "display_data"
    }
   ],
   "source": [
    "#RestaurantsLessThan20 Coupon exploration\n",
    "#lets look at the different income values and how many people from each income accepted the coupon from the restaurant\n",
    "data['coupon'].unique()\n",
    "groupRestU20 = data.loc[data['coupon'] == 'Restaurant(<20)']\n",
    "#histogram to show distribution of wealth in those that took the restaurant under 20 coupon\n",
    "px.histogram(groupRestU20, x='income')"
   ]
  },
  {
   "cell_type": "code",
   "execution_count": 113,
   "metadata": {},
   "outputs": [
    {
     "data": {
      "application/vnd.plotly.v1+json": {
       "config": {
        "plotlyServerURL": "https://plot.ly"
       },
       "data": [
        {
         "alignmentgroup": "True",
         "hovertemplate": "income=%{x}<br>Y=%{y}<extra></extra>",
         "legendgroup": "",
         "marker": {
          "color": "#636efa",
          "pattern": {
           "shape": ""
          }
         },
         "name": "",
         "offsetgroup": "",
         "orientation": "v",
         "showlegend": false,
         "textposition": "auto",
         "type": "bar",
         "x": [
          "$100000 or More",
          "$12500 - $24999",
          "$25000 - $37499",
          "$37500 - $49999",
          "$50000 - $62499",
          "$62500 - $74999",
          "$75000 - $87499",
          "$87500 - $99999",
          "Less than $12500"
         ],
         "xaxis": "x",
         "y": [
          265,
          256,
          326,
          252,
          256,
          130,
          126,
          106,
          164
         ],
         "yaxis": "y"
        }
       ],
       "layout": {
        "barmode": "relative",
        "legend": {
         "tracegroupgap": 0
        },
        "margin": {
         "t": 60
        },
        "template": {
         "data": {
          "bar": [
           {
            "error_x": {
             "color": "#2a3f5f"
            },
            "error_y": {
             "color": "#2a3f5f"
            },
            "marker": {
             "line": {
              "color": "#E5ECF6",
              "width": 0.5
             },
             "pattern": {
              "fillmode": "overlay",
              "size": 10,
              "solidity": 0.2
             }
            },
            "type": "bar"
           }
          ],
          "barpolar": [
           {
            "marker": {
             "line": {
              "color": "#E5ECF6",
              "width": 0.5
             },
             "pattern": {
              "fillmode": "overlay",
              "size": 10,
              "solidity": 0.2
             }
            },
            "type": "barpolar"
           }
          ],
          "carpet": [
           {
            "aaxis": {
             "endlinecolor": "#2a3f5f",
             "gridcolor": "white",
             "linecolor": "white",
             "minorgridcolor": "white",
             "startlinecolor": "#2a3f5f"
            },
            "baxis": {
             "endlinecolor": "#2a3f5f",
             "gridcolor": "white",
             "linecolor": "white",
             "minorgridcolor": "white",
             "startlinecolor": "#2a3f5f"
            },
            "type": "carpet"
           }
          ],
          "choropleth": [
           {
            "colorbar": {
             "outlinewidth": 0,
             "ticks": ""
            },
            "type": "choropleth"
           }
          ],
          "contour": [
           {
            "colorbar": {
             "outlinewidth": 0,
             "ticks": ""
            },
            "colorscale": [
             [
              0,
              "#0d0887"
             ],
             [
              0.1111111111111111,
              "#46039f"
             ],
             [
              0.2222222222222222,
              "#7201a8"
             ],
             [
              0.3333333333333333,
              "#9c179e"
             ],
             [
              0.4444444444444444,
              "#bd3786"
             ],
             [
              0.5555555555555556,
              "#d8576b"
             ],
             [
              0.6666666666666666,
              "#ed7953"
             ],
             [
              0.7777777777777778,
              "#fb9f3a"
             ],
             [
              0.8888888888888888,
              "#fdca26"
             ],
             [
              1,
              "#f0f921"
             ]
            ],
            "type": "contour"
           }
          ],
          "contourcarpet": [
           {
            "colorbar": {
             "outlinewidth": 0,
             "ticks": ""
            },
            "type": "contourcarpet"
           }
          ],
          "heatmap": [
           {
            "colorbar": {
             "outlinewidth": 0,
             "ticks": ""
            },
            "colorscale": [
             [
              0,
              "#0d0887"
             ],
             [
              0.1111111111111111,
              "#46039f"
             ],
             [
              0.2222222222222222,
              "#7201a8"
             ],
             [
              0.3333333333333333,
              "#9c179e"
             ],
             [
              0.4444444444444444,
              "#bd3786"
             ],
             [
              0.5555555555555556,
              "#d8576b"
             ],
             [
              0.6666666666666666,
              "#ed7953"
             ],
             [
              0.7777777777777778,
              "#fb9f3a"
             ],
             [
              0.8888888888888888,
              "#fdca26"
             ],
             [
              1,
              "#f0f921"
             ]
            ],
            "type": "heatmap"
           }
          ],
          "heatmapgl": [
           {
            "colorbar": {
             "outlinewidth": 0,
             "ticks": ""
            },
            "colorscale": [
             [
              0,
              "#0d0887"
             ],
             [
              0.1111111111111111,
              "#46039f"
             ],
             [
              0.2222222222222222,
              "#7201a8"
             ],
             [
              0.3333333333333333,
              "#9c179e"
             ],
             [
              0.4444444444444444,
              "#bd3786"
             ],
             [
              0.5555555555555556,
              "#d8576b"
             ],
             [
              0.6666666666666666,
              "#ed7953"
             ],
             [
              0.7777777777777778,
              "#fb9f3a"
             ],
             [
              0.8888888888888888,
              "#fdca26"
             ],
             [
              1,
              "#f0f921"
             ]
            ],
            "type": "heatmapgl"
           }
          ],
          "histogram": [
           {
            "marker": {
             "pattern": {
              "fillmode": "overlay",
              "size": 10,
              "solidity": 0.2
             }
            },
            "type": "histogram"
           }
          ],
          "histogram2d": [
           {
            "colorbar": {
             "outlinewidth": 0,
             "ticks": ""
            },
            "colorscale": [
             [
              0,
              "#0d0887"
             ],
             [
              0.1111111111111111,
              "#46039f"
             ],
             [
              0.2222222222222222,
              "#7201a8"
             ],
             [
              0.3333333333333333,
              "#9c179e"
             ],
             [
              0.4444444444444444,
              "#bd3786"
             ],
             [
              0.5555555555555556,
              "#d8576b"
             ],
             [
              0.6666666666666666,
              "#ed7953"
             ],
             [
              0.7777777777777778,
              "#fb9f3a"
             ],
             [
              0.8888888888888888,
              "#fdca26"
             ],
             [
              1,
              "#f0f921"
             ]
            ],
            "type": "histogram2d"
           }
          ],
          "histogram2dcontour": [
           {
            "colorbar": {
             "outlinewidth": 0,
             "ticks": ""
            },
            "colorscale": [
             [
              0,
              "#0d0887"
             ],
             [
              0.1111111111111111,
              "#46039f"
             ],
             [
              0.2222222222222222,
              "#7201a8"
             ],
             [
              0.3333333333333333,
              "#9c179e"
             ],
             [
              0.4444444444444444,
              "#bd3786"
             ],
             [
              0.5555555555555556,
              "#d8576b"
             ],
             [
              0.6666666666666666,
              "#ed7953"
             ],
             [
              0.7777777777777778,
              "#fb9f3a"
             ],
             [
              0.8888888888888888,
              "#fdca26"
             ],
             [
              1,
              "#f0f921"
             ]
            ],
            "type": "histogram2dcontour"
           }
          ],
          "mesh3d": [
           {
            "colorbar": {
             "outlinewidth": 0,
             "ticks": ""
            },
            "type": "mesh3d"
           }
          ],
          "parcoords": [
           {
            "line": {
             "colorbar": {
              "outlinewidth": 0,
              "ticks": ""
             }
            },
            "type": "parcoords"
           }
          ],
          "pie": [
           {
            "automargin": true,
            "type": "pie"
           }
          ],
          "scatter": [
           {
            "fillpattern": {
             "fillmode": "overlay",
             "size": 10,
             "solidity": 0.2
            },
            "type": "scatter"
           }
          ],
          "scatter3d": [
           {
            "line": {
             "colorbar": {
              "outlinewidth": 0,
              "ticks": ""
             }
            },
            "marker": {
             "colorbar": {
              "outlinewidth": 0,
              "ticks": ""
             }
            },
            "type": "scatter3d"
           }
          ],
          "scattercarpet": [
           {
            "marker": {
             "colorbar": {
              "outlinewidth": 0,
              "ticks": ""
             }
            },
            "type": "scattercarpet"
           }
          ],
          "scattergeo": [
           {
            "marker": {
             "colorbar": {
              "outlinewidth": 0,
              "ticks": ""
             }
            },
            "type": "scattergeo"
           }
          ],
          "scattergl": [
           {
            "marker": {
             "colorbar": {
              "outlinewidth": 0,
              "ticks": ""
             }
            },
            "type": "scattergl"
           }
          ],
          "scattermapbox": [
           {
            "marker": {
             "colorbar": {
              "outlinewidth": 0,
              "ticks": ""
             }
            },
            "type": "scattermapbox"
           }
          ],
          "scatterpolar": [
           {
            "marker": {
             "colorbar": {
              "outlinewidth": 0,
              "ticks": ""
             }
            },
            "type": "scatterpolar"
           }
          ],
          "scatterpolargl": [
           {
            "marker": {
             "colorbar": {
              "outlinewidth": 0,
              "ticks": ""
             }
            },
            "type": "scatterpolargl"
           }
          ],
          "scatterternary": [
           {
            "marker": {
             "colorbar": {
              "outlinewidth": 0,
              "ticks": ""
             }
            },
            "type": "scatterternary"
           }
          ],
          "surface": [
           {
            "colorbar": {
             "outlinewidth": 0,
             "ticks": ""
            },
            "colorscale": [
             [
              0,
              "#0d0887"
             ],
             [
              0.1111111111111111,
              "#46039f"
             ],
             [
              0.2222222222222222,
              "#7201a8"
             ],
             [
              0.3333333333333333,
              "#9c179e"
             ],
             [
              0.4444444444444444,
              "#bd3786"
             ],
             [
              0.5555555555555556,
              "#d8576b"
             ],
             [
              0.6666666666666666,
              "#ed7953"
             ],
             [
              0.7777777777777778,
              "#fb9f3a"
             ],
             [
              0.8888888888888888,
              "#fdca26"
             ],
             [
              1,
              "#f0f921"
             ]
            ],
            "type": "surface"
           }
          ],
          "table": [
           {
            "cells": {
             "fill": {
              "color": "#EBF0F8"
             },
             "line": {
              "color": "white"
             }
            },
            "header": {
             "fill": {
              "color": "#C8D4E3"
             },
             "line": {
              "color": "white"
             }
            },
            "type": "table"
           }
          ]
         },
         "layout": {
          "annotationdefaults": {
           "arrowcolor": "#2a3f5f",
           "arrowhead": 0,
           "arrowwidth": 1
          },
          "autotypenumbers": "strict",
          "coloraxis": {
           "colorbar": {
            "outlinewidth": 0,
            "ticks": ""
           }
          },
          "colorscale": {
           "diverging": [
            [
             0,
             "#8e0152"
            ],
            [
             0.1,
             "#c51b7d"
            ],
            [
             0.2,
             "#de77ae"
            ],
            [
             0.3,
             "#f1b6da"
            ],
            [
             0.4,
             "#fde0ef"
            ],
            [
             0.5,
             "#f7f7f7"
            ],
            [
             0.6,
             "#e6f5d0"
            ],
            [
             0.7,
             "#b8e186"
            ],
            [
             0.8,
             "#7fbc41"
            ],
            [
             0.9,
             "#4d9221"
            ],
            [
             1,
             "#276419"
            ]
           ],
           "sequential": [
            [
             0,
             "#0d0887"
            ],
            [
             0.1111111111111111,
             "#46039f"
            ],
            [
             0.2222222222222222,
             "#7201a8"
            ],
            [
             0.3333333333333333,
             "#9c179e"
            ],
            [
             0.4444444444444444,
             "#bd3786"
            ],
            [
             0.5555555555555556,
             "#d8576b"
            ],
            [
             0.6666666666666666,
             "#ed7953"
            ],
            [
             0.7777777777777778,
             "#fb9f3a"
            ],
            [
             0.8888888888888888,
             "#fdca26"
            ],
            [
             1,
             "#f0f921"
            ]
           ],
           "sequentialminus": [
            [
             0,
             "#0d0887"
            ],
            [
             0.1111111111111111,
             "#46039f"
            ],
            [
             0.2222222222222222,
             "#7201a8"
            ],
            [
             0.3333333333333333,
             "#9c179e"
            ],
            [
             0.4444444444444444,
             "#bd3786"
            ],
            [
             0.5555555555555556,
             "#d8576b"
            ],
            [
             0.6666666666666666,
             "#ed7953"
            ],
            [
             0.7777777777777778,
             "#fb9f3a"
            ],
            [
             0.8888888888888888,
             "#fdca26"
            ],
            [
             1,
             "#f0f921"
            ]
           ]
          },
          "colorway": [
           "#636efa",
           "#EF553B",
           "#00cc96",
           "#ab63fa",
           "#FFA15A",
           "#19d3f3",
           "#FF6692",
           "#B6E880",
           "#FF97FF",
           "#FECB52"
          ],
          "font": {
           "color": "#2a3f5f"
          },
          "geo": {
           "bgcolor": "white",
           "lakecolor": "white",
           "landcolor": "#E5ECF6",
           "showlakes": true,
           "showland": true,
           "subunitcolor": "white"
          },
          "hoverlabel": {
           "align": "left"
          },
          "hovermode": "closest",
          "mapbox": {
           "style": "light"
          },
          "paper_bgcolor": "white",
          "plot_bgcolor": "#E5ECF6",
          "polar": {
           "angularaxis": {
            "gridcolor": "white",
            "linecolor": "white",
            "ticks": ""
           },
           "bgcolor": "#E5ECF6",
           "radialaxis": {
            "gridcolor": "white",
            "linecolor": "white",
            "ticks": ""
           }
          },
          "scene": {
           "xaxis": {
            "backgroundcolor": "#E5ECF6",
            "gridcolor": "white",
            "gridwidth": 2,
            "linecolor": "white",
            "showbackground": true,
            "ticks": "",
            "zerolinecolor": "white"
           },
           "yaxis": {
            "backgroundcolor": "#E5ECF6",
            "gridcolor": "white",
            "gridwidth": 2,
            "linecolor": "white",
            "showbackground": true,
            "ticks": "",
            "zerolinecolor": "white"
           },
           "zaxis": {
            "backgroundcolor": "#E5ECF6",
            "gridcolor": "white",
            "gridwidth": 2,
            "linecolor": "white",
            "showbackground": true,
            "ticks": "",
            "zerolinecolor": "white"
           }
          },
          "shapedefaults": {
           "line": {
            "color": "#2a3f5f"
           }
          },
          "ternary": {
           "aaxis": {
            "gridcolor": "white",
            "linecolor": "white",
            "ticks": ""
           },
           "baxis": {
            "gridcolor": "white",
            "linecolor": "white",
            "ticks": ""
           },
           "bgcolor": "#E5ECF6",
           "caxis": {
            "gridcolor": "white",
            "linecolor": "white",
            "ticks": ""
           }
          },
          "title": {
           "x": 0.05
          },
          "xaxis": {
           "automargin": true,
           "gridcolor": "white",
           "linecolor": "white",
           "ticks": "",
           "title": {
            "standoff": 15
           },
           "zerolinecolor": "white",
           "zerolinewidth": 2
          },
          "yaxis": {
           "automargin": true,
           "gridcolor": "white",
           "linecolor": "white",
           "ticks": "",
           "title": {
            "standoff": 15
           },
           "zerolinecolor": "white",
           "zerolinewidth": 2
          }
         }
        },
        "xaxis": {
         "anchor": "y",
         "domain": [
          0,
          1
         ],
         "title": {
          "text": "income"
         }
        },
        "yaxis": {
         "anchor": "x",
         "domain": [
          0,
          1
         ],
         "title": {
          "text": "Y"
         }
        }
       }
      },
      "text/html": [
       "<div>                            <div id=\"95fc7860-c0b3-4fea-873a-b6c62a13f23b\" class=\"plotly-graph-div\" style=\"height:525px; width:100%;\"></div>            <script type=\"text/javascript\">                require([\"plotly\"], function(Plotly) {                    window.PLOTLYENV=window.PLOTLYENV || {};                                    if (document.getElementById(\"95fc7860-c0b3-4fea-873a-b6c62a13f23b\")) {                    Plotly.newPlot(                        \"95fc7860-c0b3-4fea-873a-b6c62a13f23b\",                        [{\"alignmentgroup\":\"True\",\"hovertemplate\":\"income=%{x}<br>Y=%{y}<extra></extra>\",\"legendgroup\":\"\",\"marker\":{\"color\":\"#636efa\",\"pattern\":{\"shape\":\"\"}},\"name\":\"\",\"offsetgroup\":\"\",\"orientation\":\"v\",\"showlegend\":false,\"textposition\":\"auto\",\"x\":[\"$100000 or More\",\"$12500 - $24999\",\"$25000 - $37499\",\"$37500 - $49999\",\"$50000 - $62499\",\"$62500 - $74999\",\"$75000 - $87499\",\"$87500 - $99999\",\"Less than $12500\"],\"xaxis\":\"x\",\"y\":[265,256,326,252,256,130,126,106,164],\"yaxis\":\"y\",\"type\":\"bar\"}],                        {\"template\":{\"data\":{\"histogram2dcontour\":[{\"type\":\"histogram2dcontour\",\"colorbar\":{\"outlinewidth\":0,\"ticks\":\"\"},\"colorscale\":[[0.0,\"#0d0887\"],[0.1111111111111111,\"#46039f\"],[0.2222222222222222,\"#7201a8\"],[0.3333333333333333,\"#9c179e\"],[0.4444444444444444,\"#bd3786\"],[0.5555555555555556,\"#d8576b\"],[0.6666666666666666,\"#ed7953\"],[0.7777777777777778,\"#fb9f3a\"],[0.8888888888888888,\"#fdca26\"],[1.0,\"#f0f921\"]]}],\"choropleth\":[{\"type\":\"choropleth\",\"colorbar\":{\"outlinewidth\":0,\"ticks\":\"\"}}],\"histogram2d\":[{\"type\":\"histogram2d\",\"colorbar\":{\"outlinewidth\":0,\"ticks\":\"\"},\"colorscale\":[[0.0,\"#0d0887\"],[0.1111111111111111,\"#46039f\"],[0.2222222222222222,\"#7201a8\"],[0.3333333333333333,\"#9c179e\"],[0.4444444444444444,\"#bd3786\"],[0.5555555555555556,\"#d8576b\"],[0.6666666666666666,\"#ed7953\"],[0.7777777777777778,\"#fb9f3a\"],[0.8888888888888888,\"#fdca26\"],[1.0,\"#f0f921\"]]}],\"heatmap\":[{\"type\":\"heatmap\",\"colorbar\":{\"outlinewidth\":0,\"ticks\":\"\"},\"colorscale\":[[0.0,\"#0d0887\"],[0.1111111111111111,\"#46039f\"],[0.2222222222222222,\"#7201a8\"],[0.3333333333333333,\"#9c179e\"],[0.4444444444444444,\"#bd3786\"],[0.5555555555555556,\"#d8576b\"],[0.6666666666666666,\"#ed7953\"],[0.7777777777777778,\"#fb9f3a\"],[0.8888888888888888,\"#fdca26\"],[1.0,\"#f0f921\"]]}],\"heatmapgl\":[{\"type\":\"heatmapgl\",\"colorbar\":{\"outlinewidth\":0,\"ticks\":\"\"},\"colorscale\":[[0.0,\"#0d0887\"],[0.1111111111111111,\"#46039f\"],[0.2222222222222222,\"#7201a8\"],[0.3333333333333333,\"#9c179e\"],[0.4444444444444444,\"#bd3786\"],[0.5555555555555556,\"#d8576b\"],[0.6666666666666666,\"#ed7953\"],[0.7777777777777778,\"#fb9f3a\"],[0.8888888888888888,\"#fdca26\"],[1.0,\"#f0f921\"]]}],\"contourcarpet\":[{\"type\":\"contourcarpet\",\"colorbar\":{\"outlinewidth\":0,\"ticks\":\"\"}}],\"contour\":[{\"type\":\"contour\",\"colorbar\":{\"outlinewidth\":0,\"ticks\":\"\"},\"colorscale\":[[0.0,\"#0d0887\"],[0.1111111111111111,\"#46039f\"],[0.2222222222222222,\"#7201a8\"],[0.3333333333333333,\"#9c179e\"],[0.4444444444444444,\"#bd3786\"],[0.5555555555555556,\"#d8576b\"],[0.6666666666666666,\"#ed7953\"],[0.7777777777777778,\"#fb9f3a\"],[0.8888888888888888,\"#fdca26\"],[1.0,\"#f0f921\"]]}],\"surface\":[{\"type\":\"surface\",\"colorbar\":{\"outlinewidth\":0,\"ticks\":\"\"},\"colorscale\":[[0.0,\"#0d0887\"],[0.1111111111111111,\"#46039f\"],[0.2222222222222222,\"#7201a8\"],[0.3333333333333333,\"#9c179e\"],[0.4444444444444444,\"#bd3786\"],[0.5555555555555556,\"#d8576b\"],[0.6666666666666666,\"#ed7953\"],[0.7777777777777778,\"#fb9f3a\"],[0.8888888888888888,\"#fdca26\"],[1.0,\"#f0f921\"]]}],\"mesh3d\":[{\"type\":\"mesh3d\",\"colorbar\":{\"outlinewidth\":0,\"ticks\":\"\"}}],\"scatter\":[{\"fillpattern\":{\"fillmode\":\"overlay\",\"size\":10,\"solidity\":0.2},\"type\":\"scatter\"}],\"parcoords\":[{\"type\":\"parcoords\",\"line\":{\"colorbar\":{\"outlinewidth\":0,\"ticks\":\"\"}}}],\"scatterpolargl\":[{\"type\":\"scatterpolargl\",\"marker\":{\"colorbar\":{\"outlinewidth\":0,\"ticks\":\"\"}}}],\"bar\":[{\"error_x\":{\"color\":\"#2a3f5f\"},\"error_y\":{\"color\":\"#2a3f5f\"},\"marker\":{\"line\":{\"color\":\"#E5ECF6\",\"width\":0.5},\"pattern\":{\"fillmode\":\"overlay\",\"size\":10,\"solidity\":0.2}},\"type\":\"bar\"}],\"scattergeo\":[{\"type\":\"scattergeo\",\"marker\":{\"colorbar\":{\"outlinewidth\":0,\"ticks\":\"\"}}}],\"scatterpolar\":[{\"type\":\"scatterpolar\",\"marker\":{\"colorbar\":{\"outlinewidth\":0,\"ticks\":\"\"}}}],\"histogram\":[{\"marker\":{\"pattern\":{\"fillmode\":\"overlay\",\"size\":10,\"solidity\":0.2}},\"type\":\"histogram\"}],\"scattergl\":[{\"type\":\"scattergl\",\"marker\":{\"colorbar\":{\"outlinewidth\":0,\"ticks\":\"\"}}}],\"scatter3d\":[{\"type\":\"scatter3d\",\"line\":{\"colorbar\":{\"outlinewidth\":0,\"ticks\":\"\"}},\"marker\":{\"colorbar\":{\"outlinewidth\":0,\"ticks\":\"\"}}}],\"scattermapbox\":[{\"type\":\"scattermapbox\",\"marker\":{\"colorbar\":{\"outlinewidth\":0,\"ticks\":\"\"}}}],\"scatterternary\":[{\"type\":\"scatterternary\",\"marker\":{\"colorbar\":{\"outlinewidth\":0,\"ticks\":\"\"}}}],\"scattercarpet\":[{\"type\":\"scattercarpet\",\"marker\":{\"colorbar\":{\"outlinewidth\":0,\"ticks\":\"\"}}}],\"carpet\":[{\"aaxis\":{\"endlinecolor\":\"#2a3f5f\",\"gridcolor\":\"white\",\"linecolor\":\"white\",\"minorgridcolor\":\"white\",\"startlinecolor\":\"#2a3f5f\"},\"baxis\":{\"endlinecolor\":\"#2a3f5f\",\"gridcolor\":\"white\",\"linecolor\":\"white\",\"minorgridcolor\":\"white\",\"startlinecolor\":\"#2a3f5f\"},\"type\":\"carpet\"}],\"table\":[{\"cells\":{\"fill\":{\"color\":\"#EBF0F8\"},\"line\":{\"color\":\"white\"}},\"header\":{\"fill\":{\"color\":\"#C8D4E3\"},\"line\":{\"color\":\"white\"}},\"type\":\"table\"}],\"barpolar\":[{\"marker\":{\"line\":{\"color\":\"#E5ECF6\",\"width\":0.5},\"pattern\":{\"fillmode\":\"overlay\",\"size\":10,\"solidity\":0.2}},\"type\":\"barpolar\"}],\"pie\":[{\"automargin\":true,\"type\":\"pie\"}]},\"layout\":{\"autotypenumbers\":\"strict\",\"colorway\":[\"#636efa\",\"#EF553B\",\"#00cc96\",\"#ab63fa\",\"#FFA15A\",\"#19d3f3\",\"#FF6692\",\"#B6E880\",\"#FF97FF\",\"#FECB52\"],\"font\":{\"color\":\"#2a3f5f\"},\"hovermode\":\"closest\",\"hoverlabel\":{\"align\":\"left\"},\"paper_bgcolor\":\"white\",\"plot_bgcolor\":\"#E5ECF6\",\"polar\":{\"bgcolor\":\"#E5ECF6\",\"angularaxis\":{\"gridcolor\":\"white\",\"linecolor\":\"white\",\"ticks\":\"\"},\"radialaxis\":{\"gridcolor\":\"white\",\"linecolor\":\"white\",\"ticks\":\"\"}},\"ternary\":{\"bgcolor\":\"#E5ECF6\",\"aaxis\":{\"gridcolor\":\"white\",\"linecolor\":\"white\",\"ticks\":\"\"},\"baxis\":{\"gridcolor\":\"white\",\"linecolor\":\"white\",\"ticks\":\"\"},\"caxis\":{\"gridcolor\":\"white\",\"linecolor\":\"white\",\"ticks\":\"\"}},\"coloraxis\":{\"colorbar\":{\"outlinewidth\":0,\"ticks\":\"\"}},\"colorscale\":{\"sequential\":[[0.0,\"#0d0887\"],[0.1111111111111111,\"#46039f\"],[0.2222222222222222,\"#7201a8\"],[0.3333333333333333,\"#9c179e\"],[0.4444444444444444,\"#bd3786\"],[0.5555555555555556,\"#d8576b\"],[0.6666666666666666,\"#ed7953\"],[0.7777777777777778,\"#fb9f3a\"],[0.8888888888888888,\"#fdca26\"],[1.0,\"#f0f921\"]],\"sequentialminus\":[[0.0,\"#0d0887\"],[0.1111111111111111,\"#46039f\"],[0.2222222222222222,\"#7201a8\"],[0.3333333333333333,\"#9c179e\"],[0.4444444444444444,\"#bd3786\"],[0.5555555555555556,\"#d8576b\"],[0.6666666666666666,\"#ed7953\"],[0.7777777777777778,\"#fb9f3a\"],[0.8888888888888888,\"#fdca26\"],[1.0,\"#f0f921\"]],\"diverging\":[[0,\"#8e0152\"],[0.1,\"#c51b7d\"],[0.2,\"#de77ae\"],[0.3,\"#f1b6da\"],[0.4,\"#fde0ef\"],[0.5,\"#f7f7f7\"],[0.6,\"#e6f5d0\"],[0.7,\"#b8e186\"],[0.8,\"#7fbc41\"],[0.9,\"#4d9221\"],[1,\"#276419\"]]},\"xaxis\":{\"gridcolor\":\"white\",\"linecolor\":\"white\",\"ticks\":\"\",\"title\":{\"standoff\":15},\"zerolinecolor\":\"white\",\"automargin\":true,\"zerolinewidth\":2},\"yaxis\":{\"gridcolor\":\"white\",\"linecolor\":\"white\",\"ticks\":\"\",\"title\":{\"standoff\":15},\"zerolinecolor\":\"white\",\"automargin\":true,\"zerolinewidth\":2},\"scene\":{\"xaxis\":{\"backgroundcolor\":\"#E5ECF6\",\"gridcolor\":\"white\",\"linecolor\":\"white\",\"showbackground\":true,\"ticks\":\"\",\"zerolinecolor\":\"white\",\"gridwidth\":2},\"yaxis\":{\"backgroundcolor\":\"#E5ECF6\",\"gridcolor\":\"white\",\"linecolor\":\"white\",\"showbackground\":true,\"ticks\":\"\",\"zerolinecolor\":\"white\",\"gridwidth\":2},\"zaxis\":{\"backgroundcolor\":\"#E5ECF6\",\"gridcolor\":\"white\",\"linecolor\":\"white\",\"showbackground\":true,\"ticks\":\"\",\"zerolinecolor\":\"white\",\"gridwidth\":2}},\"shapedefaults\":{\"line\":{\"color\":\"#2a3f5f\"}},\"annotationdefaults\":{\"arrowcolor\":\"#2a3f5f\",\"arrowhead\":0,\"arrowwidth\":1},\"geo\":{\"bgcolor\":\"white\",\"landcolor\":\"#E5ECF6\",\"subunitcolor\":\"white\",\"showland\":true,\"showlakes\":true,\"lakecolor\":\"white\"},\"title\":{\"x\":0.05},\"mapbox\":{\"style\":\"light\"}}},\"xaxis\":{\"anchor\":\"y\",\"domain\":[0.0,1.0],\"title\":{\"text\":\"income\"}},\"yaxis\":{\"anchor\":\"x\",\"domain\":[0.0,1.0],\"title\":{\"text\":\"Y\"}},\"legend\":{\"tracegroupgap\":0},\"margin\":{\"t\":60},\"barmode\":\"relative\"},                        {\"responsive\": true}                    ).then(function(){\n",
       "                            \n",
       "var gd = document.getElementById('95fc7860-c0b3-4fea-873a-b6c62a13f23b');\n",
       "var x = new MutationObserver(function (mutations, observer) {{\n",
       "        var display = window.getComputedStyle(gd).display;\n",
       "        if (!display || display === 'none') {{\n",
       "            console.log([gd, 'removed!']);\n",
       "            Plotly.purge(gd);\n",
       "            observer.disconnect();\n",
       "        }}\n",
       "}});\n",
       "\n",
       "// Listen for the removal of the full notebook cells\n",
       "var notebookContainer = gd.closest('#notebook-container');\n",
       "if (notebookContainer) {{\n",
       "    x.observe(notebookContainer, {childList: true});\n",
       "}}\n",
       "\n",
       "// Listen for the clearing of the current output cell\n",
       "var outputEl = gd.closest('.output');\n",
       "if (outputEl) {{\n",
       "    x.observe(outputEl, {childList: true});\n",
       "}}\n",
       "\n",
       "                        })                };                });            </script>        </div>"
      ]
     },
     "metadata": {},
     "output_type": "display_data"
    }
   ],
   "source": [
    "#check the amount of people that used the tickets in each income bracket\n",
    "ratioUsedIncomes = groupRestU20.groupby('income', as_index=False)[['Y']].sum()\n",
    "fig = px.bar(ratioUsedIncomes, x='income', y='Y')\n",
    "fig.show()"
   ]
  },
  {
   "cell_type": "code",
   "execution_count": 147,
   "metadata": {},
   "outputs": [
    {
     "data": {
      "application/vnd.plotly.v1+json": {
       "config": {
        "plotlyServerURL": "https://plot.ly"
       },
       "data": [
        {
         "alignmentgroup": "True",
         "hovertemplate": "income=%{x}<br>count=%{y}<br>ratioY=%{marker.color}<extra></extra>",
         "legendgroup": "",
         "marker": {
          "color": [
           0.7181571815718157,
           0.6790450928381963,
           0.7670588235294118,
           0.6829268292682927,
           0.7734138972809668,
           0.6951871657754011,
           0.6885245901639344,
           0.5760869565217391,
           0.7192982456140351
          ],
          "coloraxis": "coloraxis",
          "pattern": {
           "shape": ""
          }
         },
         "name": "",
         "offsetgroup": "",
         "orientation": "v",
         "showlegend": false,
         "textposition": "auto",
         "type": "bar",
         "x": [
          "$100000 or More",
          "$12500 - $24999",
          "$25000 - $37499",
          "$37500 - $49999",
          "$50000 - $62499",
          "$62500 - $74999",
          "$75000 - $87499",
          "$87500 - $99999",
          "Less than $12500"
         ],
         "xaxis": "x",
         "y": [
          369,
          377,
          425,
          369,
          331,
          187,
          183,
          184,
          228
         ],
         "yaxis": "y"
        }
       ],
       "layout": {
        "barmode": "relative",
        "coloraxis": {
         "colorbar": {
          "title": {
           "text": "ratioY"
          }
         },
         "colorscale": [
          [
           0,
           "#0d0887"
          ],
          [
           0.1111111111111111,
           "#46039f"
          ],
          [
           0.2222222222222222,
           "#7201a8"
          ],
          [
           0.3333333333333333,
           "#9c179e"
          ],
          [
           0.4444444444444444,
           "#bd3786"
          ],
          [
           0.5555555555555556,
           "#d8576b"
          ],
          [
           0.6666666666666666,
           "#ed7953"
          ],
          [
           0.7777777777777778,
           "#fb9f3a"
          ],
          [
           0.8888888888888888,
           "#fdca26"
          ],
          [
           1,
           "#f0f921"
          ]
         ]
        },
        "legend": {
         "tracegroupgap": 0
        },
        "margin": {
         "t": 60
        },
        "template": {
         "data": {
          "bar": [
           {
            "error_x": {
             "color": "#2a3f5f"
            },
            "error_y": {
             "color": "#2a3f5f"
            },
            "marker": {
             "line": {
              "color": "#E5ECF6",
              "width": 0.5
             },
             "pattern": {
              "fillmode": "overlay",
              "size": 10,
              "solidity": 0.2
             }
            },
            "type": "bar"
           }
          ],
          "barpolar": [
           {
            "marker": {
             "line": {
              "color": "#E5ECF6",
              "width": 0.5
             },
             "pattern": {
              "fillmode": "overlay",
              "size": 10,
              "solidity": 0.2
             }
            },
            "type": "barpolar"
           }
          ],
          "carpet": [
           {
            "aaxis": {
             "endlinecolor": "#2a3f5f",
             "gridcolor": "white",
             "linecolor": "white",
             "minorgridcolor": "white",
             "startlinecolor": "#2a3f5f"
            },
            "baxis": {
             "endlinecolor": "#2a3f5f",
             "gridcolor": "white",
             "linecolor": "white",
             "minorgridcolor": "white",
             "startlinecolor": "#2a3f5f"
            },
            "type": "carpet"
           }
          ],
          "choropleth": [
           {
            "colorbar": {
             "outlinewidth": 0,
             "ticks": ""
            },
            "type": "choropleth"
           }
          ],
          "contour": [
           {
            "colorbar": {
             "outlinewidth": 0,
             "ticks": ""
            },
            "colorscale": [
             [
              0,
              "#0d0887"
             ],
             [
              0.1111111111111111,
              "#46039f"
             ],
             [
              0.2222222222222222,
              "#7201a8"
             ],
             [
              0.3333333333333333,
              "#9c179e"
             ],
             [
              0.4444444444444444,
              "#bd3786"
             ],
             [
              0.5555555555555556,
              "#d8576b"
             ],
             [
              0.6666666666666666,
              "#ed7953"
             ],
             [
              0.7777777777777778,
              "#fb9f3a"
             ],
             [
              0.8888888888888888,
              "#fdca26"
             ],
             [
              1,
              "#f0f921"
             ]
            ],
            "type": "contour"
           }
          ],
          "contourcarpet": [
           {
            "colorbar": {
             "outlinewidth": 0,
             "ticks": ""
            },
            "type": "contourcarpet"
           }
          ],
          "heatmap": [
           {
            "colorbar": {
             "outlinewidth": 0,
             "ticks": ""
            },
            "colorscale": [
             [
              0,
              "#0d0887"
             ],
             [
              0.1111111111111111,
              "#46039f"
             ],
             [
              0.2222222222222222,
              "#7201a8"
             ],
             [
              0.3333333333333333,
              "#9c179e"
             ],
             [
              0.4444444444444444,
              "#bd3786"
             ],
             [
              0.5555555555555556,
              "#d8576b"
             ],
             [
              0.6666666666666666,
              "#ed7953"
             ],
             [
              0.7777777777777778,
              "#fb9f3a"
             ],
             [
              0.8888888888888888,
              "#fdca26"
             ],
             [
              1,
              "#f0f921"
             ]
            ],
            "type": "heatmap"
           }
          ],
          "heatmapgl": [
           {
            "colorbar": {
             "outlinewidth": 0,
             "ticks": ""
            },
            "colorscale": [
             [
              0,
              "#0d0887"
             ],
             [
              0.1111111111111111,
              "#46039f"
             ],
             [
              0.2222222222222222,
              "#7201a8"
             ],
             [
              0.3333333333333333,
              "#9c179e"
             ],
             [
              0.4444444444444444,
              "#bd3786"
             ],
             [
              0.5555555555555556,
              "#d8576b"
             ],
             [
              0.6666666666666666,
              "#ed7953"
             ],
             [
              0.7777777777777778,
              "#fb9f3a"
             ],
             [
              0.8888888888888888,
              "#fdca26"
             ],
             [
              1,
              "#f0f921"
             ]
            ],
            "type": "heatmapgl"
           }
          ],
          "histogram": [
           {
            "marker": {
             "pattern": {
              "fillmode": "overlay",
              "size": 10,
              "solidity": 0.2
             }
            },
            "type": "histogram"
           }
          ],
          "histogram2d": [
           {
            "colorbar": {
             "outlinewidth": 0,
             "ticks": ""
            },
            "colorscale": [
             [
              0,
              "#0d0887"
             ],
             [
              0.1111111111111111,
              "#46039f"
             ],
             [
              0.2222222222222222,
              "#7201a8"
             ],
             [
              0.3333333333333333,
              "#9c179e"
             ],
             [
              0.4444444444444444,
              "#bd3786"
             ],
             [
              0.5555555555555556,
              "#d8576b"
             ],
             [
              0.6666666666666666,
              "#ed7953"
             ],
             [
              0.7777777777777778,
              "#fb9f3a"
             ],
             [
              0.8888888888888888,
              "#fdca26"
             ],
             [
              1,
              "#f0f921"
             ]
            ],
            "type": "histogram2d"
           }
          ],
          "histogram2dcontour": [
           {
            "colorbar": {
             "outlinewidth": 0,
             "ticks": ""
            },
            "colorscale": [
             [
              0,
              "#0d0887"
             ],
             [
              0.1111111111111111,
              "#46039f"
             ],
             [
              0.2222222222222222,
              "#7201a8"
             ],
             [
              0.3333333333333333,
              "#9c179e"
             ],
             [
              0.4444444444444444,
              "#bd3786"
             ],
             [
              0.5555555555555556,
              "#d8576b"
             ],
             [
              0.6666666666666666,
              "#ed7953"
             ],
             [
              0.7777777777777778,
              "#fb9f3a"
             ],
             [
              0.8888888888888888,
              "#fdca26"
             ],
             [
              1,
              "#f0f921"
             ]
            ],
            "type": "histogram2dcontour"
           }
          ],
          "mesh3d": [
           {
            "colorbar": {
             "outlinewidth": 0,
             "ticks": ""
            },
            "type": "mesh3d"
           }
          ],
          "parcoords": [
           {
            "line": {
             "colorbar": {
              "outlinewidth": 0,
              "ticks": ""
             }
            },
            "type": "parcoords"
           }
          ],
          "pie": [
           {
            "automargin": true,
            "type": "pie"
           }
          ],
          "scatter": [
           {
            "fillpattern": {
             "fillmode": "overlay",
             "size": 10,
             "solidity": 0.2
            },
            "type": "scatter"
           }
          ],
          "scatter3d": [
           {
            "line": {
             "colorbar": {
              "outlinewidth": 0,
              "ticks": ""
             }
            },
            "marker": {
             "colorbar": {
              "outlinewidth": 0,
              "ticks": ""
             }
            },
            "type": "scatter3d"
           }
          ],
          "scattercarpet": [
           {
            "marker": {
             "colorbar": {
              "outlinewidth": 0,
              "ticks": ""
             }
            },
            "type": "scattercarpet"
           }
          ],
          "scattergeo": [
           {
            "marker": {
             "colorbar": {
              "outlinewidth": 0,
              "ticks": ""
             }
            },
            "type": "scattergeo"
           }
          ],
          "scattergl": [
           {
            "marker": {
             "colorbar": {
              "outlinewidth": 0,
              "ticks": ""
             }
            },
            "type": "scattergl"
           }
          ],
          "scattermapbox": [
           {
            "marker": {
             "colorbar": {
              "outlinewidth": 0,
              "ticks": ""
             }
            },
            "type": "scattermapbox"
           }
          ],
          "scatterpolar": [
           {
            "marker": {
             "colorbar": {
              "outlinewidth": 0,
              "ticks": ""
             }
            },
            "type": "scatterpolar"
           }
          ],
          "scatterpolargl": [
           {
            "marker": {
             "colorbar": {
              "outlinewidth": 0,
              "ticks": ""
             }
            },
            "type": "scatterpolargl"
           }
          ],
          "scatterternary": [
           {
            "marker": {
             "colorbar": {
              "outlinewidth": 0,
              "ticks": ""
             }
            },
            "type": "scatterternary"
           }
          ],
          "surface": [
           {
            "colorbar": {
             "outlinewidth": 0,
             "ticks": ""
            },
            "colorscale": [
             [
              0,
              "#0d0887"
             ],
             [
              0.1111111111111111,
              "#46039f"
             ],
             [
              0.2222222222222222,
              "#7201a8"
             ],
             [
              0.3333333333333333,
              "#9c179e"
             ],
             [
              0.4444444444444444,
              "#bd3786"
             ],
             [
              0.5555555555555556,
              "#d8576b"
             ],
             [
              0.6666666666666666,
              "#ed7953"
             ],
             [
              0.7777777777777778,
              "#fb9f3a"
             ],
             [
              0.8888888888888888,
              "#fdca26"
             ],
             [
              1,
              "#f0f921"
             ]
            ],
            "type": "surface"
           }
          ],
          "table": [
           {
            "cells": {
             "fill": {
              "color": "#EBF0F8"
             },
             "line": {
              "color": "white"
             }
            },
            "header": {
             "fill": {
              "color": "#C8D4E3"
             },
             "line": {
              "color": "white"
             }
            },
            "type": "table"
           }
          ]
         },
         "layout": {
          "annotationdefaults": {
           "arrowcolor": "#2a3f5f",
           "arrowhead": 0,
           "arrowwidth": 1
          },
          "autotypenumbers": "strict",
          "coloraxis": {
           "colorbar": {
            "outlinewidth": 0,
            "ticks": ""
           }
          },
          "colorscale": {
           "diverging": [
            [
             0,
             "#8e0152"
            ],
            [
             0.1,
             "#c51b7d"
            ],
            [
             0.2,
             "#de77ae"
            ],
            [
             0.3,
             "#f1b6da"
            ],
            [
             0.4,
             "#fde0ef"
            ],
            [
             0.5,
             "#f7f7f7"
            ],
            [
             0.6,
             "#e6f5d0"
            ],
            [
             0.7,
             "#b8e186"
            ],
            [
             0.8,
             "#7fbc41"
            ],
            [
             0.9,
             "#4d9221"
            ],
            [
             1,
             "#276419"
            ]
           ],
           "sequential": [
            [
             0,
             "#0d0887"
            ],
            [
             0.1111111111111111,
             "#46039f"
            ],
            [
             0.2222222222222222,
             "#7201a8"
            ],
            [
             0.3333333333333333,
             "#9c179e"
            ],
            [
             0.4444444444444444,
             "#bd3786"
            ],
            [
             0.5555555555555556,
             "#d8576b"
            ],
            [
             0.6666666666666666,
             "#ed7953"
            ],
            [
             0.7777777777777778,
             "#fb9f3a"
            ],
            [
             0.8888888888888888,
             "#fdca26"
            ],
            [
             1,
             "#f0f921"
            ]
           ],
           "sequentialminus": [
            [
             0,
             "#0d0887"
            ],
            [
             0.1111111111111111,
             "#46039f"
            ],
            [
             0.2222222222222222,
             "#7201a8"
            ],
            [
             0.3333333333333333,
             "#9c179e"
            ],
            [
             0.4444444444444444,
             "#bd3786"
            ],
            [
             0.5555555555555556,
             "#d8576b"
            ],
            [
             0.6666666666666666,
             "#ed7953"
            ],
            [
             0.7777777777777778,
             "#fb9f3a"
            ],
            [
             0.8888888888888888,
             "#fdca26"
            ],
            [
             1,
             "#f0f921"
            ]
           ]
          },
          "colorway": [
           "#636efa",
           "#EF553B",
           "#00cc96",
           "#ab63fa",
           "#FFA15A",
           "#19d3f3",
           "#FF6692",
           "#B6E880",
           "#FF97FF",
           "#FECB52"
          ],
          "font": {
           "color": "#2a3f5f"
          },
          "geo": {
           "bgcolor": "white",
           "lakecolor": "white",
           "landcolor": "#E5ECF6",
           "showlakes": true,
           "showland": true,
           "subunitcolor": "white"
          },
          "hoverlabel": {
           "align": "left"
          },
          "hovermode": "closest",
          "mapbox": {
           "style": "light"
          },
          "paper_bgcolor": "white",
          "plot_bgcolor": "#E5ECF6",
          "polar": {
           "angularaxis": {
            "gridcolor": "white",
            "linecolor": "white",
            "ticks": ""
           },
           "bgcolor": "#E5ECF6",
           "radialaxis": {
            "gridcolor": "white",
            "linecolor": "white",
            "ticks": ""
           }
          },
          "scene": {
           "xaxis": {
            "backgroundcolor": "#E5ECF6",
            "gridcolor": "white",
            "gridwidth": 2,
            "linecolor": "white",
            "showbackground": true,
            "ticks": "",
            "zerolinecolor": "white"
           },
           "yaxis": {
            "backgroundcolor": "#E5ECF6",
            "gridcolor": "white",
            "gridwidth": 2,
            "linecolor": "white",
            "showbackground": true,
            "ticks": "",
            "zerolinecolor": "white"
           },
           "zaxis": {
            "backgroundcolor": "#E5ECF6",
            "gridcolor": "white",
            "gridwidth": 2,
            "linecolor": "white",
            "showbackground": true,
            "ticks": "",
            "zerolinecolor": "white"
           }
          },
          "shapedefaults": {
           "line": {
            "color": "#2a3f5f"
           }
          },
          "ternary": {
           "aaxis": {
            "gridcolor": "white",
            "linecolor": "white",
            "ticks": ""
           },
           "baxis": {
            "gridcolor": "white",
            "linecolor": "white",
            "ticks": ""
           },
           "bgcolor": "#E5ECF6",
           "caxis": {
            "gridcolor": "white",
            "linecolor": "white",
            "ticks": ""
           }
          },
          "title": {
           "x": 0.05
          },
          "xaxis": {
           "automargin": true,
           "gridcolor": "white",
           "linecolor": "white",
           "ticks": "",
           "title": {
            "standoff": 15
           },
           "zerolinecolor": "white",
           "zerolinewidth": 2
          },
          "yaxis": {
           "automargin": true,
           "gridcolor": "white",
           "linecolor": "white",
           "ticks": "",
           "title": {
            "standoff": 15
           },
           "zerolinecolor": "white",
           "zerolinewidth": 2
          }
         }
        },
        "xaxis": {
         "anchor": "y",
         "domain": [
          0,
          1
         ],
         "title": {
          "text": "income"
         }
        },
        "yaxis": {
         "anchor": "x",
         "domain": [
          0,
          1
         ],
         "title": {
          "text": "count"
         }
        }
       }
      },
      "text/html": [
       "<div>                            <div id=\"d45a78f9-2a7c-4427-a3a0-e4db1d8bd35a\" class=\"plotly-graph-div\" style=\"height:525px; width:100%;\"></div>            <script type=\"text/javascript\">                require([\"plotly\"], function(Plotly) {                    window.PLOTLYENV=window.PLOTLYENV || {};                                    if (document.getElementById(\"d45a78f9-2a7c-4427-a3a0-e4db1d8bd35a\")) {                    Plotly.newPlot(                        \"d45a78f9-2a7c-4427-a3a0-e4db1d8bd35a\",                        [{\"alignmentgroup\":\"True\",\"hovertemplate\":\"income=%{x}<br>count=%{y}<br>ratioY=%{marker.color}<extra></extra>\",\"legendgroup\":\"\",\"marker\":{\"color\":[0.7181571815718157,0.6790450928381963,0.7670588235294118,0.6829268292682927,0.7734138972809668,0.6951871657754011,0.6885245901639344,0.5760869565217391,0.7192982456140351],\"coloraxis\":\"coloraxis\",\"pattern\":{\"shape\":\"\"}},\"name\":\"\",\"offsetgroup\":\"\",\"orientation\":\"v\",\"showlegend\":false,\"textposition\":\"auto\",\"x\":[\"$100000 or More\",\"$12500 - $24999\",\"$25000 - $37499\",\"$37500 - $49999\",\"$50000 - $62499\",\"$62500 - $74999\",\"$75000 - $87499\",\"$87500 - $99999\",\"Less than $12500\"],\"xaxis\":\"x\",\"y\":[369,377,425,369,331,187,183,184,228],\"yaxis\":\"y\",\"type\":\"bar\"}],                        {\"template\":{\"data\":{\"histogram2dcontour\":[{\"type\":\"histogram2dcontour\",\"colorbar\":{\"outlinewidth\":0,\"ticks\":\"\"},\"colorscale\":[[0.0,\"#0d0887\"],[0.1111111111111111,\"#46039f\"],[0.2222222222222222,\"#7201a8\"],[0.3333333333333333,\"#9c179e\"],[0.4444444444444444,\"#bd3786\"],[0.5555555555555556,\"#d8576b\"],[0.6666666666666666,\"#ed7953\"],[0.7777777777777778,\"#fb9f3a\"],[0.8888888888888888,\"#fdca26\"],[1.0,\"#f0f921\"]]}],\"choropleth\":[{\"type\":\"choropleth\",\"colorbar\":{\"outlinewidth\":0,\"ticks\":\"\"}}],\"histogram2d\":[{\"type\":\"histogram2d\",\"colorbar\":{\"outlinewidth\":0,\"ticks\":\"\"},\"colorscale\":[[0.0,\"#0d0887\"],[0.1111111111111111,\"#46039f\"],[0.2222222222222222,\"#7201a8\"],[0.3333333333333333,\"#9c179e\"],[0.4444444444444444,\"#bd3786\"],[0.5555555555555556,\"#d8576b\"],[0.6666666666666666,\"#ed7953\"],[0.7777777777777778,\"#fb9f3a\"],[0.8888888888888888,\"#fdca26\"],[1.0,\"#f0f921\"]]}],\"heatmap\":[{\"type\":\"heatmap\",\"colorbar\":{\"outlinewidth\":0,\"ticks\":\"\"},\"colorscale\":[[0.0,\"#0d0887\"],[0.1111111111111111,\"#46039f\"],[0.2222222222222222,\"#7201a8\"],[0.3333333333333333,\"#9c179e\"],[0.4444444444444444,\"#bd3786\"],[0.5555555555555556,\"#d8576b\"],[0.6666666666666666,\"#ed7953\"],[0.7777777777777778,\"#fb9f3a\"],[0.8888888888888888,\"#fdca26\"],[1.0,\"#f0f921\"]]}],\"heatmapgl\":[{\"type\":\"heatmapgl\",\"colorbar\":{\"outlinewidth\":0,\"ticks\":\"\"},\"colorscale\":[[0.0,\"#0d0887\"],[0.1111111111111111,\"#46039f\"],[0.2222222222222222,\"#7201a8\"],[0.3333333333333333,\"#9c179e\"],[0.4444444444444444,\"#bd3786\"],[0.5555555555555556,\"#d8576b\"],[0.6666666666666666,\"#ed7953\"],[0.7777777777777778,\"#fb9f3a\"],[0.8888888888888888,\"#fdca26\"],[1.0,\"#f0f921\"]]}],\"contourcarpet\":[{\"type\":\"contourcarpet\",\"colorbar\":{\"outlinewidth\":0,\"ticks\":\"\"}}],\"contour\":[{\"type\":\"contour\",\"colorbar\":{\"outlinewidth\":0,\"ticks\":\"\"},\"colorscale\":[[0.0,\"#0d0887\"],[0.1111111111111111,\"#46039f\"],[0.2222222222222222,\"#7201a8\"],[0.3333333333333333,\"#9c179e\"],[0.4444444444444444,\"#bd3786\"],[0.5555555555555556,\"#d8576b\"],[0.6666666666666666,\"#ed7953\"],[0.7777777777777778,\"#fb9f3a\"],[0.8888888888888888,\"#fdca26\"],[1.0,\"#f0f921\"]]}],\"surface\":[{\"type\":\"surface\",\"colorbar\":{\"outlinewidth\":0,\"ticks\":\"\"},\"colorscale\":[[0.0,\"#0d0887\"],[0.1111111111111111,\"#46039f\"],[0.2222222222222222,\"#7201a8\"],[0.3333333333333333,\"#9c179e\"],[0.4444444444444444,\"#bd3786\"],[0.5555555555555556,\"#d8576b\"],[0.6666666666666666,\"#ed7953\"],[0.7777777777777778,\"#fb9f3a\"],[0.8888888888888888,\"#fdca26\"],[1.0,\"#f0f921\"]]}],\"mesh3d\":[{\"type\":\"mesh3d\",\"colorbar\":{\"outlinewidth\":0,\"ticks\":\"\"}}],\"scatter\":[{\"fillpattern\":{\"fillmode\":\"overlay\",\"size\":10,\"solidity\":0.2},\"type\":\"scatter\"}],\"parcoords\":[{\"type\":\"parcoords\",\"line\":{\"colorbar\":{\"outlinewidth\":0,\"ticks\":\"\"}}}],\"scatterpolargl\":[{\"type\":\"scatterpolargl\",\"marker\":{\"colorbar\":{\"outlinewidth\":0,\"ticks\":\"\"}}}],\"bar\":[{\"error_x\":{\"color\":\"#2a3f5f\"},\"error_y\":{\"color\":\"#2a3f5f\"},\"marker\":{\"line\":{\"color\":\"#E5ECF6\",\"width\":0.5},\"pattern\":{\"fillmode\":\"overlay\",\"size\":10,\"solidity\":0.2}},\"type\":\"bar\"}],\"scattergeo\":[{\"type\":\"scattergeo\",\"marker\":{\"colorbar\":{\"outlinewidth\":0,\"ticks\":\"\"}}}],\"scatterpolar\":[{\"type\":\"scatterpolar\",\"marker\":{\"colorbar\":{\"outlinewidth\":0,\"ticks\":\"\"}}}],\"histogram\":[{\"marker\":{\"pattern\":{\"fillmode\":\"overlay\",\"size\":10,\"solidity\":0.2}},\"type\":\"histogram\"}],\"scattergl\":[{\"type\":\"scattergl\",\"marker\":{\"colorbar\":{\"outlinewidth\":0,\"ticks\":\"\"}}}],\"scatter3d\":[{\"type\":\"scatter3d\",\"line\":{\"colorbar\":{\"outlinewidth\":0,\"ticks\":\"\"}},\"marker\":{\"colorbar\":{\"outlinewidth\":0,\"ticks\":\"\"}}}],\"scattermapbox\":[{\"type\":\"scattermapbox\",\"marker\":{\"colorbar\":{\"outlinewidth\":0,\"ticks\":\"\"}}}],\"scatterternary\":[{\"type\":\"scatterternary\",\"marker\":{\"colorbar\":{\"outlinewidth\":0,\"ticks\":\"\"}}}],\"scattercarpet\":[{\"type\":\"scattercarpet\",\"marker\":{\"colorbar\":{\"outlinewidth\":0,\"ticks\":\"\"}}}],\"carpet\":[{\"aaxis\":{\"endlinecolor\":\"#2a3f5f\",\"gridcolor\":\"white\",\"linecolor\":\"white\",\"minorgridcolor\":\"white\",\"startlinecolor\":\"#2a3f5f\"},\"baxis\":{\"endlinecolor\":\"#2a3f5f\",\"gridcolor\":\"white\",\"linecolor\":\"white\",\"minorgridcolor\":\"white\",\"startlinecolor\":\"#2a3f5f\"},\"type\":\"carpet\"}],\"table\":[{\"cells\":{\"fill\":{\"color\":\"#EBF0F8\"},\"line\":{\"color\":\"white\"}},\"header\":{\"fill\":{\"color\":\"#C8D4E3\"},\"line\":{\"color\":\"white\"}},\"type\":\"table\"}],\"barpolar\":[{\"marker\":{\"line\":{\"color\":\"#E5ECF6\",\"width\":0.5},\"pattern\":{\"fillmode\":\"overlay\",\"size\":10,\"solidity\":0.2}},\"type\":\"barpolar\"}],\"pie\":[{\"automargin\":true,\"type\":\"pie\"}]},\"layout\":{\"autotypenumbers\":\"strict\",\"colorway\":[\"#636efa\",\"#EF553B\",\"#00cc96\",\"#ab63fa\",\"#FFA15A\",\"#19d3f3\",\"#FF6692\",\"#B6E880\",\"#FF97FF\",\"#FECB52\"],\"font\":{\"color\":\"#2a3f5f\"},\"hovermode\":\"closest\",\"hoverlabel\":{\"align\":\"left\"},\"paper_bgcolor\":\"white\",\"plot_bgcolor\":\"#E5ECF6\",\"polar\":{\"bgcolor\":\"#E5ECF6\",\"angularaxis\":{\"gridcolor\":\"white\",\"linecolor\":\"white\",\"ticks\":\"\"},\"radialaxis\":{\"gridcolor\":\"white\",\"linecolor\":\"white\",\"ticks\":\"\"}},\"ternary\":{\"bgcolor\":\"#E5ECF6\",\"aaxis\":{\"gridcolor\":\"white\",\"linecolor\":\"white\",\"ticks\":\"\"},\"baxis\":{\"gridcolor\":\"white\",\"linecolor\":\"white\",\"ticks\":\"\"},\"caxis\":{\"gridcolor\":\"white\",\"linecolor\":\"white\",\"ticks\":\"\"}},\"coloraxis\":{\"colorbar\":{\"outlinewidth\":0,\"ticks\":\"\"}},\"colorscale\":{\"sequential\":[[0.0,\"#0d0887\"],[0.1111111111111111,\"#46039f\"],[0.2222222222222222,\"#7201a8\"],[0.3333333333333333,\"#9c179e\"],[0.4444444444444444,\"#bd3786\"],[0.5555555555555556,\"#d8576b\"],[0.6666666666666666,\"#ed7953\"],[0.7777777777777778,\"#fb9f3a\"],[0.8888888888888888,\"#fdca26\"],[1.0,\"#f0f921\"]],\"sequentialminus\":[[0.0,\"#0d0887\"],[0.1111111111111111,\"#46039f\"],[0.2222222222222222,\"#7201a8\"],[0.3333333333333333,\"#9c179e\"],[0.4444444444444444,\"#bd3786\"],[0.5555555555555556,\"#d8576b\"],[0.6666666666666666,\"#ed7953\"],[0.7777777777777778,\"#fb9f3a\"],[0.8888888888888888,\"#fdca26\"],[1.0,\"#f0f921\"]],\"diverging\":[[0,\"#8e0152\"],[0.1,\"#c51b7d\"],[0.2,\"#de77ae\"],[0.3,\"#f1b6da\"],[0.4,\"#fde0ef\"],[0.5,\"#f7f7f7\"],[0.6,\"#e6f5d0\"],[0.7,\"#b8e186\"],[0.8,\"#7fbc41\"],[0.9,\"#4d9221\"],[1,\"#276419\"]]},\"xaxis\":{\"gridcolor\":\"white\",\"linecolor\":\"white\",\"ticks\":\"\",\"title\":{\"standoff\":15},\"zerolinecolor\":\"white\",\"automargin\":true,\"zerolinewidth\":2},\"yaxis\":{\"gridcolor\":\"white\",\"linecolor\":\"white\",\"ticks\":\"\",\"title\":{\"standoff\":15},\"zerolinecolor\":\"white\",\"automargin\":true,\"zerolinewidth\":2},\"scene\":{\"xaxis\":{\"backgroundcolor\":\"#E5ECF6\",\"gridcolor\":\"white\",\"linecolor\":\"white\",\"showbackground\":true,\"ticks\":\"\",\"zerolinecolor\":\"white\",\"gridwidth\":2},\"yaxis\":{\"backgroundcolor\":\"#E5ECF6\",\"gridcolor\":\"white\",\"linecolor\":\"white\",\"showbackground\":true,\"ticks\":\"\",\"zerolinecolor\":\"white\",\"gridwidth\":2},\"zaxis\":{\"backgroundcolor\":\"#E5ECF6\",\"gridcolor\":\"white\",\"linecolor\":\"white\",\"showbackground\":true,\"ticks\":\"\",\"zerolinecolor\":\"white\",\"gridwidth\":2}},\"shapedefaults\":{\"line\":{\"color\":\"#2a3f5f\"}},\"annotationdefaults\":{\"arrowcolor\":\"#2a3f5f\",\"arrowhead\":0,\"arrowwidth\":1},\"geo\":{\"bgcolor\":\"white\",\"landcolor\":\"#E5ECF6\",\"subunitcolor\":\"white\",\"showland\":true,\"showlakes\":true,\"lakecolor\":\"white\"},\"title\":{\"x\":0.05},\"mapbox\":{\"style\":\"light\"}}},\"xaxis\":{\"anchor\":\"y\",\"domain\":[0.0,1.0],\"title\":{\"text\":\"income\"}},\"yaxis\":{\"anchor\":\"x\",\"domain\":[0.0,1.0],\"title\":{\"text\":\"count\"}},\"coloraxis\":{\"colorbar\":{\"title\":{\"text\":\"ratioY\"}},\"colorscale\":[[0.0,\"#0d0887\"],[0.1111111111111111,\"#46039f\"],[0.2222222222222222,\"#7201a8\"],[0.3333333333333333,\"#9c179e\"],[0.4444444444444444,\"#bd3786\"],[0.5555555555555556,\"#d8576b\"],[0.6666666666666666,\"#ed7953\"],[0.7777777777777778,\"#fb9f3a\"],[0.8888888888888888,\"#fdca26\"],[1.0,\"#f0f921\"]]},\"legend\":{\"tracegroupgap\":0},\"margin\":{\"t\":60},\"barmode\":\"relative\"},                        {\"responsive\": true}                    ).then(function(){\n",
       "                            \n",
       "var gd = document.getElementById('d45a78f9-2a7c-4427-a3a0-e4db1d8bd35a');\n",
       "var x = new MutationObserver(function (mutations, observer) {{\n",
       "        var display = window.getComputedStyle(gd).display;\n",
       "        if (!display || display === 'none') {{\n",
       "            console.log([gd, 'removed!']);\n",
       "            Plotly.purge(gd);\n",
       "            observer.disconnect();\n",
       "        }}\n",
       "}});\n",
       "\n",
       "// Listen for the removal of the full notebook cells\n",
       "var notebookContainer = gd.closest('#notebook-container');\n",
       "if (notebookContainer) {{\n",
       "    x.observe(notebookContainer, {childList: true});\n",
       "}}\n",
       "\n",
       "// Listen for the clearing of the current output cell\n",
       "var outputEl = gd.closest('.output');\n",
       "if (outputEl) {{\n",
       "    x.observe(outputEl, {childList: true});\n",
       "}}\n",
       "\n",
       "                        })                };                });            </script>        </div>"
      ]
     },
     "metadata": {},
     "output_type": "display_data"
    }
   ],
   "source": [
    "#lets see the difference between the two and graph that as well\n",
    "diffIncomes = groupRestU20.groupby('income', as_index=False)[['Y']].count()\n",
    "groupU20Incomes = groupRestU20.groupby('income', as_index=False)[['Y']].sum()\n",
    "diffIncomes['count'] = diffIncomes.Y\n",
    "diffIncomes['Y'] = groupU20Incomes.Y\n",
    "diffIncomes['ratioY'] = diffIncomes['Y']/diffIncomes['count']\n",
    "fig2 = px.bar(diffIncomes, x='income', y='count', color='ratioY')\n",
    "fig2.show()\n",
    "#This shows how many drivers recieved coupons and the ratio to them recieving the coupon to them actually using it.\n",
    "#As we can see, those in the income classes between $0-$62,500 were all more than 70% likely to use the coupon given to them\n",
    "#However, this drops after that to roughly 65% between $62,500-$100,000 and jumps back up at $100,000 and more.\n",
    "#Overall, this shows that the coupon was relatively successful among all income classes but more so in the mid range incomes."
   ]
  },
  {
   "cell_type": "code",
   "execution_count": 168,
   "metadata": {},
   "outputs": [
    {
     "data": {
      "application/vnd.plotly.v1+json": {
       "config": {
        "plotlyServerURL": "https://plot.ly"
       },
       "data": [
        {
         "alignmentgroup": "True",
         "hovertemplate": "destination=Home<br>occupation=%{x}<br>Y=%{y}<extra></extra>",
         "legendgroup": "Home",
         "marker": {
          "color": "#636efa",
          "pattern": {
           "shape": ""
          }
         },
         "name": "Home",
         "offsetgroup": "Home",
         "orientation": "v",
         "showlegend": true,
         "textposition": "auto",
         "type": "bar",
         "x": [
          "Business & Financial",
          "Food Preparation & Serving Related",
          "Healthcare Practitioners & Technical",
          "Healthcare Support",
          "Life Physical Social Science",
          "Management",
          "Unemployed"
         ],
         "xaxis": "x",
         "y": [
          9,
          5,
          3,
          5,
          1,
          12,
          45
         ],
         "yaxis": "y"
        },
        {
         "alignmentgroup": "True",
         "hovertemplate": "destination=No Urgent Place<br>occupation=%{x}<br>Y=%{y}<extra></extra>",
         "legendgroup": "No Urgent Place",
         "marker": {
          "color": "#EF553B",
          "pattern": {
           "shape": ""
          }
         },
         "name": "No Urgent Place",
         "offsetgroup": "No Urgent Place",
         "orientation": "v",
         "showlegend": true,
         "textposition": "auto",
         "type": "bar",
         "x": [
          "Business & Financial",
          "Food Preparation & Serving Related",
          "Healthcare Practitioners & Technical",
          "Healthcare Support",
          "Life Physical Social Science",
          "Management",
          "Unemployed"
         ],
         "xaxis": "x",
         "y": [
          54,
          32,
          23,
          25,
          22,
          92,
          185
         ],
         "yaxis": "y"
        },
        {
         "alignmentgroup": "True",
         "hovertemplate": "destination=Work<br>occupation=%{x}<br>Y=%{y}<extra></extra>",
         "legendgroup": "Work",
         "marker": {
          "color": "#00cc96",
          "pattern": {
           "shape": ""
          }
         },
         "name": "Work",
         "offsetgroup": "Work",
         "orientation": "v",
         "showlegend": true,
         "textposition": "auto",
         "type": "bar",
         "x": [
          "Business & Financial",
          "Food Preparation & Serving Related",
          "Healthcare Practitioners & Technical",
          "Healthcare Support",
          "Life Physical Social Science",
          "Management",
          "Unemployed"
         ],
         "xaxis": "x",
         "y": [
          16,
          9,
          9,
          9,
          7,
          24,
          36
         ],
         "yaxis": "y"
        }
       ],
       "layout": {
        "barmode": "relative",
        "legend": {
         "title": {
          "text": "destination"
         },
         "tracegroupgap": 0
        },
        "margin": {
         "t": 60
        },
        "template": {
         "data": {
          "bar": [
           {
            "error_x": {
             "color": "#2a3f5f"
            },
            "error_y": {
             "color": "#2a3f5f"
            },
            "marker": {
             "line": {
              "color": "#E5ECF6",
              "width": 0.5
             },
             "pattern": {
              "fillmode": "overlay",
              "size": 10,
              "solidity": 0.2
             }
            },
            "type": "bar"
           }
          ],
          "barpolar": [
           {
            "marker": {
             "line": {
              "color": "#E5ECF6",
              "width": 0.5
             },
             "pattern": {
              "fillmode": "overlay",
              "size": 10,
              "solidity": 0.2
             }
            },
            "type": "barpolar"
           }
          ],
          "carpet": [
           {
            "aaxis": {
             "endlinecolor": "#2a3f5f",
             "gridcolor": "white",
             "linecolor": "white",
             "minorgridcolor": "white",
             "startlinecolor": "#2a3f5f"
            },
            "baxis": {
             "endlinecolor": "#2a3f5f",
             "gridcolor": "white",
             "linecolor": "white",
             "minorgridcolor": "white",
             "startlinecolor": "#2a3f5f"
            },
            "type": "carpet"
           }
          ],
          "choropleth": [
           {
            "colorbar": {
             "outlinewidth": 0,
             "ticks": ""
            },
            "type": "choropleth"
           }
          ],
          "contour": [
           {
            "colorbar": {
             "outlinewidth": 0,
             "ticks": ""
            },
            "colorscale": [
             [
              0,
              "#0d0887"
             ],
             [
              0.1111111111111111,
              "#46039f"
             ],
             [
              0.2222222222222222,
              "#7201a8"
             ],
             [
              0.3333333333333333,
              "#9c179e"
             ],
             [
              0.4444444444444444,
              "#bd3786"
             ],
             [
              0.5555555555555556,
              "#d8576b"
             ],
             [
              0.6666666666666666,
              "#ed7953"
             ],
             [
              0.7777777777777778,
              "#fb9f3a"
             ],
             [
              0.8888888888888888,
              "#fdca26"
             ],
             [
              1,
              "#f0f921"
             ]
            ],
            "type": "contour"
           }
          ],
          "contourcarpet": [
           {
            "colorbar": {
             "outlinewidth": 0,
             "ticks": ""
            },
            "type": "contourcarpet"
           }
          ],
          "heatmap": [
           {
            "colorbar": {
             "outlinewidth": 0,
             "ticks": ""
            },
            "colorscale": [
             [
              0,
              "#0d0887"
             ],
             [
              0.1111111111111111,
              "#46039f"
             ],
             [
              0.2222222222222222,
              "#7201a8"
             ],
             [
              0.3333333333333333,
              "#9c179e"
             ],
             [
              0.4444444444444444,
              "#bd3786"
             ],
             [
              0.5555555555555556,
              "#d8576b"
             ],
             [
              0.6666666666666666,
              "#ed7953"
             ],
             [
              0.7777777777777778,
              "#fb9f3a"
             ],
             [
              0.8888888888888888,
              "#fdca26"
             ],
             [
              1,
              "#f0f921"
             ]
            ],
            "type": "heatmap"
           }
          ],
          "heatmapgl": [
           {
            "colorbar": {
             "outlinewidth": 0,
             "ticks": ""
            },
            "colorscale": [
             [
              0,
              "#0d0887"
             ],
             [
              0.1111111111111111,
              "#46039f"
             ],
             [
              0.2222222222222222,
              "#7201a8"
             ],
             [
              0.3333333333333333,
              "#9c179e"
             ],
             [
              0.4444444444444444,
              "#bd3786"
             ],
             [
              0.5555555555555556,
              "#d8576b"
             ],
             [
              0.6666666666666666,
              "#ed7953"
             ],
             [
              0.7777777777777778,
              "#fb9f3a"
             ],
             [
              0.8888888888888888,
              "#fdca26"
             ],
             [
              1,
              "#f0f921"
             ]
            ],
            "type": "heatmapgl"
           }
          ],
          "histogram": [
           {
            "marker": {
             "pattern": {
              "fillmode": "overlay",
              "size": 10,
              "solidity": 0.2
             }
            },
            "type": "histogram"
           }
          ],
          "histogram2d": [
           {
            "colorbar": {
             "outlinewidth": 0,
             "ticks": ""
            },
            "colorscale": [
             [
              0,
              "#0d0887"
             ],
             [
              0.1111111111111111,
              "#46039f"
             ],
             [
              0.2222222222222222,
              "#7201a8"
             ],
             [
              0.3333333333333333,
              "#9c179e"
             ],
             [
              0.4444444444444444,
              "#bd3786"
             ],
             [
              0.5555555555555556,
              "#d8576b"
             ],
             [
              0.6666666666666666,
              "#ed7953"
             ],
             [
              0.7777777777777778,
              "#fb9f3a"
             ],
             [
              0.8888888888888888,
              "#fdca26"
             ],
             [
              1,
              "#f0f921"
             ]
            ],
            "type": "histogram2d"
           }
          ],
          "histogram2dcontour": [
           {
            "colorbar": {
             "outlinewidth": 0,
             "ticks": ""
            },
            "colorscale": [
             [
              0,
              "#0d0887"
             ],
             [
              0.1111111111111111,
              "#46039f"
             ],
             [
              0.2222222222222222,
              "#7201a8"
             ],
             [
              0.3333333333333333,
              "#9c179e"
             ],
             [
              0.4444444444444444,
              "#bd3786"
             ],
             [
              0.5555555555555556,
              "#d8576b"
             ],
             [
              0.6666666666666666,
              "#ed7953"
             ],
             [
              0.7777777777777778,
              "#fb9f3a"
             ],
             [
              0.8888888888888888,
              "#fdca26"
             ],
             [
              1,
              "#f0f921"
             ]
            ],
            "type": "histogram2dcontour"
           }
          ],
          "mesh3d": [
           {
            "colorbar": {
             "outlinewidth": 0,
             "ticks": ""
            },
            "type": "mesh3d"
           }
          ],
          "parcoords": [
           {
            "line": {
             "colorbar": {
              "outlinewidth": 0,
              "ticks": ""
             }
            },
            "type": "parcoords"
           }
          ],
          "pie": [
           {
            "automargin": true,
            "type": "pie"
           }
          ],
          "scatter": [
           {
            "fillpattern": {
             "fillmode": "overlay",
             "size": 10,
             "solidity": 0.2
            },
            "type": "scatter"
           }
          ],
          "scatter3d": [
           {
            "line": {
             "colorbar": {
              "outlinewidth": 0,
              "ticks": ""
             }
            },
            "marker": {
             "colorbar": {
              "outlinewidth": 0,
              "ticks": ""
             }
            },
            "type": "scatter3d"
           }
          ],
          "scattercarpet": [
           {
            "marker": {
             "colorbar": {
              "outlinewidth": 0,
              "ticks": ""
             }
            },
            "type": "scattercarpet"
           }
          ],
          "scattergeo": [
           {
            "marker": {
             "colorbar": {
              "outlinewidth": 0,
              "ticks": ""
             }
            },
            "type": "scattergeo"
           }
          ],
          "scattergl": [
           {
            "marker": {
             "colorbar": {
              "outlinewidth": 0,
              "ticks": ""
             }
            },
            "type": "scattergl"
           }
          ],
          "scattermapbox": [
           {
            "marker": {
             "colorbar": {
              "outlinewidth": 0,
              "ticks": ""
             }
            },
            "type": "scattermapbox"
           }
          ],
          "scatterpolar": [
           {
            "marker": {
             "colorbar": {
              "outlinewidth": 0,
              "ticks": ""
             }
            },
            "type": "scatterpolar"
           }
          ],
          "scatterpolargl": [
           {
            "marker": {
             "colorbar": {
              "outlinewidth": 0,
              "ticks": ""
             }
            },
            "type": "scatterpolargl"
           }
          ],
          "scatterternary": [
           {
            "marker": {
             "colorbar": {
              "outlinewidth": 0,
              "ticks": ""
             }
            },
            "type": "scatterternary"
           }
          ],
          "surface": [
           {
            "colorbar": {
             "outlinewidth": 0,
             "ticks": ""
            },
            "colorscale": [
             [
              0,
              "#0d0887"
             ],
             [
              0.1111111111111111,
              "#46039f"
             ],
             [
              0.2222222222222222,
              "#7201a8"
             ],
             [
              0.3333333333333333,
              "#9c179e"
             ],
             [
              0.4444444444444444,
              "#bd3786"
             ],
             [
              0.5555555555555556,
              "#d8576b"
             ],
             [
              0.6666666666666666,
              "#ed7953"
             ],
             [
              0.7777777777777778,
              "#fb9f3a"
             ],
             [
              0.8888888888888888,
              "#fdca26"
             ],
             [
              1,
              "#f0f921"
             ]
            ],
            "type": "surface"
           }
          ],
          "table": [
           {
            "cells": {
             "fill": {
              "color": "#EBF0F8"
             },
             "line": {
              "color": "white"
             }
            },
            "header": {
             "fill": {
              "color": "#C8D4E3"
             },
             "line": {
              "color": "white"
             }
            },
            "type": "table"
           }
          ]
         },
         "layout": {
          "annotationdefaults": {
           "arrowcolor": "#2a3f5f",
           "arrowhead": 0,
           "arrowwidth": 1
          },
          "autotypenumbers": "strict",
          "coloraxis": {
           "colorbar": {
            "outlinewidth": 0,
            "ticks": ""
           }
          },
          "colorscale": {
           "diverging": [
            [
             0,
             "#8e0152"
            ],
            [
             0.1,
             "#c51b7d"
            ],
            [
             0.2,
             "#de77ae"
            ],
            [
             0.3,
             "#f1b6da"
            ],
            [
             0.4,
             "#fde0ef"
            ],
            [
             0.5,
             "#f7f7f7"
            ],
            [
             0.6,
             "#e6f5d0"
            ],
            [
             0.7,
             "#b8e186"
            ],
            [
             0.8,
             "#7fbc41"
            ],
            [
             0.9,
             "#4d9221"
            ],
            [
             1,
             "#276419"
            ]
           ],
           "sequential": [
            [
             0,
             "#0d0887"
            ],
            [
             0.1111111111111111,
             "#46039f"
            ],
            [
             0.2222222222222222,
             "#7201a8"
            ],
            [
             0.3333333333333333,
             "#9c179e"
            ],
            [
             0.4444444444444444,
             "#bd3786"
            ],
            [
             0.5555555555555556,
             "#d8576b"
            ],
            [
             0.6666666666666666,
             "#ed7953"
            ],
            [
             0.7777777777777778,
             "#fb9f3a"
            ],
            [
             0.8888888888888888,
             "#fdca26"
            ],
            [
             1,
             "#f0f921"
            ]
           ],
           "sequentialminus": [
            [
             0,
             "#0d0887"
            ],
            [
             0.1111111111111111,
             "#46039f"
            ],
            [
             0.2222222222222222,
             "#7201a8"
            ],
            [
             0.3333333333333333,
             "#9c179e"
            ],
            [
             0.4444444444444444,
             "#bd3786"
            ],
            [
             0.5555555555555556,
             "#d8576b"
            ],
            [
             0.6666666666666666,
             "#ed7953"
            ],
            [
             0.7777777777777778,
             "#fb9f3a"
            ],
            [
             0.8888888888888888,
             "#fdca26"
            ],
            [
             1,
             "#f0f921"
            ]
           ]
          },
          "colorway": [
           "#636efa",
           "#EF553B",
           "#00cc96",
           "#ab63fa",
           "#FFA15A",
           "#19d3f3",
           "#FF6692",
           "#B6E880",
           "#FF97FF",
           "#FECB52"
          ],
          "font": {
           "color": "#2a3f5f"
          },
          "geo": {
           "bgcolor": "white",
           "lakecolor": "white",
           "landcolor": "#E5ECF6",
           "showlakes": true,
           "showland": true,
           "subunitcolor": "white"
          },
          "hoverlabel": {
           "align": "left"
          },
          "hovermode": "closest",
          "mapbox": {
           "style": "light"
          },
          "paper_bgcolor": "white",
          "plot_bgcolor": "#E5ECF6",
          "polar": {
           "angularaxis": {
            "gridcolor": "white",
            "linecolor": "white",
            "ticks": ""
           },
           "bgcolor": "#E5ECF6",
           "radialaxis": {
            "gridcolor": "white",
            "linecolor": "white",
            "ticks": ""
           }
          },
          "scene": {
           "xaxis": {
            "backgroundcolor": "#E5ECF6",
            "gridcolor": "white",
            "gridwidth": 2,
            "linecolor": "white",
            "showbackground": true,
            "ticks": "",
            "zerolinecolor": "white"
           },
           "yaxis": {
            "backgroundcolor": "#E5ECF6",
            "gridcolor": "white",
            "gridwidth": 2,
            "linecolor": "white",
            "showbackground": true,
            "ticks": "",
            "zerolinecolor": "white"
           },
           "zaxis": {
            "backgroundcolor": "#E5ECF6",
            "gridcolor": "white",
            "gridwidth": 2,
            "linecolor": "white",
            "showbackground": true,
            "ticks": "",
            "zerolinecolor": "white"
           }
          },
          "shapedefaults": {
           "line": {
            "color": "#2a3f5f"
           }
          },
          "ternary": {
           "aaxis": {
            "gridcolor": "white",
            "linecolor": "white",
            "ticks": ""
           },
           "baxis": {
            "gridcolor": "white",
            "linecolor": "white",
            "ticks": ""
           },
           "bgcolor": "#E5ECF6",
           "caxis": {
            "gridcolor": "white",
            "linecolor": "white",
            "ticks": ""
           }
          },
          "title": {
           "x": 0.05
          },
          "xaxis": {
           "automargin": true,
           "gridcolor": "white",
           "linecolor": "white",
           "ticks": "",
           "title": {
            "standoff": 15
           },
           "zerolinecolor": "white",
           "zerolinewidth": 2
          },
          "yaxis": {
           "automargin": true,
           "gridcolor": "white",
           "linecolor": "white",
           "ticks": "",
           "title": {
            "standoff": 15
           },
           "zerolinecolor": "white",
           "zerolinewidth": 2
          }
         }
        },
        "xaxis": {
         "anchor": "y",
         "domain": [
          0,
          1
         ],
         "title": {
          "text": "occupation"
         }
        },
        "yaxis": {
         "anchor": "x",
         "domain": [
          0,
          1
         ],
         "title": {
          "text": "Y"
         }
        }
       }
      },
      "text/html": [
       "<div>                            <div id=\"a9bb864f-3d9c-49a5-b4fc-32820ccfdee3\" class=\"plotly-graph-div\" style=\"height:525px; width:100%;\"></div>            <script type=\"text/javascript\">                require([\"plotly\"], function(Plotly) {                    window.PLOTLYENV=window.PLOTLYENV || {};                                    if (document.getElementById(\"a9bb864f-3d9c-49a5-b4fc-32820ccfdee3\")) {                    Plotly.newPlot(                        \"a9bb864f-3d9c-49a5-b4fc-32820ccfdee3\",                        [{\"alignmentgroup\":\"True\",\"hovertemplate\":\"destination=Home<br>occupation=%{x}<br>Y=%{y}<extra></extra>\",\"legendgroup\":\"Home\",\"marker\":{\"color\":\"#636efa\",\"pattern\":{\"shape\":\"\"}},\"name\":\"Home\",\"offsetgroup\":\"Home\",\"orientation\":\"v\",\"showlegend\":true,\"textposition\":\"auto\",\"x\":[\"Business & Financial\",\"Food Preparation & Serving Related\",\"Healthcare Practitioners & Technical\",\"Healthcare Support\",\"Life Physical Social Science\",\"Management\",\"Unemployed\"],\"xaxis\":\"x\",\"y\":[9,5,3,5,1,12,45],\"yaxis\":\"y\",\"type\":\"bar\"},{\"alignmentgroup\":\"True\",\"hovertemplate\":\"destination=No Urgent Place<br>occupation=%{x}<br>Y=%{y}<extra></extra>\",\"legendgroup\":\"No Urgent Place\",\"marker\":{\"color\":\"#EF553B\",\"pattern\":{\"shape\":\"\"}},\"name\":\"No Urgent Place\",\"offsetgroup\":\"No Urgent Place\",\"orientation\":\"v\",\"showlegend\":true,\"textposition\":\"auto\",\"x\":[\"Business & Financial\",\"Food Preparation & Serving Related\",\"Healthcare Practitioners & Technical\",\"Healthcare Support\",\"Life Physical Social Science\",\"Management\",\"Unemployed\"],\"xaxis\":\"x\",\"y\":[54,32,23,25,22,92,185],\"yaxis\":\"y\",\"type\":\"bar\"},{\"alignmentgroup\":\"True\",\"hovertemplate\":\"destination=Work<br>occupation=%{x}<br>Y=%{y}<extra></extra>\",\"legendgroup\":\"Work\",\"marker\":{\"color\":\"#00cc96\",\"pattern\":{\"shape\":\"\"}},\"name\":\"Work\",\"offsetgroup\":\"Work\",\"orientation\":\"v\",\"showlegend\":true,\"textposition\":\"auto\",\"x\":[\"Business & Financial\",\"Food Preparation & Serving Related\",\"Healthcare Practitioners & Technical\",\"Healthcare Support\",\"Life Physical Social Science\",\"Management\",\"Unemployed\"],\"xaxis\":\"x\",\"y\":[16,9,9,9,7,24,36],\"yaxis\":\"y\",\"type\":\"bar\"}],                        {\"template\":{\"data\":{\"histogram2dcontour\":[{\"type\":\"histogram2dcontour\",\"colorbar\":{\"outlinewidth\":0,\"ticks\":\"\"},\"colorscale\":[[0.0,\"#0d0887\"],[0.1111111111111111,\"#46039f\"],[0.2222222222222222,\"#7201a8\"],[0.3333333333333333,\"#9c179e\"],[0.4444444444444444,\"#bd3786\"],[0.5555555555555556,\"#d8576b\"],[0.6666666666666666,\"#ed7953\"],[0.7777777777777778,\"#fb9f3a\"],[0.8888888888888888,\"#fdca26\"],[1.0,\"#f0f921\"]]}],\"choropleth\":[{\"type\":\"choropleth\",\"colorbar\":{\"outlinewidth\":0,\"ticks\":\"\"}}],\"histogram2d\":[{\"type\":\"histogram2d\",\"colorbar\":{\"outlinewidth\":0,\"ticks\":\"\"},\"colorscale\":[[0.0,\"#0d0887\"],[0.1111111111111111,\"#46039f\"],[0.2222222222222222,\"#7201a8\"],[0.3333333333333333,\"#9c179e\"],[0.4444444444444444,\"#bd3786\"],[0.5555555555555556,\"#d8576b\"],[0.6666666666666666,\"#ed7953\"],[0.7777777777777778,\"#fb9f3a\"],[0.8888888888888888,\"#fdca26\"],[1.0,\"#f0f921\"]]}],\"heatmap\":[{\"type\":\"heatmap\",\"colorbar\":{\"outlinewidth\":0,\"ticks\":\"\"},\"colorscale\":[[0.0,\"#0d0887\"],[0.1111111111111111,\"#46039f\"],[0.2222222222222222,\"#7201a8\"],[0.3333333333333333,\"#9c179e\"],[0.4444444444444444,\"#bd3786\"],[0.5555555555555556,\"#d8576b\"],[0.6666666666666666,\"#ed7953\"],[0.7777777777777778,\"#fb9f3a\"],[0.8888888888888888,\"#fdca26\"],[1.0,\"#f0f921\"]]}],\"heatmapgl\":[{\"type\":\"heatmapgl\",\"colorbar\":{\"outlinewidth\":0,\"ticks\":\"\"},\"colorscale\":[[0.0,\"#0d0887\"],[0.1111111111111111,\"#46039f\"],[0.2222222222222222,\"#7201a8\"],[0.3333333333333333,\"#9c179e\"],[0.4444444444444444,\"#bd3786\"],[0.5555555555555556,\"#d8576b\"],[0.6666666666666666,\"#ed7953\"],[0.7777777777777778,\"#fb9f3a\"],[0.8888888888888888,\"#fdca26\"],[1.0,\"#f0f921\"]]}],\"contourcarpet\":[{\"type\":\"contourcarpet\",\"colorbar\":{\"outlinewidth\":0,\"ticks\":\"\"}}],\"contour\":[{\"type\":\"contour\",\"colorbar\":{\"outlinewidth\":0,\"ticks\":\"\"},\"colorscale\":[[0.0,\"#0d0887\"],[0.1111111111111111,\"#46039f\"],[0.2222222222222222,\"#7201a8\"],[0.3333333333333333,\"#9c179e\"],[0.4444444444444444,\"#bd3786\"],[0.5555555555555556,\"#d8576b\"],[0.6666666666666666,\"#ed7953\"],[0.7777777777777778,\"#fb9f3a\"],[0.8888888888888888,\"#fdca26\"],[1.0,\"#f0f921\"]]}],\"surface\":[{\"type\":\"surface\",\"colorbar\":{\"outlinewidth\":0,\"ticks\":\"\"},\"colorscale\":[[0.0,\"#0d0887\"],[0.1111111111111111,\"#46039f\"],[0.2222222222222222,\"#7201a8\"],[0.3333333333333333,\"#9c179e\"],[0.4444444444444444,\"#bd3786\"],[0.5555555555555556,\"#d8576b\"],[0.6666666666666666,\"#ed7953\"],[0.7777777777777778,\"#fb9f3a\"],[0.8888888888888888,\"#fdca26\"],[1.0,\"#f0f921\"]]}],\"mesh3d\":[{\"type\":\"mesh3d\",\"colorbar\":{\"outlinewidth\":0,\"ticks\":\"\"}}],\"scatter\":[{\"fillpattern\":{\"fillmode\":\"overlay\",\"size\":10,\"solidity\":0.2},\"type\":\"scatter\"}],\"parcoords\":[{\"type\":\"parcoords\",\"line\":{\"colorbar\":{\"outlinewidth\":0,\"ticks\":\"\"}}}],\"scatterpolargl\":[{\"type\":\"scatterpolargl\",\"marker\":{\"colorbar\":{\"outlinewidth\":0,\"ticks\":\"\"}}}],\"bar\":[{\"error_x\":{\"color\":\"#2a3f5f\"},\"error_y\":{\"color\":\"#2a3f5f\"},\"marker\":{\"line\":{\"color\":\"#E5ECF6\",\"width\":0.5},\"pattern\":{\"fillmode\":\"overlay\",\"size\":10,\"solidity\":0.2}},\"type\":\"bar\"}],\"scattergeo\":[{\"type\":\"scattergeo\",\"marker\":{\"colorbar\":{\"outlinewidth\":0,\"ticks\":\"\"}}}],\"scatterpolar\":[{\"type\":\"scatterpolar\",\"marker\":{\"colorbar\":{\"outlinewidth\":0,\"ticks\":\"\"}}}],\"histogram\":[{\"marker\":{\"pattern\":{\"fillmode\":\"overlay\",\"size\":10,\"solidity\":0.2}},\"type\":\"histogram\"}],\"scattergl\":[{\"type\":\"scattergl\",\"marker\":{\"colorbar\":{\"outlinewidth\":0,\"ticks\":\"\"}}}],\"scatter3d\":[{\"type\":\"scatter3d\",\"line\":{\"colorbar\":{\"outlinewidth\":0,\"ticks\":\"\"}},\"marker\":{\"colorbar\":{\"outlinewidth\":0,\"ticks\":\"\"}}}],\"scattermapbox\":[{\"type\":\"scattermapbox\",\"marker\":{\"colorbar\":{\"outlinewidth\":0,\"ticks\":\"\"}}}],\"scatterternary\":[{\"type\":\"scatterternary\",\"marker\":{\"colorbar\":{\"outlinewidth\":0,\"ticks\":\"\"}}}],\"scattercarpet\":[{\"type\":\"scattercarpet\",\"marker\":{\"colorbar\":{\"outlinewidth\":0,\"ticks\":\"\"}}}],\"carpet\":[{\"aaxis\":{\"endlinecolor\":\"#2a3f5f\",\"gridcolor\":\"white\",\"linecolor\":\"white\",\"minorgridcolor\":\"white\",\"startlinecolor\":\"#2a3f5f\"},\"baxis\":{\"endlinecolor\":\"#2a3f5f\",\"gridcolor\":\"white\",\"linecolor\":\"white\",\"minorgridcolor\":\"white\",\"startlinecolor\":\"#2a3f5f\"},\"type\":\"carpet\"}],\"table\":[{\"cells\":{\"fill\":{\"color\":\"#EBF0F8\"},\"line\":{\"color\":\"white\"}},\"header\":{\"fill\":{\"color\":\"#C8D4E3\"},\"line\":{\"color\":\"white\"}},\"type\":\"table\"}],\"barpolar\":[{\"marker\":{\"line\":{\"color\":\"#E5ECF6\",\"width\":0.5},\"pattern\":{\"fillmode\":\"overlay\",\"size\":10,\"solidity\":0.2}},\"type\":\"barpolar\"}],\"pie\":[{\"automargin\":true,\"type\":\"pie\"}]},\"layout\":{\"autotypenumbers\":\"strict\",\"colorway\":[\"#636efa\",\"#EF553B\",\"#00cc96\",\"#ab63fa\",\"#FFA15A\",\"#19d3f3\",\"#FF6692\",\"#B6E880\",\"#FF97FF\",\"#FECB52\"],\"font\":{\"color\":\"#2a3f5f\"},\"hovermode\":\"closest\",\"hoverlabel\":{\"align\":\"left\"},\"paper_bgcolor\":\"white\",\"plot_bgcolor\":\"#E5ECF6\",\"polar\":{\"bgcolor\":\"#E5ECF6\",\"angularaxis\":{\"gridcolor\":\"white\",\"linecolor\":\"white\",\"ticks\":\"\"},\"radialaxis\":{\"gridcolor\":\"white\",\"linecolor\":\"white\",\"ticks\":\"\"}},\"ternary\":{\"bgcolor\":\"#E5ECF6\",\"aaxis\":{\"gridcolor\":\"white\",\"linecolor\":\"white\",\"ticks\":\"\"},\"baxis\":{\"gridcolor\":\"white\",\"linecolor\":\"white\",\"ticks\":\"\"},\"caxis\":{\"gridcolor\":\"white\",\"linecolor\":\"white\",\"ticks\":\"\"}},\"coloraxis\":{\"colorbar\":{\"outlinewidth\":0,\"ticks\":\"\"}},\"colorscale\":{\"sequential\":[[0.0,\"#0d0887\"],[0.1111111111111111,\"#46039f\"],[0.2222222222222222,\"#7201a8\"],[0.3333333333333333,\"#9c179e\"],[0.4444444444444444,\"#bd3786\"],[0.5555555555555556,\"#d8576b\"],[0.6666666666666666,\"#ed7953\"],[0.7777777777777778,\"#fb9f3a\"],[0.8888888888888888,\"#fdca26\"],[1.0,\"#f0f921\"]],\"sequentialminus\":[[0.0,\"#0d0887\"],[0.1111111111111111,\"#46039f\"],[0.2222222222222222,\"#7201a8\"],[0.3333333333333333,\"#9c179e\"],[0.4444444444444444,\"#bd3786\"],[0.5555555555555556,\"#d8576b\"],[0.6666666666666666,\"#ed7953\"],[0.7777777777777778,\"#fb9f3a\"],[0.8888888888888888,\"#fdca26\"],[1.0,\"#f0f921\"]],\"diverging\":[[0,\"#8e0152\"],[0.1,\"#c51b7d\"],[0.2,\"#de77ae\"],[0.3,\"#f1b6da\"],[0.4,\"#fde0ef\"],[0.5,\"#f7f7f7\"],[0.6,\"#e6f5d0\"],[0.7,\"#b8e186\"],[0.8,\"#7fbc41\"],[0.9,\"#4d9221\"],[1,\"#276419\"]]},\"xaxis\":{\"gridcolor\":\"white\",\"linecolor\":\"white\",\"ticks\":\"\",\"title\":{\"standoff\":15},\"zerolinecolor\":\"white\",\"automargin\":true,\"zerolinewidth\":2},\"yaxis\":{\"gridcolor\":\"white\",\"linecolor\":\"white\",\"ticks\":\"\",\"title\":{\"standoff\":15},\"zerolinecolor\":\"white\",\"automargin\":true,\"zerolinewidth\":2},\"scene\":{\"xaxis\":{\"backgroundcolor\":\"#E5ECF6\",\"gridcolor\":\"white\",\"linecolor\":\"white\",\"showbackground\":true,\"ticks\":\"\",\"zerolinecolor\":\"white\",\"gridwidth\":2},\"yaxis\":{\"backgroundcolor\":\"#E5ECF6\",\"gridcolor\":\"white\",\"linecolor\":\"white\",\"showbackground\":true,\"ticks\":\"\",\"zerolinecolor\":\"white\",\"gridwidth\":2},\"zaxis\":{\"backgroundcolor\":\"#E5ECF6\",\"gridcolor\":\"white\",\"linecolor\":\"white\",\"showbackground\":true,\"ticks\":\"\",\"zerolinecolor\":\"white\",\"gridwidth\":2}},\"shapedefaults\":{\"line\":{\"color\":\"#2a3f5f\"}},\"annotationdefaults\":{\"arrowcolor\":\"#2a3f5f\",\"arrowhead\":0,\"arrowwidth\":1},\"geo\":{\"bgcolor\":\"white\",\"landcolor\":\"#E5ECF6\",\"subunitcolor\":\"white\",\"showland\":true,\"showlakes\":true,\"lakecolor\":\"white\"},\"title\":{\"x\":0.05},\"mapbox\":{\"style\":\"light\"}}},\"xaxis\":{\"anchor\":\"y\",\"domain\":[0.0,1.0],\"title\":{\"text\":\"occupation\"}},\"yaxis\":{\"anchor\":\"x\",\"domain\":[0.0,1.0],\"title\":{\"text\":\"Y\"}},\"legend\":{\"title\":{\"text\":\"destination\"},\"tracegroupgap\":0},\"margin\":{\"t\":60},\"barmode\":\"relative\"},                        {\"responsive\": true}                    ).then(function(){\n",
       "                            \n",
       "var gd = document.getElementById('a9bb864f-3d9c-49a5-b4fc-32820ccfdee3');\n",
       "var x = new MutationObserver(function (mutations, observer) {{\n",
       "        var display = window.getComputedStyle(gd).display;\n",
       "        if (!display || display === 'none') {{\n",
       "            console.log([gd, 'removed!']);\n",
       "            Plotly.purge(gd);\n",
       "            observer.disconnect();\n",
       "        }}\n",
       "}});\n",
       "\n",
       "// Listen for the removal of the full notebook cells\n",
       "var notebookContainer = gd.closest('#notebook-container');\n",
       "if (notebookContainer) {{\n",
       "    x.observe(notebookContainer, {childList: true});\n",
       "}}\n",
       "\n",
       "// Listen for the clearing of the current output cell\n",
       "var outputEl = gd.closest('.output');\n",
       "if (outputEl) {{\n",
       "    x.observe(outputEl, {childList: true});\n",
       "}}\n",
       "\n",
       "                        })                };                });            </script>        </div>"
      ]
     },
     "metadata": {},
     "output_type": "display_data"
    }
   ],
   "source": [
    "#Now I want to check on a few occupations and their role in the overall picture\n",
    "occupationList = ['Business & Financial', 'Management', 'Life Physical Social Science', 'Unemployed',\n",
    "                 'Healthcare Practitioners & Technical', 'Healthcare Support', 'Food Preparation & Serving Related']\n",
    "occDf = groupRestU20.loc[groupRestU20['occupation'].isin(occupationList)]\n",
    "occTrimDf = occDf[['time', 'coupon', 'age', 'occupation', 'RestaurantLessThan20', 'destination', 'Y']]\n",
    "#Let's try grouping by occupation and coloring a bar chart based on destination to get an idea of how people coming \n",
    "#off of work, to work, and people heading home behave differently to the coupons\n",
    "groupOccDf = occTrimDf.groupby(['occupation', 'destination'], as_index=False)[['Y']].sum()\n",
    "fig3 = px.bar(groupOccDf, x='occupation', y='Y', color='destination')\n",
    "fig3.show()\n",
    "#From this we can see that that unemployed people with no urgent place to be will most likely use the coupon more than other\n",
    "#people from different employments. It also shows that when people are heading to work they are much less likely to use the coupon\n",
    "#at all. One interesting point is the amount of unemployed people stating that their destination was work is weird.\n",
    "#This can show that there is more context to be learned from the unemployed checkbox on the survey."
   ]
  },
  {
   "cell_type": "code",
   "execution_count": 169,
   "metadata": {},
   "outputs": [
    {
     "data": {
      "application/vnd.plotly.v1+json": {
       "config": {
        "plotlyServerURL": "https://plot.ly"
       },
       "data": [
        {
         "alignmentgroup": "True",
         "hovertemplate": "destination=Home<br>occupation=%{x}<br>ratioY=%{y}<extra></extra>",
         "legendgroup": "Home",
         "marker": {
          "color": "#636efa",
          "pattern": {
           "shape": ""
          }
         },
         "name": "Home",
         "offsetgroup": "Home",
         "orientation": "v",
         "showlegend": true,
         "textposition": "auto",
         "type": "bar",
         "x": [
          "Business & Financial",
          "Food Preparation & Serving Related",
          "Healthcare Practitioners & Technical",
          "Healthcare Support",
          "Life Physical Social Science",
          "Management",
          "Unemployed"
         ],
         "xaxis": "x",
         "y": [
          0.6,
          0.4166666666666667,
          0.75,
          0.45454545454545453,
          0.5,
          0.5217391304347826,
          0.5921052631578947
         ],
         "yaxis": "y"
        },
        {
         "alignmentgroup": "True",
         "hovertemplate": "destination=No Urgent Place<br>occupation=%{x}<br>ratioY=%{y}<extra></extra>",
         "legendgroup": "No Urgent Place",
         "marker": {
          "color": "#EF553B",
          "pattern": {
           "shape": ""
          }
         },
         "name": "No Urgent Place",
         "offsetgroup": "No Urgent Place",
         "orientation": "v",
         "showlegend": true,
         "textposition": "auto",
         "type": "bar",
         "x": [
          "Business & Financial",
          "Food Preparation & Serving Related",
          "Healthcare Practitioners & Technical",
          "Healthcare Support",
          "Life Physical Social Science",
          "Management",
          "Unemployed"
         ],
         "xaxis": "x",
         "y": [
          0.7605633802816901,
          0.8205128205128205,
          0.8214285714285714,
          0.8333333333333334,
          0.88,
          0.8,
          0.7740585774058577
         ],
         "yaxis": "y"
        },
        {
         "alignmentgroup": "True",
         "hovertemplate": "destination=Work<br>occupation=%{x}<br>ratioY=%{y}<extra></extra>",
         "legendgroup": "Work",
         "marker": {
          "color": "#00cc96",
          "pattern": {
           "shape": ""
          }
         },
         "name": "Work",
         "offsetgroup": "Work",
         "orientation": "v",
         "showlegend": true,
         "textposition": "auto",
         "type": "bar",
         "x": [
          "Business & Financial",
          "Food Preparation & Serving Related",
          "Healthcare Practitioners & Technical",
          "Healthcare Support",
          "Life Physical Social Science",
          "Management",
          "Unemployed"
         ],
         "xaxis": "x",
         "y": [
          0.47058823529411764,
          0.6,
          0.6923076923076923,
          0.75,
          0.7777777777777778,
          0.6486486486486487,
          0.43902439024390244
         ],
         "yaxis": "y"
        }
       ],
       "layout": {
        "barmode": "relative",
        "legend": {
         "title": {
          "text": "destination"
         },
         "tracegroupgap": 0
        },
        "margin": {
         "t": 60
        },
        "template": {
         "data": {
          "bar": [
           {
            "error_x": {
             "color": "#2a3f5f"
            },
            "error_y": {
             "color": "#2a3f5f"
            },
            "marker": {
             "line": {
              "color": "#E5ECF6",
              "width": 0.5
             },
             "pattern": {
              "fillmode": "overlay",
              "size": 10,
              "solidity": 0.2
             }
            },
            "type": "bar"
           }
          ],
          "barpolar": [
           {
            "marker": {
             "line": {
              "color": "#E5ECF6",
              "width": 0.5
             },
             "pattern": {
              "fillmode": "overlay",
              "size": 10,
              "solidity": 0.2
             }
            },
            "type": "barpolar"
           }
          ],
          "carpet": [
           {
            "aaxis": {
             "endlinecolor": "#2a3f5f",
             "gridcolor": "white",
             "linecolor": "white",
             "minorgridcolor": "white",
             "startlinecolor": "#2a3f5f"
            },
            "baxis": {
             "endlinecolor": "#2a3f5f",
             "gridcolor": "white",
             "linecolor": "white",
             "minorgridcolor": "white",
             "startlinecolor": "#2a3f5f"
            },
            "type": "carpet"
           }
          ],
          "choropleth": [
           {
            "colorbar": {
             "outlinewidth": 0,
             "ticks": ""
            },
            "type": "choropleth"
           }
          ],
          "contour": [
           {
            "colorbar": {
             "outlinewidth": 0,
             "ticks": ""
            },
            "colorscale": [
             [
              0,
              "#0d0887"
             ],
             [
              0.1111111111111111,
              "#46039f"
             ],
             [
              0.2222222222222222,
              "#7201a8"
             ],
             [
              0.3333333333333333,
              "#9c179e"
             ],
             [
              0.4444444444444444,
              "#bd3786"
             ],
             [
              0.5555555555555556,
              "#d8576b"
             ],
             [
              0.6666666666666666,
              "#ed7953"
             ],
             [
              0.7777777777777778,
              "#fb9f3a"
             ],
             [
              0.8888888888888888,
              "#fdca26"
             ],
             [
              1,
              "#f0f921"
             ]
            ],
            "type": "contour"
           }
          ],
          "contourcarpet": [
           {
            "colorbar": {
             "outlinewidth": 0,
             "ticks": ""
            },
            "type": "contourcarpet"
           }
          ],
          "heatmap": [
           {
            "colorbar": {
             "outlinewidth": 0,
             "ticks": ""
            },
            "colorscale": [
             [
              0,
              "#0d0887"
             ],
             [
              0.1111111111111111,
              "#46039f"
             ],
             [
              0.2222222222222222,
              "#7201a8"
             ],
             [
              0.3333333333333333,
              "#9c179e"
             ],
             [
              0.4444444444444444,
              "#bd3786"
             ],
             [
              0.5555555555555556,
              "#d8576b"
             ],
             [
              0.6666666666666666,
              "#ed7953"
             ],
             [
              0.7777777777777778,
              "#fb9f3a"
             ],
             [
              0.8888888888888888,
              "#fdca26"
             ],
             [
              1,
              "#f0f921"
             ]
            ],
            "type": "heatmap"
           }
          ],
          "heatmapgl": [
           {
            "colorbar": {
             "outlinewidth": 0,
             "ticks": ""
            },
            "colorscale": [
             [
              0,
              "#0d0887"
             ],
             [
              0.1111111111111111,
              "#46039f"
             ],
             [
              0.2222222222222222,
              "#7201a8"
             ],
             [
              0.3333333333333333,
              "#9c179e"
             ],
             [
              0.4444444444444444,
              "#bd3786"
             ],
             [
              0.5555555555555556,
              "#d8576b"
             ],
             [
              0.6666666666666666,
              "#ed7953"
             ],
             [
              0.7777777777777778,
              "#fb9f3a"
             ],
             [
              0.8888888888888888,
              "#fdca26"
             ],
             [
              1,
              "#f0f921"
             ]
            ],
            "type": "heatmapgl"
           }
          ],
          "histogram": [
           {
            "marker": {
             "pattern": {
              "fillmode": "overlay",
              "size": 10,
              "solidity": 0.2
             }
            },
            "type": "histogram"
           }
          ],
          "histogram2d": [
           {
            "colorbar": {
             "outlinewidth": 0,
             "ticks": ""
            },
            "colorscale": [
             [
              0,
              "#0d0887"
             ],
             [
              0.1111111111111111,
              "#46039f"
             ],
             [
              0.2222222222222222,
              "#7201a8"
             ],
             [
              0.3333333333333333,
              "#9c179e"
             ],
             [
              0.4444444444444444,
              "#bd3786"
             ],
             [
              0.5555555555555556,
              "#d8576b"
             ],
             [
              0.6666666666666666,
              "#ed7953"
             ],
             [
              0.7777777777777778,
              "#fb9f3a"
             ],
             [
              0.8888888888888888,
              "#fdca26"
             ],
             [
              1,
              "#f0f921"
             ]
            ],
            "type": "histogram2d"
           }
          ],
          "histogram2dcontour": [
           {
            "colorbar": {
             "outlinewidth": 0,
             "ticks": ""
            },
            "colorscale": [
             [
              0,
              "#0d0887"
             ],
             [
              0.1111111111111111,
              "#46039f"
             ],
             [
              0.2222222222222222,
              "#7201a8"
             ],
             [
              0.3333333333333333,
              "#9c179e"
             ],
             [
              0.4444444444444444,
              "#bd3786"
             ],
             [
              0.5555555555555556,
              "#d8576b"
             ],
             [
              0.6666666666666666,
              "#ed7953"
             ],
             [
              0.7777777777777778,
              "#fb9f3a"
             ],
             [
              0.8888888888888888,
              "#fdca26"
             ],
             [
              1,
              "#f0f921"
             ]
            ],
            "type": "histogram2dcontour"
           }
          ],
          "mesh3d": [
           {
            "colorbar": {
             "outlinewidth": 0,
             "ticks": ""
            },
            "type": "mesh3d"
           }
          ],
          "parcoords": [
           {
            "line": {
             "colorbar": {
              "outlinewidth": 0,
              "ticks": ""
             }
            },
            "type": "parcoords"
           }
          ],
          "pie": [
           {
            "automargin": true,
            "type": "pie"
           }
          ],
          "scatter": [
           {
            "fillpattern": {
             "fillmode": "overlay",
             "size": 10,
             "solidity": 0.2
            },
            "type": "scatter"
           }
          ],
          "scatter3d": [
           {
            "line": {
             "colorbar": {
              "outlinewidth": 0,
              "ticks": ""
             }
            },
            "marker": {
             "colorbar": {
              "outlinewidth": 0,
              "ticks": ""
             }
            },
            "type": "scatter3d"
           }
          ],
          "scattercarpet": [
           {
            "marker": {
             "colorbar": {
              "outlinewidth": 0,
              "ticks": ""
             }
            },
            "type": "scattercarpet"
           }
          ],
          "scattergeo": [
           {
            "marker": {
             "colorbar": {
              "outlinewidth": 0,
              "ticks": ""
             }
            },
            "type": "scattergeo"
           }
          ],
          "scattergl": [
           {
            "marker": {
             "colorbar": {
              "outlinewidth": 0,
              "ticks": ""
             }
            },
            "type": "scattergl"
           }
          ],
          "scattermapbox": [
           {
            "marker": {
             "colorbar": {
              "outlinewidth": 0,
              "ticks": ""
             }
            },
            "type": "scattermapbox"
           }
          ],
          "scatterpolar": [
           {
            "marker": {
             "colorbar": {
              "outlinewidth": 0,
              "ticks": ""
             }
            },
            "type": "scatterpolar"
           }
          ],
          "scatterpolargl": [
           {
            "marker": {
             "colorbar": {
              "outlinewidth": 0,
              "ticks": ""
             }
            },
            "type": "scatterpolargl"
           }
          ],
          "scatterternary": [
           {
            "marker": {
             "colorbar": {
              "outlinewidth": 0,
              "ticks": ""
             }
            },
            "type": "scatterternary"
           }
          ],
          "surface": [
           {
            "colorbar": {
             "outlinewidth": 0,
             "ticks": ""
            },
            "colorscale": [
             [
              0,
              "#0d0887"
             ],
             [
              0.1111111111111111,
              "#46039f"
             ],
             [
              0.2222222222222222,
              "#7201a8"
             ],
             [
              0.3333333333333333,
              "#9c179e"
             ],
             [
              0.4444444444444444,
              "#bd3786"
             ],
             [
              0.5555555555555556,
              "#d8576b"
             ],
             [
              0.6666666666666666,
              "#ed7953"
             ],
             [
              0.7777777777777778,
              "#fb9f3a"
             ],
             [
              0.8888888888888888,
              "#fdca26"
             ],
             [
              1,
              "#f0f921"
             ]
            ],
            "type": "surface"
           }
          ],
          "table": [
           {
            "cells": {
             "fill": {
              "color": "#EBF0F8"
             },
             "line": {
              "color": "white"
             }
            },
            "header": {
             "fill": {
              "color": "#C8D4E3"
             },
             "line": {
              "color": "white"
             }
            },
            "type": "table"
           }
          ]
         },
         "layout": {
          "annotationdefaults": {
           "arrowcolor": "#2a3f5f",
           "arrowhead": 0,
           "arrowwidth": 1
          },
          "autotypenumbers": "strict",
          "coloraxis": {
           "colorbar": {
            "outlinewidth": 0,
            "ticks": ""
           }
          },
          "colorscale": {
           "diverging": [
            [
             0,
             "#8e0152"
            ],
            [
             0.1,
             "#c51b7d"
            ],
            [
             0.2,
             "#de77ae"
            ],
            [
             0.3,
             "#f1b6da"
            ],
            [
             0.4,
             "#fde0ef"
            ],
            [
             0.5,
             "#f7f7f7"
            ],
            [
             0.6,
             "#e6f5d0"
            ],
            [
             0.7,
             "#b8e186"
            ],
            [
             0.8,
             "#7fbc41"
            ],
            [
             0.9,
             "#4d9221"
            ],
            [
             1,
             "#276419"
            ]
           ],
           "sequential": [
            [
             0,
             "#0d0887"
            ],
            [
             0.1111111111111111,
             "#46039f"
            ],
            [
             0.2222222222222222,
             "#7201a8"
            ],
            [
             0.3333333333333333,
             "#9c179e"
            ],
            [
             0.4444444444444444,
             "#bd3786"
            ],
            [
             0.5555555555555556,
             "#d8576b"
            ],
            [
             0.6666666666666666,
             "#ed7953"
            ],
            [
             0.7777777777777778,
             "#fb9f3a"
            ],
            [
             0.8888888888888888,
             "#fdca26"
            ],
            [
             1,
             "#f0f921"
            ]
           ],
           "sequentialminus": [
            [
             0,
             "#0d0887"
            ],
            [
             0.1111111111111111,
             "#46039f"
            ],
            [
             0.2222222222222222,
             "#7201a8"
            ],
            [
             0.3333333333333333,
             "#9c179e"
            ],
            [
             0.4444444444444444,
             "#bd3786"
            ],
            [
             0.5555555555555556,
             "#d8576b"
            ],
            [
             0.6666666666666666,
             "#ed7953"
            ],
            [
             0.7777777777777778,
             "#fb9f3a"
            ],
            [
             0.8888888888888888,
             "#fdca26"
            ],
            [
             1,
             "#f0f921"
            ]
           ]
          },
          "colorway": [
           "#636efa",
           "#EF553B",
           "#00cc96",
           "#ab63fa",
           "#FFA15A",
           "#19d3f3",
           "#FF6692",
           "#B6E880",
           "#FF97FF",
           "#FECB52"
          ],
          "font": {
           "color": "#2a3f5f"
          },
          "geo": {
           "bgcolor": "white",
           "lakecolor": "white",
           "landcolor": "#E5ECF6",
           "showlakes": true,
           "showland": true,
           "subunitcolor": "white"
          },
          "hoverlabel": {
           "align": "left"
          },
          "hovermode": "closest",
          "mapbox": {
           "style": "light"
          },
          "paper_bgcolor": "white",
          "plot_bgcolor": "#E5ECF6",
          "polar": {
           "angularaxis": {
            "gridcolor": "white",
            "linecolor": "white",
            "ticks": ""
           },
           "bgcolor": "#E5ECF6",
           "radialaxis": {
            "gridcolor": "white",
            "linecolor": "white",
            "ticks": ""
           }
          },
          "scene": {
           "xaxis": {
            "backgroundcolor": "#E5ECF6",
            "gridcolor": "white",
            "gridwidth": 2,
            "linecolor": "white",
            "showbackground": true,
            "ticks": "",
            "zerolinecolor": "white"
           },
           "yaxis": {
            "backgroundcolor": "#E5ECF6",
            "gridcolor": "white",
            "gridwidth": 2,
            "linecolor": "white",
            "showbackground": true,
            "ticks": "",
            "zerolinecolor": "white"
           },
           "zaxis": {
            "backgroundcolor": "#E5ECF6",
            "gridcolor": "white",
            "gridwidth": 2,
            "linecolor": "white",
            "showbackground": true,
            "ticks": "",
            "zerolinecolor": "white"
           }
          },
          "shapedefaults": {
           "line": {
            "color": "#2a3f5f"
           }
          },
          "ternary": {
           "aaxis": {
            "gridcolor": "white",
            "linecolor": "white",
            "ticks": ""
           },
           "baxis": {
            "gridcolor": "white",
            "linecolor": "white",
            "ticks": ""
           },
           "bgcolor": "#E5ECF6",
           "caxis": {
            "gridcolor": "white",
            "linecolor": "white",
            "ticks": ""
           }
          },
          "title": {
           "x": 0.05
          },
          "xaxis": {
           "automargin": true,
           "gridcolor": "white",
           "linecolor": "white",
           "ticks": "",
           "title": {
            "standoff": 15
           },
           "zerolinecolor": "white",
           "zerolinewidth": 2
          },
          "yaxis": {
           "automargin": true,
           "gridcolor": "white",
           "linecolor": "white",
           "ticks": "",
           "title": {
            "standoff": 15
           },
           "zerolinecolor": "white",
           "zerolinewidth": 2
          }
         }
        },
        "xaxis": {
         "anchor": "y",
         "domain": [
          0,
          1
         ],
         "title": {
          "text": "occupation"
         }
        },
        "yaxis": {
         "anchor": "x",
         "domain": [
          0,
          1
         ],
         "title": {
          "text": "ratioY"
         }
        }
       }
      },
      "text/html": [
       "<div>                            <div id=\"fb09ece6-88ee-4f42-86df-efadb9b18002\" class=\"plotly-graph-div\" style=\"height:525px; width:100%;\"></div>            <script type=\"text/javascript\">                require([\"plotly\"], function(Plotly) {                    window.PLOTLYENV=window.PLOTLYENV || {};                                    if (document.getElementById(\"fb09ece6-88ee-4f42-86df-efadb9b18002\")) {                    Plotly.newPlot(                        \"fb09ece6-88ee-4f42-86df-efadb9b18002\",                        [{\"alignmentgroup\":\"True\",\"hovertemplate\":\"destination=Home<br>occupation=%{x}<br>ratioY=%{y}<extra></extra>\",\"legendgroup\":\"Home\",\"marker\":{\"color\":\"#636efa\",\"pattern\":{\"shape\":\"\"}},\"name\":\"Home\",\"offsetgroup\":\"Home\",\"orientation\":\"v\",\"showlegend\":true,\"textposition\":\"auto\",\"x\":[\"Business & Financial\",\"Food Preparation & Serving Related\",\"Healthcare Practitioners & Technical\",\"Healthcare Support\",\"Life Physical Social Science\",\"Management\",\"Unemployed\"],\"xaxis\":\"x\",\"y\":[0.6,0.4166666666666667,0.75,0.45454545454545453,0.5,0.5217391304347826,0.5921052631578947],\"yaxis\":\"y\",\"type\":\"bar\"},{\"alignmentgroup\":\"True\",\"hovertemplate\":\"destination=No Urgent Place<br>occupation=%{x}<br>ratioY=%{y}<extra></extra>\",\"legendgroup\":\"No Urgent Place\",\"marker\":{\"color\":\"#EF553B\",\"pattern\":{\"shape\":\"\"}},\"name\":\"No Urgent Place\",\"offsetgroup\":\"No Urgent Place\",\"orientation\":\"v\",\"showlegend\":true,\"textposition\":\"auto\",\"x\":[\"Business & Financial\",\"Food Preparation & Serving Related\",\"Healthcare Practitioners & Technical\",\"Healthcare Support\",\"Life Physical Social Science\",\"Management\",\"Unemployed\"],\"xaxis\":\"x\",\"y\":[0.7605633802816901,0.8205128205128205,0.8214285714285714,0.8333333333333334,0.88,0.8,0.7740585774058577],\"yaxis\":\"y\",\"type\":\"bar\"},{\"alignmentgroup\":\"True\",\"hovertemplate\":\"destination=Work<br>occupation=%{x}<br>ratioY=%{y}<extra></extra>\",\"legendgroup\":\"Work\",\"marker\":{\"color\":\"#00cc96\",\"pattern\":{\"shape\":\"\"}},\"name\":\"Work\",\"offsetgroup\":\"Work\",\"orientation\":\"v\",\"showlegend\":true,\"textposition\":\"auto\",\"x\":[\"Business & Financial\",\"Food Preparation & Serving Related\",\"Healthcare Practitioners & Technical\",\"Healthcare Support\",\"Life Physical Social Science\",\"Management\",\"Unemployed\"],\"xaxis\":\"x\",\"y\":[0.47058823529411764,0.6,0.6923076923076923,0.75,0.7777777777777778,0.6486486486486487,0.43902439024390244],\"yaxis\":\"y\",\"type\":\"bar\"}],                        {\"template\":{\"data\":{\"histogram2dcontour\":[{\"type\":\"histogram2dcontour\",\"colorbar\":{\"outlinewidth\":0,\"ticks\":\"\"},\"colorscale\":[[0.0,\"#0d0887\"],[0.1111111111111111,\"#46039f\"],[0.2222222222222222,\"#7201a8\"],[0.3333333333333333,\"#9c179e\"],[0.4444444444444444,\"#bd3786\"],[0.5555555555555556,\"#d8576b\"],[0.6666666666666666,\"#ed7953\"],[0.7777777777777778,\"#fb9f3a\"],[0.8888888888888888,\"#fdca26\"],[1.0,\"#f0f921\"]]}],\"choropleth\":[{\"type\":\"choropleth\",\"colorbar\":{\"outlinewidth\":0,\"ticks\":\"\"}}],\"histogram2d\":[{\"type\":\"histogram2d\",\"colorbar\":{\"outlinewidth\":0,\"ticks\":\"\"},\"colorscale\":[[0.0,\"#0d0887\"],[0.1111111111111111,\"#46039f\"],[0.2222222222222222,\"#7201a8\"],[0.3333333333333333,\"#9c179e\"],[0.4444444444444444,\"#bd3786\"],[0.5555555555555556,\"#d8576b\"],[0.6666666666666666,\"#ed7953\"],[0.7777777777777778,\"#fb9f3a\"],[0.8888888888888888,\"#fdca26\"],[1.0,\"#f0f921\"]]}],\"heatmap\":[{\"type\":\"heatmap\",\"colorbar\":{\"outlinewidth\":0,\"ticks\":\"\"},\"colorscale\":[[0.0,\"#0d0887\"],[0.1111111111111111,\"#46039f\"],[0.2222222222222222,\"#7201a8\"],[0.3333333333333333,\"#9c179e\"],[0.4444444444444444,\"#bd3786\"],[0.5555555555555556,\"#d8576b\"],[0.6666666666666666,\"#ed7953\"],[0.7777777777777778,\"#fb9f3a\"],[0.8888888888888888,\"#fdca26\"],[1.0,\"#f0f921\"]]}],\"heatmapgl\":[{\"type\":\"heatmapgl\",\"colorbar\":{\"outlinewidth\":0,\"ticks\":\"\"},\"colorscale\":[[0.0,\"#0d0887\"],[0.1111111111111111,\"#46039f\"],[0.2222222222222222,\"#7201a8\"],[0.3333333333333333,\"#9c179e\"],[0.4444444444444444,\"#bd3786\"],[0.5555555555555556,\"#d8576b\"],[0.6666666666666666,\"#ed7953\"],[0.7777777777777778,\"#fb9f3a\"],[0.8888888888888888,\"#fdca26\"],[1.0,\"#f0f921\"]]}],\"contourcarpet\":[{\"type\":\"contourcarpet\",\"colorbar\":{\"outlinewidth\":0,\"ticks\":\"\"}}],\"contour\":[{\"type\":\"contour\",\"colorbar\":{\"outlinewidth\":0,\"ticks\":\"\"},\"colorscale\":[[0.0,\"#0d0887\"],[0.1111111111111111,\"#46039f\"],[0.2222222222222222,\"#7201a8\"],[0.3333333333333333,\"#9c179e\"],[0.4444444444444444,\"#bd3786\"],[0.5555555555555556,\"#d8576b\"],[0.6666666666666666,\"#ed7953\"],[0.7777777777777778,\"#fb9f3a\"],[0.8888888888888888,\"#fdca26\"],[1.0,\"#f0f921\"]]}],\"surface\":[{\"type\":\"surface\",\"colorbar\":{\"outlinewidth\":0,\"ticks\":\"\"},\"colorscale\":[[0.0,\"#0d0887\"],[0.1111111111111111,\"#46039f\"],[0.2222222222222222,\"#7201a8\"],[0.3333333333333333,\"#9c179e\"],[0.4444444444444444,\"#bd3786\"],[0.5555555555555556,\"#d8576b\"],[0.6666666666666666,\"#ed7953\"],[0.7777777777777778,\"#fb9f3a\"],[0.8888888888888888,\"#fdca26\"],[1.0,\"#f0f921\"]]}],\"mesh3d\":[{\"type\":\"mesh3d\",\"colorbar\":{\"outlinewidth\":0,\"ticks\":\"\"}}],\"scatter\":[{\"fillpattern\":{\"fillmode\":\"overlay\",\"size\":10,\"solidity\":0.2},\"type\":\"scatter\"}],\"parcoords\":[{\"type\":\"parcoords\",\"line\":{\"colorbar\":{\"outlinewidth\":0,\"ticks\":\"\"}}}],\"scatterpolargl\":[{\"type\":\"scatterpolargl\",\"marker\":{\"colorbar\":{\"outlinewidth\":0,\"ticks\":\"\"}}}],\"bar\":[{\"error_x\":{\"color\":\"#2a3f5f\"},\"error_y\":{\"color\":\"#2a3f5f\"},\"marker\":{\"line\":{\"color\":\"#E5ECF6\",\"width\":0.5},\"pattern\":{\"fillmode\":\"overlay\",\"size\":10,\"solidity\":0.2}},\"type\":\"bar\"}],\"scattergeo\":[{\"type\":\"scattergeo\",\"marker\":{\"colorbar\":{\"outlinewidth\":0,\"ticks\":\"\"}}}],\"scatterpolar\":[{\"type\":\"scatterpolar\",\"marker\":{\"colorbar\":{\"outlinewidth\":0,\"ticks\":\"\"}}}],\"histogram\":[{\"marker\":{\"pattern\":{\"fillmode\":\"overlay\",\"size\":10,\"solidity\":0.2}},\"type\":\"histogram\"}],\"scattergl\":[{\"type\":\"scattergl\",\"marker\":{\"colorbar\":{\"outlinewidth\":0,\"ticks\":\"\"}}}],\"scatter3d\":[{\"type\":\"scatter3d\",\"line\":{\"colorbar\":{\"outlinewidth\":0,\"ticks\":\"\"}},\"marker\":{\"colorbar\":{\"outlinewidth\":0,\"ticks\":\"\"}}}],\"scattermapbox\":[{\"type\":\"scattermapbox\",\"marker\":{\"colorbar\":{\"outlinewidth\":0,\"ticks\":\"\"}}}],\"scatterternary\":[{\"type\":\"scatterternary\",\"marker\":{\"colorbar\":{\"outlinewidth\":0,\"ticks\":\"\"}}}],\"scattercarpet\":[{\"type\":\"scattercarpet\",\"marker\":{\"colorbar\":{\"outlinewidth\":0,\"ticks\":\"\"}}}],\"carpet\":[{\"aaxis\":{\"endlinecolor\":\"#2a3f5f\",\"gridcolor\":\"white\",\"linecolor\":\"white\",\"minorgridcolor\":\"white\",\"startlinecolor\":\"#2a3f5f\"},\"baxis\":{\"endlinecolor\":\"#2a3f5f\",\"gridcolor\":\"white\",\"linecolor\":\"white\",\"minorgridcolor\":\"white\",\"startlinecolor\":\"#2a3f5f\"},\"type\":\"carpet\"}],\"table\":[{\"cells\":{\"fill\":{\"color\":\"#EBF0F8\"},\"line\":{\"color\":\"white\"}},\"header\":{\"fill\":{\"color\":\"#C8D4E3\"},\"line\":{\"color\":\"white\"}},\"type\":\"table\"}],\"barpolar\":[{\"marker\":{\"line\":{\"color\":\"#E5ECF6\",\"width\":0.5},\"pattern\":{\"fillmode\":\"overlay\",\"size\":10,\"solidity\":0.2}},\"type\":\"barpolar\"}],\"pie\":[{\"automargin\":true,\"type\":\"pie\"}]},\"layout\":{\"autotypenumbers\":\"strict\",\"colorway\":[\"#636efa\",\"#EF553B\",\"#00cc96\",\"#ab63fa\",\"#FFA15A\",\"#19d3f3\",\"#FF6692\",\"#B6E880\",\"#FF97FF\",\"#FECB52\"],\"font\":{\"color\":\"#2a3f5f\"},\"hovermode\":\"closest\",\"hoverlabel\":{\"align\":\"left\"},\"paper_bgcolor\":\"white\",\"plot_bgcolor\":\"#E5ECF6\",\"polar\":{\"bgcolor\":\"#E5ECF6\",\"angularaxis\":{\"gridcolor\":\"white\",\"linecolor\":\"white\",\"ticks\":\"\"},\"radialaxis\":{\"gridcolor\":\"white\",\"linecolor\":\"white\",\"ticks\":\"\"}},\"ternary\":{\"bgcolor\":\"#E5ECF6\",\"aaxis\":{\"gridcolor\":\"white\",\"linecolor\":\"white\",\"ticks\":\"\"},\"baxis\":{\"gridcolor\":\"white\",\"linecolor\":\"white\",\"ticks\":\"\"},\"caxis\":{\"gridcolor\":\"white\",\"linecolor\":\"white\",\"ticks\":\"\"}},\"coloraxis\":{\"colorbar\":{\"outlinewidth\":0,\"ticks\":\"\"}},\"colorscale\":{\"sequential\":[[0.0,\"#0d0887\"],[0.1111111111111111,\"#46039f\"],[0.2222222222222222,\"#7201a8\"],[0.3333333333333333,\"#9c179e\"],[0.4444444444444444,\"#bd3786\"],[0.5555555555555556,\"#d8576b\"],[0.6666666666666666,\"#ed7953\"],[0.7777777777777778,\"#fb9f3a\"],[0.8888888888888888,\"#fdca26\"],[1.0,\"#f0f921\"]],\"sequentialminus\":[[0.0,\"#0d0887\"],[0.1111111111111111,\"#46039f\"],[0.2222222222222222,\"#7201a8\"],[0.3333333333333333,\"#9c179e\"],[0.4444444444444444,\"#bd3786\"],[0.5555555555555556,\"#d8576b\"],[0.6666666666666666,\"#ed7953\"],[0.7777777777777778,\"#fb9f3a\"],[0.8888888888888888,\"#fdca26\"],[1.0,\"#f0f921\"]],\"diverging\":[[0,\"#8e0152\"],[0.1,\"#c51b7d\"],[0.2,\"#de77ae\"],[0.3,\"#f1b6da\"],[0.4,\"#fde0ef\"],[0.5,\"#f7f7f7\"],[0.6,\"#e6f5d0\"],[0.7,\"#b8e186\"],[0.8,\"#7fbc41\"],[0.9,\"#4d9221\"],[1,\"#276419\"]]},\"xaxis\":{\"gridcolor\":\"white\",\"linecolor\":\"white\",\"ticks\":\"\",\"title\":{\"standoff\":15},\"zerolinecolor\":\"white\",\"automargin\":true,\"zerolinewidth\":2},\"yaxis\":{\"gridcolor\":\"white\",\"linecolor\":\"white\",\"ticks\":\"\",\"title\":{\"standoff\":15},\"zerolinecolor\":\"white\",\"automargin\":true,\"zerolinewidth\":2},\"scene\":{\"xaxis\":{\"backgroundcolor\":\"#E5ECF6\",\"gridcolor\":\"white\",\"linecolor\":\"white\",\"showbackground\":true,\"ticks\":\"\",\"zerolinecolor\":\"white\",\"gridwidth\":2},\"yaxis\":{\"backgroundcolor\":\"#E5ECF6\",\"gridcolor\":\"white\",\"linecolor\":\"white\",\"showbackground\":true,\"ticks\":\"\",\"zerolinecolor\":\"white\",\"gridwidth\":2},\"zaxis\":{\"backgroundcolor\":\"#E5ECF6\",\"gridcolor\":\"white\",\"linecolor\":\"white\",\"showbackground\":true,\"ticks\":\"\",\"zerolinecolor\":\"white\",\"gridwidth\":2}},\"shapedefaults\":{\"line\":{\"color\":\"#2a3f5f\"}},\"annotationdefaults\":{\"arrowcolor\":\"#2a3f5f\",\"arrowhead\":0,\"arrowwidth\":1},\"geo\":{\"bgcolor\":\"white\",\"landcolor\":\"#E5ECF6\",\"subunitcolor\":\"white\",\"showland\":true,\"showlakes\":true,\"lakecolor\":\"white\"},\"title\":{\"x\":0.05},\"mapbox\":{\"style\":\"light\"}}},\"xaxis\":{\"anchor\":\"y\",\"domain\":[0.0,1.0],\"title\":{\"text\":\"occupation\"}},\"yaxis\":{\"anchor\":\"x\",\"domain\":[0.0,1.0],\"title\":{\"text\":\"ratioY\"}},\"legend\":{\"title\":{\"text\":\"destination\"},\"tracegroupgap\":0},\"margin\":{\"t\":60},\"barmode\":\"relative\"},                        {\"responsive\": true}                    ).then(function(){\n",
       "                            \n",
       "var gd = document.getElementById('fb09ece6-88ee-4f42-86df-efadb9b18002');\n",
       "var x = new MutationObserver(function (mutations, observer) {{\n",
       "        var display = window.getComputedStyle(gd).display;\n",
       "        if (!display || display === 'none') {{\n",
       "            console.log([gd, 'removed!']);\n",
       "            Plotly.purge(gd);\n",
       "            observer.disconnect();\n",
       "        }}\n",
       "}});\n",
       "\n",
       "// Listen for the removal of the full notebook cells\n",
       "var notebookContainer = gd.closest('#notebook-container');\n",
       "if (notebookContainer) {{\n",
       "    x.observe(notebookContainer, {childList: true});\n",
       "}}\n",
       "\n",
       "// Listen for the clearing of the current output cell\n",
       "var outputEl = gd.closest('.output');\n",
       "if (outputEl) {{\n",
       "    x.observe(outputEl, {childList: true});\n",
       "}}\n",
       "\n",
       "                        })                };                });            </script>        </div>"
      ]
     },
     "metadata": {},
     "output_type": "display_data"
    }
   ],
   "source": [
    "holdCountDf = occTrimDf.groupby(['occupation', 'destination'], as_index=False)[['Y']].count()\n",
    "groupOccDf['count'] = holdCountDf.Y\n",
    "groupOccDf['ratioY'] = groupOccDf['Y']/groupOccDf['count']\n",
    "fig4 = px.bar(groupOccDf, x='occupation', y='ratioY', color='destination')\n",
    "fig4.show()\n",
    "#Here we have an entirely new look at the same exact data, except we ratioed the amount of people in each category, i.e.\n",
    "# occupation and then destination, to the amount of people that used the coupon. Here, we can see that healthcare practioners\n",
    "# have an incredibly stable chance of using the coupon no matter where they are heading. This can be used to gauge which people\n",
    "# would be actually using this coupon on just a few questions. For example, are you in the Life Physical Social Science occupation\n",
    "#and on your way to work? Great, we can feel safe giving them this coupon knowing 77% of people that fall in that category do\n",
    "#in fact use it."
   ]
  },
  {
   "cell_type": "code",
   "execution_count": null,
   "metadata": {},
   "outputs": [],
   "source": []
  }
 ],
 "metadata": {
  "kernelspec": {
   "display_name": "Python 3 (ipykernel)",
   "language": "python",
   "name": "python3"
  },
  "language_info": {
   "codemirror_mode": {
    "name": "ipython",
    "version": 3
   },
   "file_extension": ".py",
   "mimetype": "text/x-python",
   "name": "python",
   "nbconvert_exporter": "python",
   "pygments_lexer": "ipython3",
   "version": "3.9.13"
  },
  "widgets": {
   "application/vnd.jupyter.widget-state+json": {
    "state": {},
    "version_major": 2,
    "version_minor": 0
   }
  }
 },
 "nbformat": 4,
 "nbformat_minor": 4
}
